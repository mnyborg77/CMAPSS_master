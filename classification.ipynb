{
 "cells": [
  {
   "cell_type": "markdown",
   "metadata": {
    "id": "SYJAOZHMxJTY"
   },
   "source": [
    "# Functions"
   ]
  },
  {
   "cell_type": "code",
   "execution_count": null,
   "metadata": {
    "colab": {
     "base_uri": "https://localhost:8080/"
    },
    "id": "mL_Xfg1MwRyq",
    "outputId": "075d9229-5f05-4d88-b617-85d062e923d8"
   },
   "outputs": [
    {
     "name": "stdout",
     "output_type": "stream",
     "text": [
      "Drive already mounted at /content/drive; to attempt to forcibly remount, call drive.mount(\"/content/drive\", force_remount=True).\n"
     ]
    }
   ],
   "source": [
    "\n",
    "import matplotlib.pyplot as plt\n",
    "import random\n",
    "import datetime, os, time\n",
    "import io\n",
    "import seaborn as sns\n",
    "import pickle\n",
    "import pandas as pd\n",
    "import numpy as np\n",
    "\n",
    "from sklearn.metrics import mean_squared_error, r2_score, accuracy_score, classification_report, confusion_matrix\n",
    "import tensorflow as tf\n",
    "from keras import backend as K\n",
    "from keras.models import Model\n",
    "from keras.initializers import glorot_normal,  he_normal\n",
    "from tensorflow import keras\n",
    "from tensorflow.keras.layers import SimpleRNN, Flatten, Input, Dense, LSTM, RepeatVector, Bidirectional, Masking, Dropout, Layer, BatchNormalization, Conv1D\n",
    "from google.colab import drive\n",
    "\n",
    "from tensorflow.python.framework.ops import disable_eager_execution\n",
    "from keras.callbacks import EarlyStopping, ReduceLROnPlateau\n",
    "from sklearn.preprocessing import StandardScaler\n",
    "from sklearn.discriminant_analysis import LinearDiscriminantAnalysis\n",
    "from sklearn.ensemble import RandomForestRegressor, RandomForestClassifier, GradientBoostingClassifier\n",
    "from sklearn.mixture import GaussianMixture\n",
    "from sklearn.model_selection import cross_val_score, GroupShuffleSplit, GridSearchCV, RandomizedSearchCV,RepeatedStratifiedKFold, train_test_split\n",
    "from sklearn.svm import SVC\n",
    "\n",
    "drive.mount('/content/drive')"
   ]
  },
  {
   "cell_type": "code",
   "execution_count": null,
   "metadata": {
    "id": "T3RJnh4XwcHg"
   },
   "outputs": [],
   "source": [
    "from utils import plot_rul_one_engine\n",
    "from utils import get_predictions_ensemble\n",
    "from utils import  get_predictions_ensemble1\n",
    "from utils import  plot_sorted\n",
    "from utils import  rul_col_series\n",
    "from utils import  add_operating_condition\n",
    "from utils import  add_health_index\n",
    "from utils import  condition_scaler\n",
    "from utils import  exponential_smoothing\n",
    "from utils import  gen_train_data\n",
    "from utils import  gen_labels\n",
    "from utils import  gen_test_data\n",
    "from utils import  gen_data_wrapper\n",
    "from utils import  gen_label_wrapper\n",
    "from utils import  process_data_standard"
   ]
  },
  {
   "cell_type": "code",
   "execution_count": null,
   "metadata": {
    "id": "3vSQU5UKMznQ"
   },
   "outputs": [],
   "source": [
    "from utils import process_data_standard2"
   ]
  },
  {
   "cell_type": "markdown",
   "metadata": {
    "id": "lomAgg3CtRlB"
   },
   "source": [
    "# Get train and val data"
   ]
  },
  {
   "cell_type": "code",
   "execution_count": null,
   "metadata": {
    "id": "4khy4EjIiyGo"
   },
   "outputs": [],
   "source": [
    "# Name of columns.\n",
    "\n",
    "columns = [\"engine_no\", \"cycles\", \"opc1\", \"opc2\", \"opc3\", \"tfan_in_tot\", \"tLPC_out_tot\", \"tHPC_out_tot\",\n",
    "           \"tLPT_out_tot\", \"pfan_in\", \"pbypass_tot\", \"pHPC_out_tot\", \"fan_speed_physical\", \"core_speed_physical\",\n",
    "           \"P50_P2_ratio\", \"pHPC_out_stat\", \"fuel_flow_to_Ps30\", \"fan_speed_corrected\", \"core_speed_corrected\",\n",
    "           \"bypass_ratio\", \"burnerfuel_air_ratio\", \"bleed_enthalpy\", \"fan_speed_demanded\", \"fan_speed_demanded_corrected\" ,\n",
    "           \"HPT_coolant_bleed\", \"LPT_coolant_bleed\"]"
   ]
  },
  {
   "cell_type": "code",
   "execution_count": null,
   "metadata": {
    "id": "Vq04TXsLiyGv"
   },
   "outputs": [],
   "source": [
    "dataset = 'FD002'\n",
    "# files\n",
    "dir_path = '/content/drive/MyDrive/CMAPSSData/'\n",
    "\n",
    "\n",
    "\n",
    "# data readout\n",
    "sensor_names  = [\"tfan_in_tot\", \"tLPC_out_tot\", \"tHPC_out_tot\",\n",
    "           \"tLPT_out_tot\", \"pfan_in\", \"pbypass_tot\", \"pHPC_out_tot\", \"fan_speed_physical\", \"core_speed_physical\",\n",
    "           \"P50_P2_ratio\", \"pHPC_out_stat\", \"fuel_flow_to_Ps30\", \"fan_speed_corrected\", \"core_speed_corrected\",\n",
    "           \"bypass_ratio\", \"burnerfuel_air_ratio\", \"bleed_enthalpy\", \"fan_speed_demanded\", \"fan_speed_demanded_corrected\" ,\n",
    "           \"HPT_coolant_bleed\", \"LPT_coolant_bleed\"]\n",
    "\n",
    "\n",
    "\n",
    "sensors = ['tLPC_out_tot', 'tHPC_out_tot', 'tLPT_out_tot', 'pbypass_tot',\n",
    "       'pHPC_out_tot', 'fan_speed_physical', 'core_speed_physical',\n",
    "       'pHPC_out_stat', 'fuel_flow_to_Ps30', 'fan_speed_corrected',\n",
    "       'core_speed_corrected', 'bypass_ratio', 'bleed_enthalpy',\n",
    "       'HPT_coolant_bleed', 'LPT_coolant_bleed']\n",
    "\n",
    "\n",
    "# dataset operating condition 1\n",
    "x_train_cl1, y_train_cl1, x_val_cl1, y_val_cl1, x_test_cl1, y_test_cl1, X_train_pre_cl1, X_test_pre_cl1 = process_data_standard2('FD002',\n",
    "                                                                                                                                sensors,  dir_path,\n",
    "                                                                                                                                 condition ='35.0_0.84_100.0',\n",
    "                                                                                                                                 algo='clf', clust=-1, get_by_cond=True,sequence_length = 1,\n",
    "                                                                                                                                 )"
   ]
  },
  {
   "cell_type": "code",
   "execution_count": null,
   "metadata": {
    "id": "bPWl3JHBsbW0"
   },
   "outputs": [],
   "source": [
    "# dataset operating condition 2\n",
    "x_train_cl2, y_train_cl2, x_val_cl2, y_val_cl2, x_test_cl2, y_test_cl2, X_train_pre_cl2, X_test_pre_cl2 = process_data_standard2('FD002',\n",
    "                                                                                                 sensors,\n",
    "                                                                                                 dir_path,\n",
    "                                                                                                 condition ='42.0_0.84_100.0',\n",
    "                                                                                                 algo='clf',\n",
    "                                                                                                 clust=-1,\n",
    "                                                                                                get_by_cond=True,sequence_length = 1)"
   ]
  },
  {
   "cell_type": "code",
   "execution_count": null,
   "metadata": {
    "id": "RGL00dIesld7"
   },
   "outputs": [],
   "source": [
    "# dataset operating condition 3\n",
    "x_train_cl3, y_train_cl3, x_val_cl3, y_val_cl3, x_test_cl3, y_test_cl3, X_train_pre_cl3, X_test_pre_cl3 = process_data_standard2('FD002',\n",
    "\n",
    "                                                                                                 sensors,\n",
    "                                                                                                 dir_path,\n",
    "                                                                                                 condition ='25.0_0.62_60.0',\n",
    "                                                                                                 algo='clf',\n",
    "                                                                                                 clust=-1 , get_by_cond=True, sequence_length = 1,)\n"
   ]
  },
  {
   "cell_type": "code",
   "execution_count": null,
   "metadata": {
    "id": "tsf9HltOs7i9"
   },
   "outputs": [],
   "source": [
    "# dataset operating condition 4\n",
    "x_train_cl4, y_train_cl4, x_val_cl4, y_val_cl4, x_test_cl4, y_test_cl4, X_train_pre_cl4, X_test_pre_cl4 = process_data_standard2('FD002',\n",
    "\n",
    "                                                                                                 sensors,\n",
    "                                                                                                 dir_path,\n",
    "                                                                                                 condition ='20.0_0.7_100.0',\n",
    "                                                                                                 algo='clf',\n",
    "                                                                                                 clust=-1, get_by_cond=True, sequence_length = 1,)\n"
   ]
  },
  {
   "cell_type": "code",
   "execution_count": null,
   "metadata": {
    "id": "vA7omcv9s-v1"
   },
   "outputs": [],
   "source": [
    "# dataset operating condition 5\n",
    "x_train_cl5, y_train_cl5, x_val_cl5, y_val_cl5, x_test_cl5, y_test_cl5, X_train_pre_cl5, X_test_pre_cl5 = process_data_standard2('FD002',\n",
    "\n",
    "                                                                                                 sensors,\n",
    "                                                                                                 dir_path,\n",
    "                                                                                                 condition ='0.0_0.0_100.0',\n",
    "                                                                                                 algo='clf',\n",
    "                                                                                                 clust=-1, get_by_cond=True, sequence_length = 1,)\n"
   ]
  },
  {
   "cell_type": "code",
   "execution_count": null,
   "metadata": {
    "id": "Kx0swQxUtJPC"
   },
   "outputs": [],
   "source": [
    "# dataset operating condition 6\n",
    "x_train_cl6, y_train_cl6, x_val_cl6, y_val_cl6, x_test_cl6, y_test_cl6, X_train_pre_cl6, X_test_pre_cl6 = process_data_standard2('FD002',\n",
    "\n",
    "                                                                                                 sensors,\n",
    "                                                                                                 dir_path,\n",
    "                                                                                                 condition ='10.0_0.25_100.0',\n",
    "                                                                                                 algo='clf',\n",
    "                                                                                                 clust=-1, get_by_cond=True,  sequence_length = 1,)\n"
   ]
  },
  {
   "cell_type": "code",
   "execution_count": null,
   "metadata": {
    "id": "MWL52zjGtZaQ"
   },
   "outputs": [],
   "source": [
    "# whole dataset 1\n",
    "x_train1, y_train1, x_val1, y_val1, x_test1, y_test1, X_train_pre1, X_test_pre1 = process_data_standard2('FD001',\n",
    "                                                                                                 sensors,\n",
    "                                                                                                 dir_path,\n",
    "                                                                                                 condition ='10.0_0.25_100.0',\n",
    "                                                                                                 algo='clf',\n",
    "                                                                                                 clust=-1)\n"
   ]
  },
  {
   "cell_type": "code",
   "execution_count": null,
   "metadata": {
    "id": "i9hM4UFO9Lrf"
   },
   "outputs": [],
   "source": [
    "# whole dataset 2\n",
    "x_train2, y_train2, x_val2, y_val2, x_test2, y_test2, X_train_pre2, X_test_pre2 = process_data_standard2('FD002',\n",
    "                                                                                                 sensors,\n",
    "                                                                                                 dir_path,\n",
    "                                                                                                 condition ='10.0_0.25_100.0',\n",
    "                                                                                                 algo='clf',\n",
    "                                                                                                 clust=-1)\n"
   ]
  },
  {
   "cell_type": "code",
   "execution_count": null,
   "metadata": {
    "id": "Mx4DuQkT9MAq"
   },
   "outputs": [],
   "source": [
    "# whole dataset 3\n",
    "x_train3, y_train3, x_val3, y_val3, x_test3, y_test3, X_train_pre3, X_test_pre3 = process_data_standard2('FD003',\n",
    "                                                                                                 sensors,\n",
    "                                                                                                 dir_path,\n",
    "                                                                                                 condition ='10.0_0.25_100.0',\n",
    "                                                                                                 algo='clf',\n",
    "                                                                                                 clust=-1)\n"
   ]
  },
  {
   "cell_type": "code",
   "execution_count": null,
   "metadata": {
    "id": "_qEkcyWy9MMp"
   },
   "outputs": [],
   "source": [
    "# whole dataset 4\n",
    "x_train4, y_train4, x_val4, y_val4, x_test4, y_test4, X_train_pre4, X_test_pre4 = process_data_standard2('FD004',\n",
    "                                                                                                 sensors,\n",
    "                                                                                                 dir_path,\n",
    "                                                                                                 condition ='10.0_0.25_100.0',\n",
    "                                                                                                 algo='clf',\n",
    "                                                                                                 clust=-1)\n"
   ]
  },
  {
   "cell_type": "code",
   "execution_count": null,
   "metadata": {
    "id": "sVzg43iUt4hb"
   },
   "outputs": [],
   "source": [
    "# data split by fault mode - label 0\n",
    "\n",
    "x_train_f0, y_train_f0, x_val_f0, y_val_f0, x_test_f0, y_test_f0, X_train_pre_f0, X_test_pre_f0 = process_data_standard2('FD003',\n",
    "\n",
    "                                                                                                 sensors,\n",
    "                                                                                                 dir_path,\n",
    "                                                                                                 condition ='10.0_0.25_100.0',\n",
    "                                                                                                 algo='clf',\n",
    "                                                                                                 sequence_length=1,\n",
    "                                                                                                 clust=0)\n"
   ]
  },
  {
   "cell_type": "code",
   "execution_count": null,
   "metadata": {
    "id": "4p3wmB6-uG59"
   },
   "outputs": [],
   "source": [
    "# data split by fault mode - label 1\n",
    "x_train_f1, y_train_f1, x_val_f1, y_val_f1, x_test_f1, y_test_f1, X_train_pre_f1, X_test_pre_f1 = process_data_standard2('FD003',\n",
    "                                                                                                 sensors,\n",
    "                                                                                                 dir_path,\n",
    "                                                                                                 condition ='10.0_0.25_100.0',\n",
    "                                                                                                 algo='clf',\n",
    "                                                                                                 sequence_length=1,\n",
    "                                                                                                 clust=1)"
   ]
  },
  {
   "cell_type": "code",
   "execution_count": null,
   "metadata": {
    "id": "hstsobWFxIUB"
   },
   "outputs": [],
   "source": [
    "y_test1 = add_health_index(y_test1).health.values\n",
    "y_test2 = add_health_index(y_test2).health.values\n",
    "y_test3 = add_health_index(y_test3).health.values\n",
    "y_test4 = add_health_index(y_test4).health.values\n",
    "y_testf1  = add_health_index(y_test_f1).health.values\n",
    "y_testf0  = add_health_index(y_test_f0).health.values\n",
    "y_testcl1 = add_health_index(y_test_cl1).health.values\n",
    "y_testcl2 = add_health_index(y_test_cl2).health.values\n",
    "y_testcl3 = add_health_index(y_test_cl3).health.values\n",
    "y_testcl4 = add_health_index(y_test_cl4).health.values\n",
    "y_testcl5 = add_health_index(y_test_cl5).health.values\n",
    "y_testcl6 = add_health_index(y_test_cl6).health.values\n",
    "\n",
    "x_test11 = [x[-1] for x in x_test1]\n",
    "x_test12 = [x[-1] for x in x_test2]\n",
    "x_test13 = [x[-1] for x in x_test3]\n",
    "x_test14 = [x[-1] for x in x_test4]\n",
    "x_test1f1 = [x[-1] for x in x_test_f1]\n",
    "x_test1f0 = [x[-1] for x in x_test_f0]\n",
    "x_test1cl1 = [x[-1] for x in x_test_cl1]\n",
    "x_test1cl2 = [x[-1] for x in x_test_cl2]\n",
    "x_test1cl3 = [x[-1] for x in x_test_cl3]\n",
    "x_test1cl4 = [x[-1] for x in x_test_cl4]\n",
    "x_test1cl5 = [x[-1] for x in x_test_cl5]\n",
    "x_test1cl6 = [x[-1] for x in x_test_cl6]\n"
   ]
  },
  {
   "cell_type": "markdown",
   "metadata": {
    "id": "OCiuO7a9iyGy"
   },
   "source": [
    "# Random Forest\n"
   ]
  },
  {
   "cell_type": "code",
   "execution_count": null,
   "metadata": {
    "id": "lKhjeCWj7Vsc"
   },
   "outputs": [],
   "source": [
    "from utils import classif_rf"
   ]
  },
  {
   "cell_type": "markdown",
   "metadata": {
    "id": "-axgUKUD7nd4"
   },
   "source": [
    "### Create Random Forest classifier for each of the 4 main dataset."
   ]
  },
  {
   "cell_type": "code",
   "execution_count": null,
   "metadata": {
    "colab": {
     "base_uri": "https://localhost:8080/"
    },
    "id": "Av5ihkGn7js_",
    "outputId": "6ca0306a-531c-4e4f-f5b5-cf3d6ee05a70"
   },
   "outputs": [
    {
     "name": "stdout",
     "output_type": "stream",
     "text": [
      "Model accuracy score with 10 decision-trees : 0.7060\n",
      "\n",
      "The scores for cross validation are:\n",
      " [0.70773639 0.78223496 0.78223496 0.65329513 0.72492837 0.64183381\n",
      " 0.76790831 0.67908309 0.61604585 0.52148997]\n",
      "\n",
      "The mean score is: 0.6877\n",
      "\n",
      "              precision    recall  f1-score   support\n",
      "\n",
      "         0.0       0.89      0.83      0.86      1020\n",
      "         1.0       0.66      0.80      0.72      1479\n",
      "         2.0       0.59      0.52      0.55       837\n",
      "         3.0       0.00      0.00      0.00       154\n",
      "\n",
      "    accuracy                           0.71      3490\n",
      "   macro avg       0.53      0.54      0.53      3490\n",
      "weighted avg       0.68      0.71      0.69      3490\n",
      "\n"
     ]
    }
   ],
   "source": [
    "rf1, rft1, rfp1 = classif_rf(x_train1, y_train1, x_val1, y_val1)"
   ]
  },
  {
   "cell_type": "code",
   "execution_count": null,
   "metadata": {
    "id": "qcX0kRfqOq-l"
   },
   "outputs": [],
   "source": [
    "# Prediction on test\n",
    "rfp1_t = rf1.predict(x_test11)"
   ]
  },
  {
   "cell_type": "code",
   "execution_count": null,
   "metadata": {
    "colab": {
     "base_uri": "https://localhost:8080/"
    },
    "id": "xlysv79ECA5i",
    "outputId": "5fe644ce-2b35-48ab-9580-cc7a726f9b92"
   },
   "outputs": [
    {
     "data": {
      "text/plain": [
       "0.73"
      ]
     },
     "execution_count": 346,
     "metadata": {},
     "output_type": "execute_result"
    }
   ],
   "source": [
    "accuracy_score(y_test1, rfp1_t)"
   ]
  },
  {
   "cell_type": "code",
   "execution_count": null,
   "metadata": {
    "colab": {
     "base_uri": "https://localhost:8080/"
    },
    "id": "BDKkQYWf-ZQq",
    "outputId": "e8a8b605-15f4-472a-b46b-11d8f9f0875c"
   },
   "outputs": [
    {
     "name": "stdout",
     "output_type": "stream",
     "text": [
      "Model accuracy score with 10 decision-trees : 0.6910\n",
      "\n",
      "The scores for cross validation are:\n",
      " [0.64505119 0.70648464 0.76791809 0.6894198  0.72468714 0.70079636\n",
      " 0.73037543 0.72437358 0.7118451  0.64123007]\n",
      "\n",
      "The mean score is: 0.7042\n",
      "\n",
      "              precision    recall  f1-score   support\n",
      "\n",
      "         0.0       0.90      0.79      0.84      2652\n",
      "         1.0       0.65      0.77      0.71      3820\n",
      "         2.0       0.53      0.53      0.53      1944\n",
      "         3.0       0.25      0.00      0.01       371\n",
      "\n",
      "    accuracy                           0.69      8787\n",
      "   macro avg       0.58      0.52      0.52      8787\n",
      "weighted avg       0.68      0.69      0.68      8787\n",
      "\n"
     ]
    }
   ],
   "source": [
    "rf2, rft2, rfp2 = classif_rf(x_train2, y_train2, x_val2, y_val2)"
   ]
  },
  {
   "cell_type": "code",
   "execution_count": null,
   "metadata": {
    "id": "-N1CBpqM3irX"
   },
   "outputs": [],
   "source": [
    "rfp2_t = rf2.predict(x_test12)"
   ]
  },
  {
   "cell_type": "code",
   "execution_count": null,
   "metadata": {
    "colab": {
     "base_uri": "https://localhost:8080/"
    },
    "id": "vVPgSbMq-fmD",
    "outputId": "20e6b349-49c8-4ae9-ae56-b684c3414ea6"
   },
   "outputs": [
    {
     "name": "stdout",
     "output_type": "stream",
     "text": [
      "Model accuracy score with 10 decision-trees : 0.6393\n",
      "\n",
      "The scores for cross validation are:\n",
      " [0.66828087 0.52058111 0.61016949 0.69249395 0.6779661  0.29539952\n",
      " 0.72154964 0.66343826 0.65048544 0.45873786]\n",
      "\n",
      "The mean score is: 0.5959\n",
      "\n",
      "              precision    recall  f1-score   support\n",
      "\n",
      "         0.0       0.92      0.85      0.88      1020\n",
      "         1.0       0.63      0.75      0.69      1500\n",
      "         2.0       0.43      0.35      0.38      1029\n",
      "         3.0       0.52      0.50      0.51       579\n",
      "\n",
      "    accuracy                           0.64      4128\n",
      "   macro avg       0.62      0.61      0.61      4128\n",
      "weighted avg       0.64      0.64      0.63      4128\n",
      "\n"
     ]
    }
   ],
   "source": [
    "rf3, rft3, rfp3 = classif_rf(x_train3, y_train3, x_val3, y_val3)"
   ]
  },
  {
   "cell_type": "code",
   "execution_count": null,
   "metadata": {
    "id": "RfXqj3l35wpM"
   },
   "outputs": [],
   "source": [
    "rfp3_t = rf3.predict(x_test13)"
   ]
  },
  {
   "cell_type": "code",
   "execution_count": null,
   "metadata": {
    "colab": {
     "base_uri": "https://localhost:8080/"
    },
    "id": "pCqmgFpk-gIV",
    "outputId": "c4e2d216-476c-4b73-fe51-4c5507ee8a00"
   },
   "outputs": [
    {
     "name": "stdout",
     "output_type": "stream",
     "text": [
      "Model accuracy score with 10 decision-trees : 0.5833\n",
      "\n",
      "The scores for cross validation are:\n",
      " [0.51569933 0.53282588 0.43958135 0.5432921  0.54804948 0.59714286\n",
      " 0.64380952 0.55428571 0.55333333 0.5       ]\n",
      "\n",
      "The mean score is: 0.5428\n",
      "\n",
      "              precision    recall  f1-score   support\n",
      "\n",
      "         0.0       0.83      0.81      0.82      2550\n",
      "         1.0       0.54      0.71      0.61      3680\n",
      "         2.0       0.43      0.32      0.36      2509\n",
      "         3.0       0.51      0.37      0.43      1766\n",
      "\n",
      "    accuracy                           0.58     10505\n",
      "   macro avg       0.58      0.55      0.56     10505\n",
      "weighted avg       0.58      0.58      0.57     10505\n",
      "\n"
     ]
    }
   ],
   "source": [
    "rf4, rft4, rfp4 = classif_rf(x_train4, y_train4, x_val4, y_val4)"
   ]
  },
  {
   "cell_type": "code",
   "execution_count": null,
   "metadata": {
    "id": "f2GmORnR556B"
   },
   "outputs": [],
   "source": [
    "rfp4_t = rf4.predict(x_test14)"
   ]
  },
  {
   "cell_type": "markdown",
   "metadata": {
    "id": "nOEy0ALAAOuL"
   },
   "source": [
    "### Create Random Forest classifier for the 6 subdataset of dataset 2"
   ]
  },
  {
   "cell_type": "code",
   "execution_count": null,
   "metadata": {
    "colab": {
     "base_uri": "https://localhost:8080/"
    },
    "id": "ZJ8a0UaZARkF",
    "outputId": "a65921f8-dc05-4f1e-884f-c6028d66c595"
   },
   "outputs": [
    {
     "name": "stdout",
     "output_type": "stream",
     "text": [
      "Model accuracy score with 10 decision-trees : 0.6212\n",
      "\n",
      "The scores for cross validation are:\n",
      " [0.64       0.65333333 0.59333333 0.68       0.72483221 0.6442953\n",
      " 0.74496644 0.6442953  0.65771812 0.59731544]\n",
      "\n",
      "The mean score is: 0.6580\n",
      "\n",
      "              precision    recall  f1-score   support\n",
      "\n",
      "         0.0       0.88      0.77      0.82       375\n",
      "         1.0       0.61      0.58      0.59       574\n",
      "         2.0       0.50      0.69      0.58       436\n",
      "         3.0       0.40      0.07      0.12       109\n",
      "\n",
      "    accuracy                           0.62      1494\n",
      "   macro avg       0.60      0.53      0.53      1494\n",
      "weighted avg       0.63      0.62      0.61      1494\n",
      "\n"
     ]
    }
   ],
   "source": [
    "rfs1, rfopct1, rfopcp1 = classif_rf(x_train_cl1, y_train_cl1, x_val_cl1, y_val_cl1)"
   ]
  },
  {
   "cell_type": "code",
   "execution_count": null,
   "metadata": {
    "id": "acVKfLkD5_N8"
   },
   "outputs": [],
   "source": [
    "rfopcp1_t = rfs1.predict(x_test1cl1)"
   ]
  },
  {
   "cell_type": "code",
   "execution_count": null,
   "metadata": {
    "colab": {
     "base_uri": "https://localhost:8080/"
    },
    "id": "y8Igu9-EA6RM",
    "outputId": "4dd7ff50-2d39-4a60-9f74-083c917a0d83"
   },
   "outputs": [
    {
     "name": "stdout",
     "output_type": "stream",
     "text": [
      "Model accuracy score with 10 decision-trees : 0.6324\n",
      "\n",
      "The scores for cross validation are:\n",
      " [0.61302682 0.63461538 0.75384615 0.59230769 0.69230769 0.62307692\n",
      " 0.65384615 0.68076923 0.61538462 0.57692308]\n",
      "\n",
      "The mean score is: 0.6436\n",
      "\n",
      "              precision    recall  f1-score   support\n",
      "\n",
      "         0.0       0.90      0.78      0.83       684\n",
      "         1.0       0.60      0.59      0.60       948\n",
      "         2.0       0.52      0.71      0.60       768\n",
      "         3.0       0.20      0.02      0.04       201\n",
      "\n",
      "    accuracy                           0.63      2601\n",
      "   macro avg       0.56      0.53      0.52      2601\n",
      "weighted avg       0.62      0.63      0.62      2601\n",
      "\n"
     ]
    }
   ],
   "source": [
    "rfs2, rfopct2, rfopcp2 = classif_rf(x_train_cl2, y_train_cl2, x_val_cl2, y_val_cl2)"
   ]
  },
  {
   "cell_type": "code",
   "execution_count": null,
   "metadata": {
    "id": "rYyyutkf6dVf"
   },
   "outputs": [],
   "source": [
    "rfopcp2_t = rfs2.predict(x_test1cl2)"
   ]
  },
  {
   "cell_type": "code",
   "execution_count": null,
   "metadata": {
    "colab": {
     "base_uri": "https://localhost:8080/"
    },
    "id": "d19OoPaAA6dY",
    "outputId": "e17eb958-402d-49bd-bd69-7f46e91cda35"
   },
   "outputs": [
    {
     "name": "stdout",
     "output_type": "stream",
     "text": [
      "Model accuracy score with 10 decision-trees : 0.6347\n",
      "\n",
      "The scores for cross validation are:\n",
      " [0.61538462 0.65384615 0.60645161 0.62580645 0.72258065 0.61290323\n",
      " 0.70967742 0.66451613 0.74193548 0.58709677]\n",
      "\n",
      "The mean score is: 0.6540\n",
      "\n",
      "              precision    recall  f1-score   support\n",
      "\n",
      "         0.0       0.89      0.76      0.82       406\n",
      "         1.0       0.60      0.63      0.61       598\n",
      "         2.0       0.53      0.70      0.60       435\n",
      "         3.0       0.20      0.01      0.02       113\n",
      "\n",
      "    accuracy                           0.63      1552\n",
      "   macro avg       0.55      0.52      0.51      1552\n",
      "weighted avg       0.63      0.63      0.62      1552\n",
      "\n"
     ]
    }
   ],
   "source": [
    "rfs3, rfopct3, rfopcp3 = classif_rf(x_train_cl3, y_train_cl3, x_val_cl3, y_val_cl3)"
   ]
  },
  {
   "cell_type": "code",
   "execution_count": null,
   "metadata": {
    "id": "nskSLwqx6hl4"
   },
   "outputs": [],
   "source": [
    "rfopcp3_t = rfs3.predict(x_test1cl3)"
   ]
  },
  {
   "cell_type": "code",
   "execution_count": null,
   "metadata": {
    "colab": {
     "base_uri": "https://localhost:8080/"
    },
    "id": "u6KOjmqqA6oJ",
    "outputId": "22b7977f-92c4-4e9b-f118-6b61dc1b633f"
   },
   "outputs": [
    {
     "name": "stdout",
     "output_type": "stream",
     "text": [
      "Model accuracy score with 10 decision-trees : 0.6623\n",
      "\n",
      "The scores for cross validation are:\n",
      " [0.67924528 0.67295597 0.7672956  0.64150943 0.71698113 0.63522013\n",
      " 0.68553459 0.62025316 0.62025316 0.63291139]\n",
      "\n",
      "The mean score is: 0.6672\n",
      "\n",
      "              precision    recall  f1-score   support\n",
      "\n",
      "         0.0       0.91      0.81      0.86       420\n",
      "         1.0       0.66      0.61      0.63       600\n",
      "         2.0       0.54      0.73      0.62       454\n",
      "         3.0       0.32      0.11      0.16       113\n",
      "\n",
      "    accuracy                           0.66      1587\n",
      "   macro avg       0.61      0.56      0.57      1587\n",
      "weighted avg       0.67      0.66      0.66      1587\n",
      "\n"
     ]
    }
   ],
   "source": [
    "rfs4, rfopct4, rfopcp4 = classif_rf(x_train_cl4, y_train_cl4, x_val_cl4, y_val_cl4)"
   ]
  },
  {
   "cell_type": "code",
   "execution_count": null,
   "metadata": {
    "id": "xci_r2b56lj2"
   },
   "outputs": [],
   "source": [
    "rfopcp4_t = rfs4.predict(x_test1cl4)"
   ]
  },
  {
   "cell_type": "code",
   "execution_count": null,
   "metadata": {
    "colab": {
     "base_uri": "https://localhost:8080/"
    },
    "id": "6QG3MUA0A6zD",
    "outputId": "88a3dbf5-ae6e-4a22-c892-0bb81efc0948"
   },
   "outputs": [
    {
     "name": "stdout",
     "output_type": "stream",
     "text": [
      "Model accuracy score with 10 decision-trees : 0.6304\n",
      "\n",
      "The scores for cross validation are:\n",
      " [0.56493506 0.5974026  0.68831169 0.61688312 0.66233766 0.66233766\n",
      " 0.62987013 0.60784314 0.67973856 0.62745098]\n",
      "\n",
      "The mean score is: 0.6337\n",
      "\n",
      "              precision    recall  f1-score   support\n",
      "\n",
      "         0.0       0.90      0.79      0.84       393\n",
      "         1.0       0.64      0.59      0.62       609\n",
      "         2.0       0.47      0.70      0.56       408\n",
      "         3.0       0.50      0.08      0.14       127\n",
      "\n",
      "    accuracy                           0.63      1537\n",
      "   macro avg       0.63      0.54      0.54      1537\n",
      "weighted avg       0.65      0.63      0.62      1537\n",
      "\n"
     ]
    }
   ],
   "source": [
    "rfs5, rfopct5, rfopcp5 = classif_rf(x_train_cl5, y_train_cl5, x_val_cl5, y_val_cl5)"
   ]
  },
  {
   "cell_type": "code",
   "execution_count": null,
   "metadata": {
    "id": "e5bTQspY6rzg"
   },
   "outputs": [],
   "source": [
    "rfopcp5_t = rfs5.predict(x_test1cl5)"
   ]
  },
  {
   "cell_type": "code",
   "execution_count": null,
   "metadata": {
    "colab": {
     "base_uri": "https://localhost:8080/"
    },
    "id": "oXypEv7uA6_G",
    "outputId": "795b6cb2-d23a-491e-ccda-9a93c0e047cc"
   },
   "outputs": [
    {
     "name": "stdout",
     "output_type": "stream",
     "text": [
      "Model accuracy score with 10 decision-trees : 0.6522\n",
      "\n",
      "The scores for cross validation are:\n",
      " [0.5751634  0.60130719 0.69281046 0.64705882 0.73026316 0.64473684\n",
      " 0.67105263 0.66447368 0.66447368 0.57894737]\n",
      "\n",
      "The mean score is: 0.6470\n",
      "\n",
      "              precision    recall  f1-score   support\n",
      "\n",
      "         0.0       0.91      0.78      0.84       374\n",
      "         1.0       0.62      0.67      0.64       571\n",
      "         2.0       0.57      0.68      0.62       462\n",
      "         3.0       0.24      0.08      0.12       117\n",
      "\n",
      "    accuracy                           0.65      1524\n",
      "   macro avg       0.58      0.55      0.55      1524\n",
      "weighted avg       0.65      0.65      0.64      1524\n",
      "\n"
     ]
    }
   ],
   "source": [
    "rfs6, rfopct6, rfopcp6 = classif_rf(x_train_cl6, y_train_cl6, x_val_cl6, y_val_cl6)"
   ]
  },
  {
   "cell_type": "code",
   "execution_count": null,
   "metadata": {
    "id": "0KIl4A8J7Qd3"
   },
   "outputs": [],
   "source": [
    "rfopcp6_t = rfs6.predict(x_test1cl6)"
   ]
  },
  {
   "cell_type": "markdown",
   "metadata": {
    "id": "Us21jJ8BB3mu"
   },
   "source": [
    "### Create Random Forest classifier for the 2 subdataset of dataset 3 through faultmode.\n"
   ]
  },
  {
   "cell_type": "code",
   "execution_count": null,
   "metadata": {
    "colab": {
     "base_uri": "https://localhost:8080/"
    },
    "id": "zZj5D82CB4jQ",
    "outputId": "74f411e3-81f4-41db-ae65-677b994600b5"
   },
   "outputs": [
    {
     "name": "stdout",
     "output_type": "stream",
     "text": [
      "Model accuracy score with 10 decision-trees : 0.6019\n",
      "\n",
      "The scores for cross validation are:\n",
      " [0.68965517 0.55603448 0.42241379 0.36206897 0.5        0.51293103\n",
      " 0.5974026  0.71428571 0.77922078 0.47619048]\n",
      "\n",
      "The mean score is: 0.5610\n",
      "\n",
      "              precision    recall  f1-score   support\n",
      "\n",
      "         0.0       0.79      0.90      0.84       510\n",
      "         1.0       0.51      0.67      0.58       750\n",
      "         2.0       0.54      0.45      0.49       686\n",
      "         3.0       0.72      0.33      0.45       370\n",
      "\n",
      "    accuracy                           0.60      2316\n",
      "   macro avg       0.64      0.59      0.59      2316\n",
      "weighted avg       0.61      0.60      0.59      2316\n",
      "\n"
     ]
    }
   ],
   "source": [
    "rff0, rfcl0t, rfcl0p = classif_rf(x_train_f0, y_train_f0, x_val_f0, y_val_f0)"
   ]
  },
  {
   "cell_type": "code",
   "execution_count": null,
   "metadata": {
    "id": "ThG7ANHd7pXd"
   },
   "outputs": [],
   "source": [
    "rfcl0p_t = rff0.predict(x_test1f0)"
   ]
  },
  {
   "cell_type": "code",
   "execution_count": null,
   "metadata": {
    "colab": {
     "base_uri": "https://localhost:8080/"
    },
    "id": "dQpJF0tSB4fd",
    "outputId": "407ade25-f402-4bb6-bd61-b8cc45ab4d95"
   },
   "outputs": [
    {
     "name": "stdout",
     "output_type": "stream",
     "text": [
      "Model accuracy score with 10 decision-trees : 0.6147\n",
      "\n",
      "The scores for cross validation are:\n",
      " [0.68032787 0.50819672 0.29098361 0.6352459  0.68032787 0.52868852\n",
      " 0.73360656 0.4691358  0.63786008 0.64609053]\n",
      "\n",
      "The mean score is: 0.5810\n",
      "\n",
      "              precision    recall  f1-score   support\n",
      "\n",
      "         0.0       0.81      0.90      0.85       612\n",
      "         1.0       0.53      0.73      0.61       896\n",
      "         2.0       0.55      0.40      0.46       695\n",
      "         3.0       0.83      0.08      0.15       234\n",
      "\n",
      "    accuracy                           0.61      2437\n",
      "   macro avg       0.68      0.53      0.52      2437\n",
      "weighted avg       0.63      0.61      0.59      2437\n",
      "\n"
     ]
    }
   ],
   "source": [
    "rff1, rfcl1t, rfcl1p = classif_rf(x_train_f1, y_train_f1, x_val_f1, y_val_f1)"
   ]
  },
  {
   "cell_type": "code",
   "execution_count": null,
   "metadata": {
    "id": "XFKO2PHC8Fjv"
   },
   "outputs": [],
   "source": [
    "rfcl1p_t = rff1.predict(x_test1f1)"
   ]
  },
  {
   "cell_type": "markdown",
   "metadata": {
    "id": "Lm9TZiHzCV_v"
   },
   "source": [
    "## Hyperparameter tuning."
   ]
  },
  {
   "cell_type": "code",
   "execution_count": null,
   "metadata": {
    "id": "avaiGU11bFbA"
   },
   "outputs": [],
   "source": [
    "from utils import parameter_tuning"
   ]
  },
  {
   "cell_type": "code",
   "execution_count": null,
   "metadata": {
    "id": "fni5u6TtB4rQ"
   },
   "outputs": [],
   "source": [
    "# Define the hyperparameter grid.\n",
    "param_grid = {\n",
    "    'n_estimators': [10, 50, 100, 150],\n",
    "    'max_depth': [None, 10, 20],\n",
    "    'min_samples_split': [2, 5, 10],\n",
    "    'max_features': ['sqrt', 'log2']\n",
    "}\n",
    "\n",
    "cv = RepeatedStratifiedKFold(n_splits=10, n_repeats=1, random_state=237)\n",
    "\n",
    "# Initialize the random forest model.\n",
    "forest = RandomForestClassifier(random_state=237)"
   ]
  },
  {
   "cell_type": "markdown",
   "metadata": {
    "id": "ypdJovWXCkkT"
   },
   "source": [
    "### Parameter tuning for dataset 1."
   ]
  },
  {
   "cell_type": "code",
   "execution_count": null,
   "metadata": {
    "colab": {
     "base_uri": "https://localhost:8080/"
    },
    "id": "XAW-0S7oB4xT",
    "outputId": "d0257468-2446-43cd-a7ac-dd656b37f22d"
   },
   "outputs": [
    {
     "name": "stdout",
     "output_type": "stream",
     "text": [
      "Accuracy: 0.714\n"
     ]
    }
   ],
   "source": [
    "best_model_rfa1 = parameter_tuning(forest, param_grid, x_train1, y_train1, x_val1, y_val1, 10)"
   ]
  },
  {
   "cell_type": "code",
   "execution_count": null,
   "metadata": {
    "colab": {
     "base_uri": "https://localhost:8080/"
    },
    "id": "6dkXLDIcCm31",
    "outputId": "dab26a58-79a0-4bb5-8d66-3ee92c750bbe"
   },
   "outputs": [
    {
     "data": {
      "text/plain": [
       "{'max_depth': 20,\n",
       " 'max_features': 'sqrt',\n",
       " 'min_samples_split': 10,\n",
       " 'n_estimators': 150}"
      ]
     },
     "execution_count": 50,
     "metadata": {},
     "output_type": "execute_result"
    }
   ],
   "source": [
    "best_model_rfa1.best_params_"
   ]
  },
  {
   "cell_type": "markdown",
   "metadata": {
    "id": "73u4B4C2raco"
   },
   "source": [
    "### Parameter tuning for dataset 2."
   ]
  },
  {
   "cell_type": "code",
   "execution_count": null,
   "metadata": {
    "colab": {
     "base_uri": "https://localhost:8080/"
    },
    "id": "EyeSwr_MCm7h",
    "outputId": "317b1d61-fac4-47a5-eaf5-3db639e94fa7"
   },
   "outputs": [
    {
     "name": "stdout",
     "output_type": "stream",
     "text": [
      "Accuracy: 0.704\n"
     ]
    }
   ],
   "source": [
    "best_model_rfa2 = parameter_tuning(forest, param_grid, x_train2, y_train2, x_val2, y_val2, 10)"
   ]
  },
  {
   "cell_type": "code",
   "execution_count": null,
   "metadata": {
    "colab": {
     "base_uri": "https://localhost:8080/"
    },
    "id": "IKci16fOCm_M",
    "outputId": "ca56b983-9155-499f-9bec-cb1e3f0161d1"
   },
   "outputs": [
    {
     "data": {
      "text/plain": [
       "{'max_depth': 10,\n",
       " 'max_features': 'sqrt',\n",
       " 'min_samples_split': 5,\n",
       " 'n_estimators': 150}"
      ]
     },
     "execution_count": 116,
     "metadata": {},
     "output_type": "execute_result"
    }
   ],
   "source": [
    "best_model_rfa2.best_params_"
   ]
  },
  {
   "cell_type": "markdown",
   "metadata": {
    "id": "Q4JQHdjlrhGy"
   },
   "source": [
    "### Parameter tuning for dataset 3."
   ]
  },
  {
   "cell_type": "code",
   "execution_count": null,
   "metadata": {
    "colab": {
     "base_uri": "https://localhost:8080/"
    },
    "id": "0rNeCOMTCnCv",
    "outputId": "be4d4281-d49a-4fb7-ee5c-02345c81f408"
   },
   "outputs": [
    {
     "name": "stdout",
     "output_type": "stream",
     "text": [
      "Accuracy: 0.636\n"
     ]
    }
   ],
   "source": [
    "best_model_rfa3 = parameter_tuning(forest, param_grid, x_train3, y_train3, x_val3, y_val3, 10)"
   ]
  },
  {
   "cell_type": "code",
   "execution_count": null,
   "metadata": {
    "colab": {
     "base_uri": "https://localhost:8080/"
    },
    "id": "9PDOr_KFCnGZ",
    "outputId": "153bebbf-a982-4027-cef3-35913d7a5174"
   },
   "outputs": [
    {
     "data": {
      "text/plain": [
       "{'max_depth': 10,\n",
       " 'max_features': 'sqrt',\n",
       " 'min_samples_split': 5,\n",
       " 'n_estimators': 100}"
      ]
     },
     "execution_count": 118,
     "metadata": {},
     "output_type": "execute_result"
    }
   ],
   "source": [
    "best_model_rfa3.best_params_"
   ]
  },
  {
   "cell_type": "markdown",
   "metadata": {
    "id": "p5L2T2_Urlba"
   },
   "source": [
    "### Parameter tuning for dataset 4."
   ]
  },
  {
   "cell_type": "code",
   "execution_count": null,
   "metadata": {
    "colab": {
     "base_uri": "https://localhost:8080/"
    },
    "id": "JugXr5rWCnKA",
    "outputId": "966a6e97-2fa2-4e9a-e5c8-75bd2d9601e2"
   },
   "outputs": [
    {
     "name": "stdout",
     "output_type": "stream",
     "text": [
      "Accuracy: 0.578\n"
     ]
    }
   ],
   "source": [
    "best_model_rfa4 = parameter_tuning(forest, param_grid, x_train4, y_train4, x_val4, y_val4, 10)"
   ]
  },
  {
   "cell_type": "code",
   "execution_count": null,
   "metadata": {
    "colab": {
     "base_uri": "https://localhost:8080/"
    },
    "id": "z-qnx3yYCnNy",
    "outputId": "b9f51c6e-ac29-48ab-c22e-0cb44e1a1a2f"
   },
   "outputs": [
    {
     "data": {
      "text/plain": [
       "{'max_depth': 20,\n",
       " 'max_features': 'sqrt',\n",
       " 'min_samples_split': 10,\n",
       " 'n_estimators': 150}"
      ]
     },
     "execution_count": 120,
     "metadata": {},
     "output_type": "execute_result"
    }
   ],
   "source": [
    "best_model_rfa4.best_params_"
   ]
  },
  {
   "cell_type": "markdown",
   "metadata": {
    "id": "wDeyNODqrxiS"
   },
   "source": [
    "### Parameter tuning for dataset clustered by fault mode of dataset 3 with label 0."
   ]
  },
  {
   "cell_type": "code",
   "execution_count": null,
   "metadata": {
    "colab": {
     "base_uri": "https://localhost:8080/"
    },
    "id": "eI9ko_S1sIwW",
    "outputId": "ffdd28e8-7fb3-401b-e8b3-0e44b8efd597"
   },
   "outputs": [
    {
     "name": "stdout",
     "output_type": "stream",
     "text": [
      "Accuracy: 0.608\n"
     ]
    }
   ],
   "source": [
    "best_model_rfa_cluster0 = parameter_tuning(forest, param_grid, x_train_f0, y_train_f0, x_val_f0, y_val_f0, 10)"
   ]
  },
  {
   "cell_type": "code",
   "execution_count": null,
   "metadata": {
    "colab": {
     "base_uri": "https://localhost:8080/"
    },
    "id": "IKJDUPgksJP_",
    "outputId": "005a1e44-3507-4339-f404-ea6eb145999e"
   },
   "outputs": [
    {
     "data": {
      "text/plain": [
       "{'max_depth': 10,\n",
       " 'max_features': 'sqrt',\n",
       " 'min_samples_split': 2,\n",
       " 'n_estimators': 150}"
      ]
     },
     "execution_count": 122,
     "metadata": {},
     "output_type": "execute_result"
    }
   ],
   "source": [
    "best_model_rfa_cluster0.best_params_"
   ]
  },
  {
   "cell_type": "markdown",
   "metadata": {
    "id": "u3Ado7IVsDpM"
   },
   "source": [
    "### Parameter tuning for dataset clustered by fault mode of dataset 3 with label 1."
   ]
  },
  {
   "cell_type": "code",
   "execution_count": null,
   "metadata": {
    "colab": {
     "base_uri": "https://localhost:8080/"
    },
    "id": "J0yQCTQyDLzI",
    "outputId": "7f818de7-8fad-402c-a615-d80328b6d615"
   },
   "outputs": [
    {
     "name": "stdout",
     "output_type": "stream",
     "text": [
      "Accuracy: 0.520\n"
     ]
    }
   ],
   "source": [
    "best_model_rfa_cluster1 = parameter_tuning(forest, param_grid, x_train_f1, y_train_f1, x_val_f1, y_val_f1, 10)"
   ]
  },
  {
   "cell_type": "code",
   "execution_count": null,
   "metadata": {
    "colab": {
     "base_uri": "https://localhost:8080/"
    },
    "id": "t_l_jP61DL6L",
    "outputId": "fa3e198a-b0e3-4028-f360-63dc1ccf761d"
   },
   "outputs": [
    {
     "data": {
      "text/plain": [
       "{'max_depth': 10,\n",
       " 'max_features': 'sqrt',\n",
       " 'min_samples_split': 10,\n",
       " 'n_estimators': 50}"
      ]
     },
     "execution_count": 124,
     "metadata": {},
     "output_type": "execute_result"
    }
   ],
   "source": [
    "best_model_rfa_cluster1.best_params_"
   ]
  },
  {
   "cell_type": "code",
   "execution_count": null,
   "metadata": {
    "id": "aMOu5ig6Z4HF"
   },
   "outputs": [],
   "source": [
    "rfmat = [mat1, mat2, mat3, mat4, mats1, mats2, mats3, mats4, mats5, mats6, matf1, matf0 ]\n",
    "rfreport = [report1, report2, report3, report4, reports1, reports2, reports3, reports4, reports5, reports6, reportf1, reportf0]\n",
    "filehandler = open(b\"/content/drive/MyDrive/classiff_results/rf_preds.pkl\",\"wb\")\n",
    "pickle.dump((rfmat, rfreport),filehandler)\n"
   ]
  },
  {
   "cell_type": "markdown",
   "metadata": {
    "id": "Qgq7_JjJFPXa"
   },
   "source": [
    "# SVM classifying"
   ]
  },
  {
   "cell_type": "markdown",
   "metadata": {
    "id": "TJY39-uXFQDi"
   },
   "source": [
    "## Model"
   ]
  },
  {
   "cell_type": "code",
   "execution_count": null,
   "metadata": {
    "id": "ojyep2oMDMFi"
   },
   "outputs": [],
   "source": [
    "from utils import classif_svm"
   ]
  },
  {
   "cell_type": "markdown",
   "metadata": {
    "id": "h7GOmelMGlgI"
   },
   "source": []
  },
  {
   "cell_type": "markdown",
   "metadata": {
    "id": "IM5-Jf3jFY0A"
   },
   "source": [
    "### Create SVM classifier for each of the 4 main dataset."
   ]
  },
  {
   "cell_type": "code",
   "execution_count": null,
   "metadata": {
    "colab": {
     "base_uri": "https://localhost:8080/"
    },
    "id": "Mt6XtDxuDMI6",
    "outputId": "06326249-7d7c-4f06-cd59-69c62df52339"
   },
   "outputs": [
    {
     "name": "stdout",
     "output_type": "stream",
     "text": [
      "Model accuracy score with default hyperparameters: 0.7252\n",
      "\n",
      "The scores for cross validation are:\n",
      " [0.77077364 0.83381089 0.81661891 0.68481375 0.7277937  0.65329513\n",
      " 0.78223496 0.72492837 0.61318052 0.55587393]\n",
      "\n",
      "The mean score is: 0.7163\n",
      "              precision    recall  f1-score   support\n",
      "\n",
      "         0.0       0.92      0.82      0.87      1020\n",
      "         1.0       0.66      0.86      0.75      1479\n",
      "         2.0       0.64      0.51      0.57       837\n",
      "         3.0       0.00      0.00      0.00       154\n",
      "\n",
      "    accuracy                           0.73      3490\n",
      "   macro avg       0.56      0.55      0.55      3490\n",
      "weighted avg       0.70      0.73      0.71      3490\n",
      "\n"
     ]
    }
   ],
   "source": [
    "svm1, svmt1, svmp1 = classif_svm(x_train1, y_train1, x_val1, y_val1)"
   ]
  },
  {
   "cell_type": "code",
   "execution_count": null,
   "metadata": {
    "id": "HQkHIOt08d8H"
   },
   "outputs": [],
   "source": [
    "svmp1_t = svm1.predict(x_test11)"
   ]
  },
  {
   "cell_type": "code",
   "execution_count": null,
   "metadata": {
    "colab": {
     "base_uri": "https://localhost:8080/"
    },
    "id": "fbYUheoMDMMc",
    "outputId": "14dfacd3-aad9-4d26-833a-3391ff5cf207"
   },
   "outputs": [
    {
     "name": "stdout",
     "output_type": "stream",
     "text": [
      "Model accuracy score with default hyperparameters: 0.6978\n",
      "\n",
      "The scores for cross validation are:\n",
      " [0.64163823 0.69852105 0.74516496 0.6996587  0.73720137 0.7258248\n",
      " 0.71786121 0.71640091 0.71298405 0.64236902]\n",
      "\n",
      "The mean score is: 0.7038\n",
      "              precision    recall  f1-score   support\n",
      "\n",
      "         0.0       0.93      0.77      0.84      2652\n",
      "         1.0       0.66      0.79      0.72      3820\n",
      "         2.0       0.54      0.55      0.54      1944\n",
      "         3.0       0.00      0.00      0.00       371\n",
      "\n",
      "    accuracy                           0.70      8787\n",
      "   macro avg       0.53      0.53      0.53      8787\n",
      "weighted avg       0.68      0.70      0.69      8787\n",
      "\n"
     ]
    }
   ],
   "source": [
    "svm2, svmt2, svmp2 = classif_svm(x_train2, y_train2, x_val2, y_val2)"
   ]
  },
  {
   "cell_type": "code",
   "execution_count": null,
   "metadata": {
    "id": "3V9bERBy9Lb7"
   },
   "outputs": [],
   "source": [
    "svmp2_t = svm2.predict(x_test12)"
   ]
  },
  {
   "cell_type": "code",
   "execution_count": null,
   "metadata": {
    "colab": {
     "base_uri": "https://localhost:8080/"
    },
    "id": "iI0vy2rYDMQP",
    "outputId": "67c323c2-a68d-4b9d-bf6b-7c2f2de32316"
   },
   "outputs": [
    {
     "name": "stdout",
     "output_type": "stream",
     "text": [
      "Model accuracy score with default hyperparameters: 0.6747\n",
      "\n",
      "The scores for cross validation are:\n",
      " [0.71912833 0.54237288 0.73365617 0.79661017 0.67070218 0.31234867\n",
      " 0.74818402 0.77723971 0.83009709 0.50242718]\n",
      "\n",
      "The mean score is: 0.6633\n",
      "              precision    recall  f1-score   support\n",
      "\n",
      "         0.0       0.95      0.84      0.89      1020\n",
      "         1.0       0.65      0.77      0.71      1500\n",
      "         2.0       0.51      0.33      0.40      1029\n",
      "         3.0       0.56      0.75      0.64       579\n",
      "\n",
      "    accuracy                           0.67      4128\n",
      "   macro avg       0.67      0.67      0.66      4128\n",
      "weighted avg       0.67      0.67      0.67      4128\n",
      "\n"
     ]
    }
   ],
   "source": [
    "svm3, svmt3, svmp3 = classif_svm(x_train3, y_train3, x_val3, y_val3)"
   ]
  },
  {
   "cell_type": "code",
   "execution_count": null,
   "metadata": {
    "id": "b6AL1ht99P7b"
   },
   "outputs": [],
   "source": [
    "svmp3_t = svm3.predict(x_test13)"
   ]
  },
  {
   "cell_type": "code",
   "execution_count": null,
   "metadata": {
    "colab": {
     "base_uri": "https://localhost:8080/"
    },
    "id": "wIHt_vrzDMUL",
    "outputId": "54b7b923-61cf-46d4-e5c0-1507cc7cc5b9"
   },
   "outputs": [
    {
     "name": "stdout",
     "output_type": "stream",
     "text": [
      "Model accuracy score with default hyperparameters: 0.5876\n",
      "\n",
      "The scores for cross validation are:\n",
      " [0.53853473 0.5356803  0.44053283 0.5509039  0.56707897 0.59809524\n",
      " 0.6952381  0.56952381 0.56571429 0.47333333]\n",
      "\n",
      "The mean score is: 0.5535\n",
      "              precision    recall  f1-score   support\n",
      "\n",
      "         0.0       0.83      0.82      0.83      2550\n",
      "         1.0       0.54      0.71      0.61      3680\n",
      "         2.0       0.42      0.34      0.38      2509\n",
      "         3.0       0.53      0.35      0.42      1766\n",
      "\n",
      "    accuracy                           0.59     10505\n",
      "   macro avg       0.58      0.56      0.56     10505\n",
      "weighted avg       0.58      0.59      0.58     10505\n",
      "\n"
     ]
    }
   ],
   "source": [
    "svm4, svmt4, svmp4 = classif_svm(x_train4, y_train4, x_val4, y_val4)"
   ]
  },
  {
   "cell_type": "code",
   "execution_count": null,
   "metadata": {
    "id": "yZfuURCR9U9J"
   },
   "outputs": [],
   "source": [
    "svmp4_t = svm4.predict(x_test14)"
   ]
  },
  {
   "cell_type": "markdown",
   "metadata": {
    "id": "6Ffd4KwrGH4v"
   },
   "source": [
    "### Create SVM classifier for the 6 subdataset of dataset 2."
   ]
  },
  {
   "cell_type": "code",
   "execution_count": null,
   "metadata": {
    "colab": {
     "base_uri": "https://localhost:8080/"
    },
    "id": "snva8zGJGJct",
    "outputId": "95809101-bf69-4859-fe00-6d8aa1309c31"
   },
   "outputs": [
    {
     "name": "stdout",
     "output_type": "stream",
     "text": [
      "Model accuracy score with default hyperparameters: 0.6446\n",
      "\n",
      "The scores for cross validation are:\n",
      " [0.62       0.67333333 0.60666667 0.69333333 0.75838926 0.63758389\n",
      " 0.72483221 0.60402685 0.69127517 0.59060403]\n",
      "\n",
      "The mean score is: 0.6600\n",
      "              precision    recall  f1-score   support\n",
      "\n",
      "         0.0       0.91      0.78      0.84       375\n",
      "         1.0       0.64      0.59      0.62       574\n",
      "         2.0       0.51      0.75      0.61       436\n",
      "         3.0       0.00      0.00      0.00       109\n",
      "\n",
      "    accuracy                           0.64      1494\n",
      "   macro avg       0.52      0.53      0.52      1494\n",
      "weighted avg       0.62      0.64      0.63      1494\n",
      "\n"
     ]
    }
   ],
   "source": [
    "svms1, svmopct1, svmopcp1 = classif_svm(x_train_cl1, y_train_cl1, x_val_cl1, y_val_cl1)"
   ]
  },
  {
   "cell_type": "code",
   "execution_count": null,
   "metadata": {
    "id": "U32N-tUK9ck_"
   },
   "outputs": [],
   "source": [
    "svmsopcp1_t = svms1.predict(x_test1cl1)"
   ]
  },
  {
   "cell_type": "code",
   "execution_count": null,
   "metadata": {
    "colab": {
     "base_uri": "https://localhost:8080/"
    },
    "id": "yQUidBSgGJgN",
    "outputId": "51e5974a-ec4b-4eee-e0a5-87ca8abadc23"
   },
   "outputs": [
    {
     "name": "stdout",
     "output_type": "stream",
     "text": [
      "Model accuracy score with default hyperparameters: 0.6432\n",
      "\n",
      "The scores for cross validation are:\n",
      " [0.66666667 0.59615385 0.77307692 0.6        0.71538462 0.66153846\n",
      " 0.63846154 0.69230769 0.61538462 0.55384615]\n",
      "\n",
      "The mean score is: 0.6513\n",
      "              precision    recall  f1-score   support\n",
      "\n",
      "         0.0       0.93      0.78      0.85       684\n",
      "         1.0       0.61      0.60      0.60       948\n",
      "         2.0       0.53      0.75      0.62       768\n",
      "         3.0       0.00      0.00      0.00       201\n",
      "\n",
      "    accuracy                           0.64      2601\n",
      "   macro avg       0.51      0.53      0.52      2601\n",
      "weighted avg       0.62      0.64      0.62      2601\n",
      "\n"
     ]
    }
   ],
   "source": [
    "svms2, svmopct2, svmopcp2 = classif_svm(x_train_cl2, y_train_cl2, x_val_cl2, y_val_cl2)"
   ]
  },
  {
   "cell_type": "code",
   "execution_count": null,
   "metadata": {
    "id": "TH-E1use9usX"
   },
   "outputs": [],
   "source": [
    "svmsopcp2_t = svms2.predict(x_test1cl2)"
   ]
  },
  {
   "cell_type": "code",
   "execution_count": null,
   "metadata": {
    "colab": {
     "base_uri": "https://localhost:8080/"
    },
    "id": "V-I0JztCGJj3",
    "outputId": "a0045422-c4a7-44b8-8a83-f1aed1a6794e"
   },
   "outputs": [
    {
     "name": "stdout",
     "output_type": "stream",
     "text": [
      "Model accuracy score with default hyperparameters: 0.6534\n",
      "\n",
      "The scores for cross validation are:\n",
      " [0.62820513 0.66025641 0.65806452 0.65806452 0.70322581 0.61935484\n",
      " 0.69032258 0.58709677 0.70322581 0.58709677]\n",
      "\n",
      "The mean score is: 0.6495\n",
      "              precision    recall  f1-score   support\n",
      "\n",
      "         0.0       0.92      0.76      0.83       406\n",
      "         1.0       0.62      0.65      0.64       598\n",
      "         2.0       0.54      0.72      0.62       435\n",
      "         3.0       0.00      0.00      0.00       113\n",
      "\n",
      "    accuracy                           0.65      1552\n",
      "   macro avg       0.52      0.53      0.52      1552\n",
      "weighted avg       0.63      0.65      0.64      1552\n",
      "\n"
     ]
    }
   ],
   "source": [
    "svms3, svmopct3, svmopcp3 = classif_svm(x_train_cl3, y_train_cl3, x_val_cl3, y_val_cl3)"
   ]
  },
  {
   "cell_type": "code",
   "execution_count": null,
   "metadata": {
    "id": "tJZzMEcv9zJ7"
   },
   "outputs": [],
   "source": [
    "svmsopcp3_t = svms3.predict(x_test1cl3)"
   ]
  },
  {
   "cell_type": "code",
   "execution_count": null,
   "metadata": {
    "colab": {
     "base_uri": "https://localhost:8080/"
    },
    "id": "Am20CXdEGJoD",
    "outputId": "d809b383-684d-4d58-c48a-4add36705c88"
   },
   "outputs": [
    {
     "name": "stdout",
     "output_type": "stream",
     "text": [
      "Model accuracy score with default hyperparameters: 0.6730\n",
      "\n",
      "The scores for cross validation are:\n",
      " [0.63522013 0.73584906 0.7672956  0.66037736 0.72955975 0.69811321\n",
      " 0.70440252 0.63291139 0.6835443  0.63924051]\n",
      "\n",
      "The mean score is: 0.6887\n",
      "              precision    recall  f1-score   support\n",
      "\n",
      "         0.0       0.93      0.81      0.87       420\n",
      "         1.0       0.67      0.61      0.64       600\n",
      "         2.0       0.53      0.79      0.64       454\n",
      "         3.0       0.00      0.00      0.00       113\n",
      "\n",
      "    accuracy                           0.67      1587\n",
      "   macro avg       0.53      0.55      0.54      1587\n",
      "weighted avg       0.65      0.67      0.65      1587\n",
      "\n"
     ]
    }
   ],
   "source": [
    "svms4, svmopct4, svmopcp4 = classif_svm(x_train_cl4, y_train_cl4, x_val_cl4, y_val_cl4)\n"
   ]
  },
  {
   "cell_type": "code",
   "execution_count": null,
   "metadata": {
    "id": "ILtjVEdt93jM"
   },
   "outputs": [],
   "source": [
    "svmsopcp4_t = svms4.predict(x_test1cl4)"
   ]
  },
  {
   "cell_type": "code",
   "execution_count": null,
   "metadata": {
    "colab": {
     "base_uri": "https://localhost:8080/"
    },
    "id": "hvEYWCpdGJrl",
    "outputId": "03be986c-0f7a-46a0-aa46-3a96640c276e"
   },
   "outputs": [
    {
     "name": "stdout",
     "output_type": "stream",
     "text": [
      "Model accuracy score with default hyperparameters: 0.6396\n",
      "\n",
      "The scores for cross validation are:\n",
      " [0.61688312 0.6038961  0.70779221 0.62987013 0.72077922 0.66883117\n",
      " 0.64935065 0.62091503 0.64705882 0.66013072]\n",
      "\n",
      "The mean score is: 0.6526\n",
      "              precision    recall  f1-score   support\n",
      "\n",
      "         0.0       0.91      0.77      0.84       393\n",
      "         1.0       0.66      0.59      0.62       609\n",
      "         2.0       0.49      0.79      0.60       408\n",
      "         3.0       0.00      0.00      0.00       127\n",
      "\n",
      "    accuracy                           0.64      1537\n",
      "   macro avg       0.51      0.54      0.52      1537\n",
      "weighted avg       0.62      0.64      0.62      1537\n",
      "\n"
     ]
    }
   ],
   "source": [
    "svms5, svmopct5, svmopcp5 = classif_svm(x_train_cl5, y_train_cl5, x_val_cl5, y_val_cl5)\n"
   ]
  },
  {
   "cell_type": "code",
   "execution_count": null,
   "metadata": {
    "id": "60QzqGMj98df"
   },
   "outputs": [],
   "source": [
    "svmsopcp5_t = svms5.predict(x_test1cl5)"
   ]
  },
  {
   "cell_type": "code",
   "execution_count": null,
   "metadata": {
    "colab": {
     "base_uri": "https://localhost:8080/"
    },
    "id": "rxFo2YfIGJwC",
    "outputId": "c2dccac4-bfc6-4ba5-a6e6-dc1c3648722c"
   },
   "outputs": [
    {
     "name": "stdout",
     "output_type": "stream",
     "text": [
      "Model accuracy score with default hyperparameters: 0.6555\n",
      "\n",
      "The scores for cross validation are:\n",
      " [0.67320261 0.64705882 0.66013072 0.64052288 0.77631579 0.63157895\n",
      " 0.73026316 0.70394737 0.63815789 0.53289474]\n",
      "\n",
      "The mean score is: 0.6634\n",
      "              precision    recall  f1-score   support\n",
      "\n",
      "         0.0       0.93      0.75      0.83       374\n",
      "         1.0       0.63      0.63      0.63       571\n",
      "         2.0       0.55      0.77      0.64       462\n",
      "         3.0       0.00      0.00      0.00       117\n",
      "\n",
      "    accuracy                           0.66      1524\n",
      "   macro avg       0.53      0.54      0.53      1524\n",
      "weighted avg       0.63      0.66      0.64      1524\n",
      "\n"
     ]
    }
   ],
   "source": [
    "svms6, svmopct6, svmopcp6 = classif_svm(x_train_cl6, y_train_cl6, x_val_cl6, y_val_cl6)\n"
   ]
  },
  {
   "cell_type": "code",
   "execution_count": null,
   "metadata": {
    "id": "-Ny-jbLO-C0g"
   },
   "outputs": [],
   "source": [
    "svmsopcp6_t = svms6.predict(x_test1cl6)"
   ]
  },
  {
   "cell_type": "markdown",
   "metadata": {
    "id": "wRvr1QKiHAPX"
   },
   "source": [
    "### Create SVM classifier for the 2 subdataset of dataset 3 through faultmode."
   ]
  },
  {
   "cell_type": "code",
   "execution_count": null,
   "metadata": {
    "colab": {
     "base_uri": "https://localhost:8080/"
    },
    "id": "ddNac3AKGJzz",
    "outputId": "e8a415ac-4ddb-4946-b3bf-14b49ab17efa"
   },
   "outputs": [
    {
     "name": "stdout",
     "output_type": "stream",
     "text": [
      "Model accuracy score with default hyperparameters: 0.6110\n",
      "\n",
      "The scores for cross validation are:\n",
      " [0.74568966 0.56896552 0.40086207 0.34051724 0.50862069 0.54741379\n",
      " 0.63203463 0.71861472 0.84848485 0.65800866]\n",
      "\n",
      "The mean score is: 0.5969\n",
      "              precision    recall  f1-score   support\n",
      "\n",
      "         0.0       0.80      0.89      0.85       510\n",
      "         1.0       0.52      0.68      0.59       750\n",
      "         2.0       0.54      0.47      0.50       686\n",
      "         3.0       0.72      0.34      0.46       370\n",
      "\n",
      "    accuracy                           0.61      2316\n",
      "   macro avg       0.65      0.60      0.60      2316\n",
      "weighted avg       0.62      0.61      0.60      2316\n",
      "\n"
     ]
    }
   ],
   "source": [
    "svm_cluster0, svmc0t, svmc0p = classif_svm(x_train_f0, y_train_f0, x_val_f0, y_val_f0)"
   ]
  },
  {
   "cell_type": "code",
   "execution_count": null,
   "metadata": {
    "id": "gi2ZAss9-I0-"
   },
   "outputs": [],
   "source": [
    "svmc0p_t = svm_cluster0.predict(x_test1f0)\n"
   ]
  },
  {
   "cell_type": "code",
   "execution_count": null,
   "metadata": {
    "colab": {
     "base_uri": "https://localhost:8080/"
    },
    "id": "IjRqeeD3GJ3T",
    "outputId": "741b248c-584e-4e85-b467-719fc10e6d4b"
   },
   "outputs": [
    {
     "name": "stdout",
     "output_type": "stream",
     "text": [
      "Model accuracy score with default hyperparameters: 0.6147\n",
      "\n",
      "The scores for cross validation are:\n",
      " [0.7704918  0.52459016 0.27459016 0.67622951 0.73770492 0.61885246\n",
      " 0.7295082  0.43209877 0.65432099 0.69135802]\n",
      "\n",
      "The mean score is: 0.6110\n",
      "              precision    recall  f1-score   support\n",
      "\n",
      "         0.0       0.83      0.89      0.86       612\n",
      "         1.0       0.53      0.76      0.63       896\n",
      "         2.0       0.54      0.39      0.45       695\n",
      "         3.0       0.00      0.00      0.00       234\n",
      "\n",
      "    accuracy                           0.61      2437\n",
      "   macro avg       0.48      0.51      0.49      2437\n",
      "weighted avg       0.56      0.61      0.58      2437\n",
      "\n"
     ]
    }
   ],
   "source": [
    "svm_cluster1, svmc1t, svmc1p = classif_svm(x_train_f1, y_train_f1, x_val_f1, y_val_f1)\n"
   ]
  },
  {
   "cell_type": "code",
   "execution_count": null,
   "metadata": {
    "id": "ph7lXiDQ_CQE"
   },
   "outputs": [],
   "source": [
    "svmc1p_t = svm_cluster1.predict(x_test1f1)"
   ]
  },
  {
   "cell_type": "markdown",
   "metadata": {
    "id": "mHoOKh7bHZfC"
   },
   "source": [
    "## Hyperparameter tuning"
   ]
  },
  {
   "cell_type": "code",
   "execution_count": null,
   "metadata": {
    "id": "fXxTKMTsCGJe"
   },
   "outputs": [],
   "source": [
    "#Hyperparameter tuning using Gridsearch\n",
    "param_grid = {\n",
    "    'C': [0.1, 1.0, 10],\n",
    "    'gamma': ['scale', 'auto'],\n",
    "    #'gamma': [1.0, 0.1, 0.01],\n",
    "    'kernel': ['poly', 'rbf']\n",
    "    }\n",
    "\n",
    "cv = RepeatedStratifiedKFold(n_splits=10, n_repeats=1, random_state=237)\n",
    "\n",
    "# Initialize svm model.\n",
    "svm = SVC(random_state=237)"
   ]
  },
  {
   "cell_type": "markdown",
   "metadata": {
    "id": "qBeBmGLC07JF"
   },
   "source": [
    "### Parameter tuning for dataset 1."
   ]
  },
  {
   "cell_type": "code",
   "execution_count": null,
   "metadata": {
    "colab": {
     "base_uri": "https://localhost:8080/"
    },
    "id": "hp2MdBAOHa2W",
    "outputId": "be66df15-e2fe-4f4c-fe33-17ace8d4c6ba"
   },
   "outputs": [
    {
     "name": "stdout",
     "output_type": "stream",
     "text": [
      "Accuracy: 0.733\n"
     ]
    }
   ],
   "source": [
    "best_model_svm1 = parameter_tuning(svm, param_grid, x_train1, y_train1, x_val1, y_val1, 10)"
   ]
  },
  {
   "cell_type": "code",
   "execution_count": null,
   "metadata": {
    "colab": {
     "base_uri": "https://localhost:8080/"
    },
    "id": "XnLh3WatHa9Y",
    "outputId": "06777858-7785-4b77-8438-b4fa56f3401e"
   },
   "outputs": [
    {
     "data": {
      "text/plain": [
       "{'C': 0.1, 'gamma': 'scale', 'kernel': 'rbf'}"
      ]
     },
     "execution_count": 62,
     "metadata": {},
     "output_type": "execute_result"
    }
   ],
   "source": [
    "best_model_svm1.best_params_"
   ]
  },
  {
   "cell_type": "markdown",
   "metadata": {
    "id": "8zfYxvz91lsS"
   },
   "source": [
    "### Parameter tuning for dataset 2."
   ]
  },
  {
   "cell_type": "code",
   "execution_count": null,
   "metadata": {
    "colab": {
     "base_uri": "https://localhost:8080/"
    },
    "id": "3NR-XBcdG0uq",
    "outputId": "e4e380cb-7a0c-4a55-f047-157b7c525ae1"
   },
   "outputs": [
    {
     "name": "stdout",
     "output_type": "stream",
     "text": [
      "Accuracy: 0.702\n"
     ]
    }
   ],
   "source": [
    "best_model_svm2 = parameter_tuning(svm, param_grid, x_train2, y_train2, x_val2, y_val2, 10)"
   ]
  },
  {
   "cell_type": "code",
   "execution_count": null,
   "metadata": {
    "colab": {
     "base_uri": "https://localhost:8080/"
    },
    "id": "iZSoY4Xk116N",
    "outputId": "333a3846-20c6-4d13-b26e-c89f6cda7e15"
   },
   "outputs": [
    {
     "data": {
      "text/plain": [
       "{'C': 0.1, 'gamma': 'auto', 'kernel': 'rbf'}"
      ]
     },
     "execution_count": 64,
     "metadata": {},
     "output_type": "execute_result"
    }
   ],
   "source": [
    "best_model_svm2.best_params_"
   ]
  },
  {
   "cell_type": "markdown",
   "metadata": {
    "id": "vXpQMmSh3T_Z"
   },
   "source": [
    "### Parameter tuning for dataset 3."
   ]
  },
  {
   "cell_type": "code",
   "execution_count": null,
   "metadata": {
    "colab": {
     "base_uri": "https://localhost:8080/"
    },
    "id": "TYfWUgL93Wsl",
    "outputId": "b2f49b78-a8cf-4c90-ba71-21b1b032a4b9"
   },
   "outputs": [
    {
     "name": "stdout",
     "output_type": "stream",
     "text": [
      "Accuracy: 0.660\n"
     ]
    }
   ],
   "source": [
    "best_model_svm3 = parameter_tuning(svm, param_grid, x_train3, y_train3, x_val3, y_val3, 10)"
   ]
  },
  {
   "cell_type": "code",
   "execution_count": null,
   "metadata": {
    "colab": {
     "base_uri": "https://localhost:8080/"
    },
    "id": "uCAXDeU03Wvb",
    "outputId": "f6838006-b986-41c5-aee3-a9cbf234f2de"
   },
   "outputs": [
    {
     "data": {
      "text/plain": [
       "{'C': 0.1, 'gamma': 'scale', 'kernel': 'rbf'}"
      ]
     },
     "execution_count": 66,
     "metadata": {},
     "output_type": "execute_result"
    }
   ],
   "source": [
    "best_model_svm3.best_params_"
   ]
  },
  {
   "cell_type": "markdown",
   "metadata": {
    "id": "lLE2QUGG3qZZ"
   },
   "source": [
    "### Parameter tuning for dataset 4."
   ]
  },
  {
   "cell_type": "code",
   "execution_count": null,
   "metadata": {
    "colab": {
     "base_uri": "https://localhost:8080/"
    },
    "id": "5Osf33-L3toN",
    "outputId": "b0a4d53a-2e27-4ff1-98f2-d936c60aab9e"
   },
   "outputs": [
    {
     "name": "stdout",
     "output_type": "stream",
     "text": [
      "Accuracy: 0.588\n"
     ]
    }
   ],
   "source": [
    "best_model_svm4 = parameter_tuning(svm, param_grid, x_train4, y_train4, x_val4, y_val4, 10)"
   ]
  },
  {
   "cell_type": "code",
   "execution_count": null,
   "metadata": {
    "colab": {
     "base_uri": "https://localhost:8080/"
    },
    "id": "Cf52N-GX36Zj",
    "outputId": "b35fe16c-65bf-42f0-a16b-c57a40a052e4"
   },
   "outputs": [
    {
     "data": {
      "text/plain": [
       "{'C': 1.0, 'gamma': 'scale', 'kernel': 'rbf'}"
      ]
     },
     "execution_count": 68,
     "metadata": {},
     "output_type": "execute_result"
    }
   ],
   "source": [
    "best_model_svm4.best_params_"
   ]
  },
  {
   "cell_type": "markdown",
   "metadata": {
    "id": "hzHbg-Fd4E9T"
   },
   "source": [
    "### Parameter tuning for dataset clustered by fault mode of dataset 3 with label 0."
   ]
  },
  {
   "cell_type": "code",
   "execution_count": null,
   "metadata": {
    "colab": {
     "base_uri": "https://localhost:8080/"
    },
    "id": "dAX2J1XK4OZ2",
    "outputId": "1434fc6b-dec8-4f5a-ba82-c95bda4394c2"
   },
   "outputs": [
    {
     "name": "stdout",
     "output_type": "stream",
     "text": [
      "Accuracy: 0.611\n"
     ]
    }
   ],
   "source": [
    "best_model_svm_cluster0 = parameter_tuning(svm, param_grid, x_train_f0, y_train_f0, x_val_f0, y_val_f0, 10)"
   ]
  },
  {
   "cell_type": "code",
   "execution_count": null,
   "metadata": {
    "colab": {
     "base_uri": "https://localhost:8080/"
    },
    "id": "SHRU1nMj4O2b",
    "outputId": "3b35c22d-d749-4213-dac8-af337afe9d32"
   },
   "outputs": [
    {
     "data": {
      "text/plain": [
       "{'C': 1.0, 'gamma': 'auto', 'kernel': 'rbf'}"
      ]
     },
     "execution_count": 70,
     "metadata": {},
     "output_type": "execute_result"
    }
   ],
   "source": [
    "best_model_svm_cluster0.best_params_"
   ]
  },
  {
   "cell_type": "markdown",
   "metadata": {
    "id": "4C6PfE434yra"
   },
   "source": [
    "### Parameter tuning for dataset clustered by fault mode of dataset 3 with label 1."
   ]
  },
  {
   "cell_type": "code",
   "execution_count": null,
   "metadata": {
    "colab": {
     "base_uri": "https://localhost:8080/"
    },
    "id": "Q9PGXl7445lY",
    "outputId": "144f270e-5fb5-42e7-ed15-ba8f5bf73033"
   },
   "outputs": [
    {
     "name": "stdout",
     "output_type": "stream",
     "text": [
      "Accuracy: 0.499\n"
     ]
    }
   ],
   "source": [
    "best_model_svm_cluster1 = parameter_tuning(svm, param_grid, x_train_f1, y_train_f1, x_val_f1, y_val_f1, 10)"
   ]
  },
  {
   "cell_type": "code",
   "execution_count": null,
   "metadata": {
    "colab": {
     "base_uri": "https://localhost:8080/"
    },
    "id": "DnT36gV85GXB",
    "outputId": "a9696088-fa0f-4884-bfd2-74219bb9efa8"
   },
   "outputs": [
    {
     "data": {
      "text/plain": [
       "{'C': 10, 'gamma': 'scale', 'kernel': 'rbf'}"
      ]
     },
     "execution_count": 72,
     "metadata": {},
     "output_type": "execute_result"
    }
   ],
   "source": [
    "best_model_svm_cluster1.best_params_"
   ]
  },
  {
   "cell_type": "markdown",
   "metadata": {
    "id": "s1BuwUwjH0DJ"
   },
   "source": [
    "# Gaussian Linear Discriminent Analysis"
   ]
  },
  {
   "cell_type": "markdown",
   "metadata": {
    "id": "Z_0LBgV-H16I"
   },
   "source": [
    "## Model"
   ]
  },
  {
   "cell_type": "code",
   "execution_count": null,
   "metadata": {
    "id": "g4t7SwDPH33A"
   },
   "outputs": [],
   "source": [
    "from utils import classif_lda"
   ]
  },
  {
   "cell_type": "markdown",
   "metadata": {
    "id": "_2xgeXAVIHCV"
   },
   "source": [
    "### Create LDA classifier for each of the 4 main dataset."
   ]
  },
  {
   "cell_type": "code",
   "execution_count": null,
   "metadata": {
    "colab": {
     "base_uri": "https://localhost:8080/"
    },
    "id": "Jr7joD64H36i",
    "outputId": "62347d2d-22fa-4242-b77b-3951ff59ef40"
   },
   "outputs": [
    {
     "name": "stdout",
     "output_type": "stream",
     "text": [
      "Model accuracy score with default parameters : 0.7272\n",
      "\n",
      "The scores for cross validation are:\n",
      " [0.77077364 0.82234957 0.80515759 0.67908309 0.72492837 0.57593123\n",
      " 0.77936963 0.67048711 0.61031519 0.59025788]\n",
      "\n",
      "The mean score is: 0.7029\n",
      "\n",
      "              precision    recall  f1-score   support\n",
      "\n",
      "         0.0       0.91      0.83      0.87      1020\n",
      "         1.0       0.67      0.85      0.75      1479\n",
      "         2.0       0.64      0.52      0.57       837\n",
      "         3.0       0.00      0.00      0.00       154\n",
      "\n",
      "    accuracy                           0.73      3490\n",
      "   macro avg       0.55      0.55      0.55      3490\n",
      "weighted avg       0.70      0.73      0.71      3490\n",
      "\n"
     ]
    }
   ],
   "source": [
    "lda1, lda1t, lda1p = classif_lda(x_train1, y_train1, x_val1, y_val1)"
   ]
  },
  {
   "cell_type": "code",
   "execution_count": null,
   "metadata": {
    "id": "f8DSRI3U_OqY"
   },
   "outputs": [],
   "source": [
    "lda1p_t = lda1.predict(x_test11)"
   ]
  },
  {
   "cell_type": "code",
   "execution_count": null,
   "metadata": {
    "colab": {
     "base_uri": "https://localhost:8080/"
    },
    "id": "Y-0cW0ybH4Ao",
    "outputId": "0c97c2c8-29c6-41fe-8391-8649968067b6"
   },
   "outputs": [
    {
     "name": "stdout",
     "output_type": "stream",
     "text": [
      "Model accuracy score with default parameters : 0.6986\n",
      "\n",
      "The scores for cross validation are:\n",
      " [0.60409556 0.69169511 0.74744027 0.7076223  0.72127418 0.72241183\n",
      " 0.69510808 0.72209567 0.68223235 0.64920273]\n",
      "\n",
      "The mean score is: 0.6943\n",
      "\n",
      "              precision    recall  f1-score   support\n",
      "\n",
      "         0.0       0.92      0.76      0.83      2652\n",
      "         1.0       0.65      0.81      0.72      3820\n",
      "         2.0       0.56      0.53      0.54      1944\n",
      "         3.0       0.00      0.00      0.00       371\n",
      "\n",
      "    accuracy                           0.70      8787\n",
      "   macro avg       0.53      0.53      0.52      8787\n",
      "weighted avg       0.68      0.70      0.69      8787\n",
      "\n"
     ]
    }
   ],
   "source": [
    "lda2, lda2t, lda2p = classif_lda(x_train2, y_train2, x_val2, y_val2)"
   ]
  },
  {
   "cell_type": "code",
   "execution_count": null,
   "metadata": {
    "id": "sFHJVz-h_ZgA"
   },
   "outputs": [],
   "source": [
    "lda2p_t = lda2.predict(x_test12)"
   ]
  },
  {
   "cell_type": "code",
   "execution_count": null,
   "metadata": {
    "colab": {
     "base_uri": "https://localhost:8080/"
    },
    "id": "JZfucHGQH4EH",
    "outputId": "c9171a4a-53e7-4c1f-a6a4-fb70a0a3bbaa"
   },
   "outputs": [
    {
     "name": "stdout",
     "output_type": "stream",
     "text": [
      "Model accuracy score with default parameters : 0.6391\n",
      "\n",
      "The scores for cross validation are:\n",
      " [0.66343826 0.37772397 0.6125908  0.65617433 0.64164649 0.38983051\n",
      " 0.67312349 0.72639225 0.69902913 0.50242718]\n",
      "\n",
      "The mean score is: 0.5942\n",
      "\n",
      "              precision    recall  f1-score   support\n",
      "\n",
      "         0.0       0.93      0.81      0.87      1020\n",
      "         1.0       0.63      0.76      0.69      1500\n",
      "         2.0       0.44      0.30      0.36      1029\n",
      "         3.0       0.49      0.61      0.54       579\n",
      "\n",
      "    accuracy                           0.64      4128\n",
      "   macro avg       0.62      0.62      0.62      4128\n",
      "weighted avg       0.64      0.64      0.63      4128\n",
      "\n"
     ]
    }
   ],
   "source": [
    "lda3, lda3t, lda3p = classif_lda(x_train3, y_train3, x_val3, y_val3)"
   ]
  },
  {
   "cell_type": "code",
   "execution_count": null,
   "metadata": {
    "id": "N0MnZQL3_sl4"
   },
   "outputs": [],
   "source": [
    "lda3p_t = lda3.predict(x_test13)"
   ]
  },
  {
   "cell_type": "code",
   "execution_count": null,
   "metadata": {
    "colab": {
     "base_uri": "https://localhost:8080/"
    },
    "id": "4WIs2E2GH4Hn",
    "outputId": "c06df6fc-2c9e-4381-8edc-f0a98422f5aa"
   },
   "outputs": [
    {
     "name": "stdout",
     "output_type": "stream",
     "text": [
      "Model accuracy score with default parameters : 0.5648\n",
      "\n",
      "The scores for cross validation are:\n",
      " [0.5432921  0.53092293 0.4490961  0.56137012 0.59086584 0.59904762\n",
      " 0.62857143 0.55428571 0.55142857 0.46095238]\n",
      "\n",
      "The mean score is: 0.5470\n",
      "\n",
      "              precision    recall  f1-score   support\n",
      "\n",
      "         0.0       0.85      0.78      0.81      2550\n",
      "         1.0       0.52      0.71      0.60      3680\n",
      "         2.0       0.38      0.29      0.33      2509\n",
      "         3.0       0.47      0.34      0.39      1766\n",
      "\n",
      "    accuracy                           0.56     10505\n",
      "   macro avg       0.56      0.53      0.53     10505\n",
      "weighted avg       0.56      0.56      0.55     10505\n",
      "\n"
     ]
    }
   ],
   "source": [
    "lda4, lda4t, lda4p = classif_lda(x_train4, y_train4, x_val4, y_val4)"
   ]
  },
  {
   "cell_type": "code",
   "execution_count": null,
   "metadata": {
    "id": "PvOIeIQp_1cU"
   },
   "outputs": [],
   "source": [
    "lda4p_t = lda4.predict(x_test14)"
   ]
  },
  {
   "cell_type": "markdown",
   "metadata": {
    "id": "VBIh0wGSIfWO"
   },
   "source": [
    "### Create LDA classifier for the 6 subdataset of dataset 2."
   ]
  },
  {
   "cell_type": "code",
   "execution_count": null,
   "metadata": {
    "colab": {
     "base_uri": "https://localhost:8080/"
    },
    "id": "kHle8bP_H4LP",
    "outputId": "43d13af0-e2c2-4066-86e7-13e0539cfbde"
   },
   "outputs": [
    {
     "name": "stdout",
     "output_type": "stream",
     "text": [
      "Model accuracy score with default parameters : 0.6546\n",
      "\n",
      "The scores for cross validation are:\n",
      " [0.60666667 0.66       0.6        0.66666667 0.72483221 0.63758389\n",
      " 0.7114094  0.59060403 0.67114094 0.58389262]\n",
      "\n",
      "The mean score is: 0.6453\n",
      "\n",
      "              precision    recall  f1-score   support\n",
      "\n",
      "         0.0       0.92      0.78      0.84       375\n",
      "         1.0       0.63      0.67      0.65       574\n",
      "         2.0       0.53      0.70      0.60       436\n",
      "         3.0       0.00      0.00      0.00       109\n",
      "\n",
      "    accuracy                           0.65      1494\n",
      "   macro avg       0.52      0.54      0.52      1494\n",
      "weighted avg       0.63      0.65      0.64      1494\n",
      "\n"
     ]
    }
   ],
   "source": [
    "ldas1, ldaopc1t, ldaopc1p = classif_lda(x_train_cl1, y_train_cl1, x_val_cl1, y_val_cl1)"
   ]
  },
  {
   "cell_type": "code",
   "execution_count": null,
   "metadata": {
    "id": "iDrG89_r_4jw"
   },
   "outputs": [],
   "source": [
    "ldaopc1p_t = ldas1.predict(x_test1cl1)"
   ]
  },
  {
   "cell_type": "code",
   "execution_count": null,
   "metadata": {
    "colab": {
     "base_uri": "https://localhost:8080/"
    },
    "id": "w_0Wqnp2H4PC",
    "outputId": "e5104e0a-8c2b-4d56-9ef9-fbceaae25ef4"
   },
   "outputs": [
    {
     "name": "stdout",
     "output_type": "stream",
     "text": [
      "Model accuracy score with default parameters : 0.6417\n",
      "\n",
      "The scores for cross validation are:\n",
      " [0.651341   0.60769231 0.74230769 0.62307692 0.69615385 0.67692308\n",
      " 0.61153846 0.67307692 0.61153846 0.56538462]\n",
      "\n",
      "The mean score is: 0.6459\n",
      "\n",
      "              precision    recall  f1-score   support\n",
      "\n",
      "         0.0       0.92      0.76      0.83       684\n",
      "         1.0       0.59      0.65      0.62       948\n",
      "         2.0       0.54      0.70      0.61       768\n",
      "         3.0       0.00      0.00      0.00       201\n",
      "\n",
      "    accuracy                           0.64      2601\n",
      "   macro avg       0.51      0.53      0.51      2601\n",
      "weighted avg       0.62      0.64      0.62      2601\n",
      "\n"
     ]
    }
   ],
   "source": [
    "ldas2, ldaopc2t, ldaopc2p = classif_lda(x_train_cl2, y_train_cl2, x_val_cl2, y_val_cl2)"
   ]
  },
  {
   "cell_type": "code",
   "execution_count": null,
   "metadata": {
    "id": "_70l08RsAan9"
   },
   "outputs": [],
   "source": [
    "ldaopc2p_t = ldas2.predict(x_test1cl2)"
   ]
  },
  {
   "cell_type": "code",
   "execution_count": null,
   "metadata": {
    "colab": {
     "base_uri": "https://localhost:8080/"
    },
    "id": "b8xfSUqAH4Sj",
    "outputId": "f0caaffa-e5cf-466b-8fd1-5df2c6a137f9"
   },
   "outputs": [
    {
     "name": "stdout",
     "output_type": "stream",
     "text": [
      "Model accuracy score with default parameters : 0.6372\n",
      "\n",
      "The scores for cross validation are:\n",
      " [0.62179487 0.62179487 0.65806452 0.64516129 0.65806452 0.59354839\n",
      " 0.69032258 0.63870968 0.69032258 0.57419355]\n",
      "\n",
      "The mean score is: 0.6392\n",
      "\n",
      "              precision    recall  f1-score   support\n",
      "\n",
      "         0.0       0.92      0.73      0.81       406\n",
      "         1.0       0.59      0.68      0.63       598\n",
      "         2.0       0.53      0.66      0.59       435\n",
      "         3.0       0.50      0.01      0.02       113\n",
      "\n",
      "    accuracy                           0.64      1552\n",
      "   macro avg       0.63      0.52      0.51      1552\n",
      "weighted avg       0.65      0.64      0.62      1552\n",
      "\n"
     ]
    }
   ],
   "source": [
    "ldas3, ldaopc3t, ldaopc3p = classif_lda(x_train_cl3, y_train_cl3, x_val_cl3, y_val_cl3)"
   ]
  },
  {
   "cell_type": "code",
   "execution_count": null,
   "metadata": {
    "id": "YdEZUT8RAeT3"
   },
   "outputs": [],
   "source": [
    "ldaopc3p_t = ldas3.predict(x_test1cl3)"
   ]
  },
  {
   "cell_type": "code",
   "execution_count": null,
   "metadata": {
    "colab": {
     "base_uri": "https://localhost:8080/"
    },
    "id": "WUUBw_SQH4WC",
    "outputId": "78bdc303-b7a5-4558-8700-3eff0a5945c4"
   },
   "outputs": [
    {
     "name": "stdout",
     "output_type": "stream",
     "text": [
      "Model accuracy score with default parameters : 0.6528\n",
      "\n",
      "The scores for cross validation are:\n",
      " [0.62893082 0.70440252 0.73584906 0.63522013 0.70440252 0.66037736\n",
      " 0.64150943 0.62658228 0.53797468 0.61392405]\n",
      "\n",
      "The mean score is: 0.6489\n",
      "\n",
      "              precision    recall  f1-score   support\n",
      "\n",
      "         0.0       0.94      0.78      0.85       420\n",
      "         1.0       0.61      0.67      0.64       600\n",
      "         2.0       0.53      0.67      0.59       454\n",
      "         3.0       1.00      0.01      0.02       113\n",
      "\n",
      "    accuracy                           0.65      1587\n",
      "   macro avg       0.77      0.53      0.52      1587\n",
      "weighted avg       0.70      0.65      0.64      1587\n",
      "\n"
     ]
    }
   ],
   "source": [
    "ldas4, ldaopc4t, ldaopc4p = classif_lda(x_train_cl4, y_train_cl4, x_val_cl4, y_val_cl4)"
   ]
  },
  {
   "cell_type": "code",
   "execution_count": null,
   "metadata": {
    "id": "ECaiIRIiAktd"
   },
   "outputs": [],
   "source": [
    "ldaopc4p_t = ldas4.predict(x_test1cl4)"
   ]
  },
  {
   "cell_type": "code",
   "execution_count": null,
   "metadata": {
    "colab": {
     "base_uri": "https://localhost:8080/"
    },
    "id": "ZCxFQfPYH4Zw",
    "outputId": "8478d97e-78ba-40ad-be1a-add1773f3dc8"
   },
   "outputs": [
    {
     "name": "stdout",
     "output_type": "stream",
     "text": [
      "Model accuracy score with default parameters : 0.6344\n",
      "\n",
      "The scores for cross validation are:\n",
      " [0.55194805 0.57142857 0.69480519 0.64935065 0.63636364 0.64935065\n",
      " 0.62337662 0.64052288 0.63398693 0.63398693]\n",
      "\n",
      "The mean score is: 0.6285\n",
      "\n",
      "              precision    recall  f1-score   support\n",
      "\n",
      "         0.0       0.92      0.75      0.83       393\n",
      "         1.0       0.63      0.66      0.65       609\n",
      "         2.0       0.48      0.67      0.56       408\n",
      "         3.0       0.33      0.02      0.03       127\n",
      "\n",
      "    accuracy                           0.63      1537\n",
      "   macro avg       0.59      0.53      0.52      1537\n",
      "weighted avg       0.64      0.63      0.62      1537\n",
      "\n"
     ]
    }
   ],
   "source": [
    "ldas5, ldaopc5t, ldaopc5p = classif_lda(x_train_cl5, y_train_cl5, x_val_cl5, y_val_cl5)"
   ]
  },
  {
   "cell_type": "code",
   "execution_count": null,
   "metadata": {
    "id": "MaCCQjx3Arq8"
   },
   "outputs": [],
   "source": [
    "ldaopc5p_t = ldas5.predict(x_test1cl5)"
   ]
  },
  {
   "cell_type": "code",
   "execution_count": null,
   "metadata": {
    "colab": {
     "base_uri": "https://localhost:8080/"
    },
    "id": "1tRO0CCOHbDz",
    "outputId": "0a42f7cf-d356-40c7-aa40-e3720b461043"
   },
   "outputs": [
    {
     "name": "stdout",
     "output_type": "stream",
     "text": [
      "Model accuracy score with default parameters : 0.6516\n",
      "\n",
      "The scores for cross validation are:\n",
      " [0.58169935 0.60130719 0.71895425 0.69281046 0.74342105 0.63157895\n",
      " 0.71052632 0.67105263 0.61842105 0.51973684]\n",
      "\n",
      "The mean score is: 0.6490\n",
      "\n",
      "              precision    recall  f1-score   support\n",
      "\n",
      "         0.0       0.92      0.78      0.84       374\n",
      "         1.0       0.62      0.66      0.64       571\n",
      "         2.0       0.54      0.70      0.61       462\n",
      "         3.0       0.60      0.03      0.05       117\n",
      "\n",
      "    accuracy                           0.65      1524\n",
      "   macro avg       0.67      0.54      0.54      1524\n",
      "weighted avg       0.67      0.65      0.63      1524\n",
      "\n"
     ]
    }
   ],
   "source": [
    "ldas6, ldaopc6t, ldaopc6p = classif_lda(x_train_cl6, y_train_cl6, x_val_cl6, y_val_cl6)"
   ]
  },
  {
   "cell_type": "code",
   "execution_count": null,
   "metadata": {
    "id": "6FaBXhznAxft"
   },
   "outputs": [],
   "source": [
    "ldaopc6p_t = ldas6.predict(x_test1cl6)"
   ]
  },
  {
   "cell_type": "markdown",
   "metadata": {
    "id": "nWTe7TOwI-dA"
   },
   "source": [
    "### Create LDA classifier for the 2 subdataset of dataset 3 through fault mode."
   ]
  },
  {
   "cell_type": "code",
   "execution_count": null,
   "metadata": {
    "colab": {
     "base_uri": "https://localhost:8080/"
    },
    "id": "r_pwGCBfHbHN",
    "outputId": "ac7e8c1c-e919-4cef-bf63-041e289b49ee"
   },
   "outputs": [
    {
     "name": "stdout",
     "output_type": "stream",
     "text": [
      "Model accuracy score with default parameters : 0.6157\n",
      "\n",
      "The scores for cross validation are:\n",
      " [0.7112069  0.62068966 0.46551724 0.36206897 0.51724138 0.56465517\n",
      " 0.61471861 0.71861472 0.86580087 0.77489177]\n",
      "\n",
      "The mean score is: 0.6215\n",
      "\n",
      "              precision    recall  f1-score   support\n",
      "\n",
      "         0.0       0.82      0.88      0.84       510\n",
      "         1.0       0.52      0.75      0.61       750\n",
      "         2.0       0.58      0.42      0.49       686\n",
      "         3.0       0.72      0.34      0.46       370\n",
      "\n",
      "    accuracy                           0.62      2316\n",
      "   macro avg       0.66      0.60      0.60      2316\n",
      "weighted avg       0.63      0.62      0.60      2316\n",
      "\n"
     ]
    }
   ],
   "source": [
    "lda_cluster0, ldacl0t, ldacl0p = classif_lda(x_train_f0, y_train_f0, x_val_f0, y_val_f0)"
   ]
  },
  {
   "cell_type": "code",
   "execution_count": null,
   "metadata": {
    "id": "iMAdzohMA2y2"
   },
   "outputs": [],
   "source": [
    "ldacl0p_t = lda_cluster0.predict(x_test1f0)"
   ]
  },
  {
   "cell_type": "code",
   "execution_count": null,
   "metadata": {
    "colab": {
     "base_uri": "https://localhost:8080/"
    },
    "id": "5-kSvhzoHbKx",
    "outputId": "1cdb5509-9ebe-4623-cb9b-bd20564a729c"
   },
   "outputs": [
    {
     "name": "stdout",
     "output_type": "stream",
     "text": [
      "Model accuracy score with default parameters : 0.6192\n",
      "\n",
      "The scores for cross validation are:\n",
      " [0.81967213 0.54508197 0.27868852 0.71721311 0.76229508 0.6147541\n",
      " 0.79098361 0.43209877 0.71193416 0.67901235]\n",
      "\n",
      "The mean score is: 0.6352\n",
      "\n",
      "              precision    recall  f1-score   support\n",
      "\n",
      "         0.0       0.84      0.87      0.86       612\n",
      "         1.0       0.53      0.78      0.63       896\n",
      "         2.0       0.56      0.40      0.47       695\n",
      "         3.0       1.00      0.00      0.01       234\n",
      "\n",
      "    accuracy                           0.62      2437\n",
      "   macro avg       0.73      0.51      0.49      2437\n",
      "weighted avg       0.66      0.62      0.58      2437\n",
      "\n"
     ]
    }
   ],
   "source": [
    "lda_cluster1, ldacl1t, ldacl1p = classif_lda(x_train_f1, y_train_f1, x_val_f1, y_val_f1)"
   ]
  },
  {
   "cell_type": "code",
   "execution_count": null,
   "metadata": {
    "id": "FzQvyGgzBCyp"
   },
   "outputs": [],
   "source": [
    "ldacl1p_t = lda_cluster1.predict(x_test1f1)"
   ]
  },
  {
   "cell_type": "markdown",
   "metadata": {
    "id": "oRbySGK8JaAc"
   },
   "source": [
    "## Hyperparameter tuning."
   ]
  },
  {
   "cell_type": "code",
   "execution_count": null,
   "metadata": {
    "id": "x7ZVoSi2HbOH"
   },
   "outputs": [],
   "source": [
    "# Define the hyperparameter grid.\n",
    "param_grid = {\n",
    "    'solver': ['svd', 'lsqr', 'eigen']\n",
    "}\n",
    "\n",
    "cv = RepeatedStratifiedKFold(n_splits=10, n_repeats=3, random_state=237)\n",
    "\n",
    "# Initialize the Gaussian Linear Discriminent Analysis model.\n",
    "linear = LinearDiscriminantAnalysis()"
   ]
  },
  {
   "cell_type": "markdown",
   "metadata": {
    "id": "-g39MbOjJdwg"
   },
   "source": [
    "### Parameter tuning dataset 1."
   ]
  },
  {
   "cell_type": "code",
   "execution_count": null,
   "metadata": {
    "colab": {
     "base_uri": "https://localhost:8080/"
    },
    "id": "7cIWStBmHbRi",
    "outputId": "f8c2da5a-ec06-4e3a-f133-a54178503fce"
   },
   "outputs": [
    {
     "name": "stdout",
     "output_type": "stream",
     "text": [
      "Accuracy: 0.727\n"
     ]
    }
   ],
   "source": [
    "best_model_lda1 = parameter_tuning(linear, param_grid, x_train1, y_train1, x_val1, y_val1, cv)"
   ]
  },
  {
   "cell_type": "code",
   "execution_count": null,
   "metadata": {
    "colab": {
     "base_uri": "https://localhost:8080/"
    },
    "id": "Sd5EwXnuiyGy",
    "outputId": "92507379-0bdd-4400-ed37-bcef35e8ecb9"
   },
   "outputs": [
    {
     "data": {
      "text/plain": [
       "{'solver': 'lsqr'}"
      ]
     },
     "execution_count": 88,
     "metadata": {},
     "output_type": "execute_result"
    }
   ],
   "source": [
    "best_model_lda1.best_params_"
   ]
  },
  {
   "cell_type": "markdown",
   "metadata": {
    "id": "8ItafTIaJl15"
   },
   "source": [
    "Gridsearch with shrinkage."
   ]
  },
  {
   "cell_type": "code",
   "execution_count": null,
   "metadata": {
    "id": "fSjAnjQDiyGz"
   },
   "outputs": [],
   "source": [
    "# Define the hyperparameter grid.\n",
    "grid_lda = {\n",
    "    'shrinkage': np.arange(0, 1, 0.01)\n",
    "}\n",
    "\n",
    "linear_shr = LinearDiscriminantAnalysis(solver='lsqr')"
   ]
  },
  {
   "cell_type": "code",
   "execution_count": null,
   "metadata": {
    "colab": {
     "base_uri": "https://localhost:8080/"
    },
    "id": "UoXWrDUxiyG0",
    "outputId": "cdf820d3-2168-4a47-856e-57cafd405091"
   },
   "outputs": [
    {
     "name": "stdout",
     "output_type": "stream",
     "text": [
      "Accuracy: 0.728\n"
     ]
    }
   ],
   "source": [
    "best_model_lda_shr1 = parameter_tuning(linear_shr, grid_lda, x_train1, y_train1, x_val1, y_val1, cv)"
   ]
  },
  {
   "cell_type": "code",
   "execution_count": null,
   "metadata": {
    "colab": {
     "base_uri": "https://localhost:8080/"
    },
    "id": "73sacxGXiyG0",
    "outputId": "111ffbe6-b61a-48e1-c800-c93454f92633"
   },
   "outputs": [
    {
     "data": {
      "text/plain": [
       "{'shrinkage': 0.01}"
      ]
     },
     "execution_count": 91,
     "metadata": {},
     "output_type": "execute_result"
    }
   ],
   "source": [
    "best_model_lda_shr1.best_params_"
   ]
  },
  {
   "cell_type": "markdown",
   "metadata": {
    "id": "9Jzh1GygJ1eO"
   },
   "source": [
    "### Parameter tuning dataset 2."
   ]
  },
  {
   "cell_type": "code",
   "execution_count": null,
   "metadata": {
    "colab": {
     "base_uri": "https://localhost:8080/"
    },
    "id": "yDC8PlLiJ2DB",
    "outputId": "ff744b39-558e-43d0-8f17-f0e8dd4a6a9f"
   },
   "outputs": [
    {
     "name": "stdout",
     "output_type": "stream",
     "text": [
      "Accuracy: 0.699\n"
     ]
    }
   ],
   "source": [
    "best_model_lda2 = parameter_tuning(linear, param_grid, x_train2, y_train2, x_val2, y_val2, cv)"
   ]
  },
  {
   "cell_type": "code",
   "execution_count": null,
   "metadata": {
    "colab": {
     "base_uri": "https://localhost:8080/"
    },
    "id": "vZnhdxekJ2HH",
    "outputId": "9e3eed0d-0100-4199-c55c-5f8ac60efb47"
   },
   "outputs": [
    {
     "data": {
      "text/plain": [
       "{'solver': 'lsqr'}"
      ]
     },
     "execution_count": 93,
     "metadata": {},
     "output_type": "execute_result"
    }
   ],
   "source": [
    "# Best parameter solver.\n",
    "best_model_lda2.best_params_"
   ]
  },
  {
   "cell_type": "code",
   "execution_count": null,
   "metadata": {
    "colab": {
     "base_uri": "https://localhost:8080/"
    },
    "id": "vPVHjgZBJ2Kw",
    "outputId": "84a7db3c-c208-4d25-8d17-b999511fa479"
   },
   "outputs": [
    {
     "name": "stdout",
     "output_type": "stream",
     "text": [
      "Accuracy: 0.698\n"
     ]
    }
   ],
   "source": [
    "best_model_lda_shr2 = parameter_tuning(linear_shr, grid_lda, x_train2, y_train2, x_val2, y_val2, cv)"
   ]
  },
  {
   "cell_type": "code",
   "execution_count": null,
   "metadata": {
    "colab": {
     "base_uri": "https://localhost:8080/"
    },
    "id": "N1k1lpYgJ2OQ",
    "outputId": "c899a5fe-6b60-4663-a217-23848e2be892"
   },
   "outputs": [
    {
     "data": {
      "text/plain": [
       "{'shrinkage': 0.06}"
      ]
     },
     "execution_count": 95,
     "metadata": {},
     "output_type": "execute_result"
    }
   ],
   "source": [
    "best_model_lda_shr2.best_params_"
   ]
  },
  {
   "cell_type": "markdown",
   "metadata": {
    "id": "nrTGt0xfJ_Oh"
   },
   "source": [
    "### Parameter tuning dataset 3."
   ]
  },
  {
   "cell_type": "code",
   "execution_count": null,
   "metadata": {
    "colab": {
     "base_uri": "https://localhost:8080/"
    },
    "id": "C3FfwIwsJ2R4",
    "outputId": "f8c125c8-4eac-4a75-c730-3b2dd04d7612"
   },
   "outputs": [
    {
     "name": "stdout",
     "output_type": "stream",
     "text": [
      "Accuracy: 0.639\n"
     ]
    }
   ],
   "source": [
    "best_model_lda3 = parameter_tuning(linear, param_grid, x_train3, y_train3, x_val3, y_val3, cv)"
   ]
  },
  {
   "cell_type": "code",
   "execution_count": null,
   "metadata": {
    "colab": {
     "base_uri": "https://localhost:8080/"
    },
    "id": "F9VH6IDyJ2VR",
    "outputId": "5b7eee9b-5b03-4ee1-f4dd-8b09f2d26227"
   },
   "outputs": [
    {
     "data": {
      "text/plain": [
       "{'solver': 'lsqr'}"
      ]
     },
     "execution_count": 97,
     "metadata": {},
     "output_type": "execute_result"
    }
   ],
   "source": [
    "# Best parameter solver.\n",
    "best_model_lda3.best_params_"
   ]
  },
  {
   "cell_type": "code",
   "execution_count": null,
   "metadata": {
    "colab": {
     "base_uri": "https://localhost:8080/"
    },
    "id": "sf03lQv3J2Yu",
    "outputId": "8af47c03-0609-40e0-e1a1-e1ee69bc1e01"
   },
   "outputs": [
    {
     "name": "stdout",
     "output_type": "stream",
     "text": [
      "Accuracy: 0.635\n"
     ]
    }
   ],
   "source": [
    "best_model_lda_shr3 = parameter_tuning(linear_shr, grid_lda, x_train3, y_train3, x_val3, y_val3, cv)"
   ]
  },
  {
   "cell_type": "code",
   "execution_count": null,
   "metadata": {
    "colab": {
     "base_uri": "https://localhost:8080/"
    },
    "id": "UcCsQ5x3iyHA",
    "outputId": "0c4df21b-3a60-48bb-da1a-00106df537b4"
   },
   "outputs": [
    {
     "data": {
      "text/plain": [
       "{'shrinkage': 0.1}"
      ]
     },
     "execution_count": 99,
     "metadata": {},
     "output_type": "execute_result"
    }
   ],
   "source": [
    "best_model_lda_shr3.best_params_"
   ]
  },
  {
   "cell_type": "markdown",
   "metadata": {
    "id": "0KPOIXnIKMtO"
   },
   "source": [
    "### Parameter tuning dataset 4."
   ]
  },
  {
   "cell_type": "code",
   "execution_count": null,
   "metadata": {
    "colab": {
     "base_uri": "https://localhost:8080/"
    },
    "id": "3LDwm3WKKOwu",
    "outputId": "2d0f8bc1-24f1-4e7c-c151-adb42d0929b9"
   },
   "outputs": [
    {
     "name": "stdout",
     "output_type": "stream",
     "text": [
      "Accuracy: 0.565\n"
     ]
    }
   ],
   "source": [
    "best_model_lda4 = parameter_tuning(linear, param_grid, x_train4, y_train4, x_val4, y_val4, cv)"
   ]
  },
  {
   "cell_type": "code",
   "execution_count": null,
   "metadata": {
    "colab": {
     "base_uri": "https://localhost:8080/"
    },
    "id": "akFJSzXfiyHA",
    "outputId": "c3b8367f-fbc7-4098-cdfa-45022ae3b078"
   },
   "outputs": [
    {
     "data": {
      "text/plain": [
       "{'solver': 'svd'}"
      ]
     },
     "execution_count": 104,
     "metadata": {},
     "output_type": "execute_result"
    }
   ],
   "source": [
    "# Best parameter solver.\n",
    "best_model_lda4.best_params_"
   ]
  },
  {
   "cell_type": "code",
   "execution_count": null,
   "metadata": {
    "colab": {
     "base_uri": "https://localhost:8080/"
    },
    "id": "fgZmrBrIKShJ",
    "outputId": "c03ac969-a885-4a00-801d-2beb7636add3"
   },
   "outputs": [
    {
     "name": "stdout",
     "output_type": "stream",
     "text": [
      "Accuracy: 0.565\n"
     ]
    }
   ],
   "source": [
    "best_model_lda_shr4 = parameter_tuning(linear_shr, grid_lda, x_train4, y_train4, x_val4, y_val4, cv)"
   ]
  },
  {
   "cell_type": "code",
   "execution_count": null,
   "metadata": {
    "colab": {
     "base_uri": "https://localhost:8080/"
    },
    "id": "J08VhmbWKSkt",
    "outputId": "cb9a7669-2a29-45c9-95fc-77e6d33a18dd"
   },
   "outputs": [
    {
     "data": {
      "text/plain": [
       "{'shrinkage': 0.07}"
      ]
     },
     "execution_count": 106,
     "metadata": {},
     "output_type": "execute_result"
    }
   ],
   "source": [
    "best_model_lda_shr4.best_params_"
   ]
  },
  {
   "cell_type": "markdown",
   "metadata": {
    "id": "WDcwwMnw-ZGD"
   },
   "source": [
    "### Parameter tuning for dataset clustered by fault mode of dataset 3 with label 0."
   ]
  },
  {
   "cell_type": "code",
   "execution_count": null,
   "metadata": {
    "id": "XfU7h_dY-cv0"
   },
   "outputs": [],
   "source": [
    "best_model_lda_cluster0 = parameter_tuning(linear, param_grid, x_train_f0, y_train_f0, x_val_f0, y_val_f0, cv)"
   ]
  },
  {
   "cell_type": "code",
   "execution_count": null,
   "metadata": {
    "id": "1TGrS_Mo-c_7"
   },
   "outputs": [],
   "source": [
    "# Best parameter solver.\n",
    "best_model_lda_cluster0.best_params_"
   ]
  },
  {
   "cell_type": "code",
   "execution_count": null,
   "metadata": {
    "id": "pHs-S4fC-sLv"
   },
   "outputs": [],
   "source": [
    "best_model_lda_shr_cluster0 = parameter_tuning(linear_shr, grid_lda, x_train_f0, y_train_f0, x_val_f0, y_val_f0, cv)"
   ]
  },
  {
   "cell_type": "code",
   "execution_count": null,
   "metadata": {
    "id": "qlN_zy2Q-sbK"
   },
   "outputs": [],
   "source": [
    "best_model_lda_shr_cluster0.best_params_"
   ]
  },
  {
   "cell_type": "markdown",
   "metadata": {
    "id": "oOxgBmrF-s4u"
   },
   "source": [
    "### Parameter tuning for dataset clustered by fault mode of dataset 3 with label 1."
   ]
  },
  {
   "cell_type": "code",
   "execution_count": null,
   "metadata": {
    "id": "SV8LmfnY-t7W"
   },
   "outputs": [],
   "source": [
    "best_model_lda_cluster1 = parameter_tuning(linear, param_grid, x_train_f1, y_train_f1, x_val_f1, y_val_f1, cv)"
   ]
  },
  {
   "cell_type": "code",
   "execution_count": null,
   "metadata": {
    "id": "oqw-_WKf-uJs"
   },
   "outputs": [],
   "source": [
    "# Best parameter solver.\n",
    "best_model_lda_cluster1.best_params_"
   ]
  },
  {
   "cell_type": "code",
   "execution_count": null,
   "metadata": {
    "id": "TiCb-H46-uXh"
   },
   "outputs": [],
   "source": [
    "best_model_lda_shr_cluster1 = parameter_tuning(linear_shr, grid_lda, x_train_f1, y_train_f1, x_val_f1, y_val_f1, cv)"
   ]
  },
  {
   "cell_type": "code",
   "execution_count": null,
   "metadata": {
    "id": "xChPZTMy-umv"
   },
   "outputs": [],
   "source": [
    "best_model_lda_shr_cluster1.best_params_"
   ]
  },
  {
   "cell_type": "markdown",
   "metadata": {
    "id": "C4SzY_NgKW9a"
   },
   "source": [
    "# Elman network"
   ]
  },
  {
   "cell_type": "code",
   "execution_count": null,
   "metadata": {
    "id": "K-yErU4mv5Zd"
   },
   "outputs": [],
   "source": [
    "from utils import train_elman"
   ]
  },
  {
   "cell_type": "markdown",
   "metadata": {
    "id": "kSqgghNbzQz1"
   },
   "source": [
    "## Elman one line\n",
    "\n"
   ]
  },
  {
   "cell_type": "markdown",
   "metadata": {
    "id": "yynTuPQWLjkl"
   },
   "source": [
    "#### Train Elman that takes only one observation on 4 main datasets"
   ]
  },
  {
   "cell_type": "markdown",
   "metadata": {
    "id": "o-KuTiFzeo2k"
   },
   "source": [
    "### FD001"
   ]
  },
  {
   "cell_type": "code",
   "execution_count": null,
   "metadata": {
    "id": "hsThwZrBWT_i"
   },
   "outputs": [],
   "source": [
    "x_train1l, y_train1l, x_val1l, y_val1l, x_test1l, y_test1l, X_train_pre1l, X_test_pre1l = process_data_standard2('FD001',\n",
    "                                                                                                 sensors,\n",
    "                                                                                                 dir_path,\n",
    "                                                                                                 condition ='10.0_0.25_100.0',\n",
    "                                                                                                 algo='clf', sequence_length=1,\n",
    "\n",
    "                                                                                                 clust=-1)"
   ]
  },
  {
   "cell_type": "code",
   "execution_count": null,
   "metadata": {
    "colab": {
     "base_uri": "https://localhost:8080/"
    },
    "id": "IcWxSvxzzaK1",
    "outputId": "4aab5992-b0cb-470c-da3a-1841059f0008"
   },
   "outputs": [
    {
     "name": "stdout",
     "output_type": "stream",
     "text": [
      "Model: \"model_16\"\n",
      "_________________________________________________________________\n",
      " Layer (type)                Output Shape              Param #   \n",
      "=================================================================\n",
      " input_17 (InputLayer)       [(None, 1, 15)]           0         \n",
      "                                                                 \n",
      " simple_rnn_16 (SimpleRNN)   (None, 256)               69632     \n",
      "                                                                 \n",
      " dense_16 (Dense)            (None, 4)                 1028      \n",
      "                                                                 \n",
      "=================================================================\n",
      "Total params: 70660 (276.02 KB)\n",
      "Trainable params: 70660 (276.02 KB)\n",
      "Non-trainable params: 0 (0.00 Byte)\n",
      "_________________________________________________________________\n",
      "None\n",
      "306.19588685035706\n"
     ]
    }
   ],
   "source": [
    "\n",
    "\n",
    "elman1l, hist1l = train_elman(\"elman1_ds1\", x_train1l, y_train1l, x_val1l, y_val1l, 1, 256, neurons2= None, optimizer='Adadelta')"
   ]
  },
  {
   "cell_type": "code",
   "execution_count": null,
   "metadata": {
    "colab": {
     "base_uri": "https://localhost:8080/"
    },
    "id": "KXtTCK-3SkP9",
    "outputId": "85c93581-29d4-4733-9363-e405ed496dca"
   },
   "outputs": [
    {
     "name": "stdout",
     "output_type": "stream",
     "text": [
      "Model: \"model\"\n",
      "_________________________________________________________________\n",
      " Layer (type)                Output Shape              Param #   \n",
      "=================================================================\n",
      " input_1 (InputLayer)        [(None, 1, 15)]           0         \n",
      "                                                                 \n",
      " simple_rnn (SimpleRNN)      (None, 256)               69632     \n",
      "                                                                 \n",
      " dense (Dense)               (None, 4)                 1028      \n",
      "                                                                 \n",
      "=================================================================\n",
      "Total params: 70660 (276.02 KB)\n",
      "Trainable params: 70660 (276.02 KB)\n",
      "Non-trainable params: 0 (0.00 Byte)\n",
      "_________________________________________________________________\n",
      "None\n",
      "295.04047417640686\n"
     ]
    }
   ],
   "source": [
    "elman1lv2, hist1lv2 = train_elman(\"elman1_v2_ds1\", x_train1l, y_train1l, x_val1l, y_val1l, 1, 256, neurons2= None, optimizer='Adadelta')"
   ]
  },
  {
   "cell_type": "code",
   "execution_count": null,
   "metadata": {
    "colab": {
     "base_uri": "https://localhost:8080/"
    },
    "id": "t47l9879StmI",
    "outputId": "350cf595-33b5-43fa-ca63-3266627c15e0"
   },
   "outputs": [
    {
     "name": "stdout",
     "output_type": "stream",
     "text": [
      "Model: \"model_1\"\n",
      "_________________________________________________________________\n",
      " Layer (type)                Output Shape              Param #   \n",
      "=================================================================\n",
      " input_2 (InputLayer)        [(None, 1, 15)]           0         \n",
      "                                                                 \n",
      " simple_rnn_1 (SimpleRNN)    (None, 256)               69632     \n",
      "                                                                 \n",
      " dense_1 (Dense)             (None, 4)                 1028      \n",
      "                                                                 \n",
      "=================================================================\n",
      "Total params: 70660 (276.02 KB)\n",
      "Trainable params: 70660 (276.02 KB)\n",
      "Non-trainable params: 0 (0.00 Byte)\n",
      "_________________________________________________________________\n",
      "None\n",
      "267.45800018310547\n"
     ]
    }
   ],
   "source": [
    "elman1lv3, hist1lv3 = train_elman(\"elman1_v3_ds1\", x_train1l, y_train1l, x_val1l, y_val1l, 1, 256, neurons2= None, optimizer='Adadelta')\n"
   ]
  },
  {
   "cell_type": "code",
   "execution_count": null,
   "metadata": {
    "colab": {
     "base_uri": "https://localhost:8080/"
    },
    "id": "0LLmi9XgSt2D",
    "outputId": "52d4e8a1-98ce-40c7-8592-49cbc32e8b2f"
   },
   "outputs": [
    {
     "name": "stdout",
     "output_type": "stream",
     "text": [
      "Model: \"model_2\"\n",
      "_________________________________________________________________\n",
      " Layer (type)                Output Shape              Param #   \n",
      "=================================================================\n",
      " input_3 (InputLayer)        [(None, 1, 15)]           0         \n",
      "                                                                 \n",
      " simple_rnn_2 (SimpleRNN)    (None, 256)               69632     \n",
      "                                                                 \n",
      " dense_2 (Dense)             (None, 4)                 1028      \n",
      "                                                                 \n",
      "=================================================================\n",
      "Total params: 70660 (276.02 KB)\n",
      "Trainable params: 70660 (276.02 KB)\n",
      "Non-trainable params: 0 (0.00 Byte)\n",
      "_________________________________________________________________\n",
      "None\n",
      "301.33780217170715\n"
     ]
    }
   ],
   "source": [
    "elman1lv4, hist1lv4 = train_elman(\"elman1_v4_ds1\", x_train1l, y_train1l, x_val1l, y_val1l, 1, 256, neurons2= None, optimizer='Adadelta')\n"
   ]
  },
  {
   "cell_type": "code",
   "execution_count": null,
   "metadata": {
    "colab": {
     "base_uri": "https://localhost:8080/"
    },
    "id": "Gc8aLt78SukO",
    "outputId": "95bc36a9-4086-4c2f-a784-508e6b658433"
   },
   "outputs": [
    {
     "name": "stdout",
     "output_type": "stream",
     "text": [
      "Model: \"model_3\"\n",
      "_________________________________________________________________\n",
      " Layer (type)                Output Shape              Param #   \n",
      "=================================================================\n",
      " input_4 (InputLayer)        [(None, 1, 15)]           0         \n",
      "                                                                 \n",
      " simple_rnn_3 (SimpleRNN)    (None, 256)               69632     \n",
      "                                                                 \n",
      " dense_3 (Dense)             (None, 4)                 1028      \n",
      "                                                                 \n",
      "=================================================================\n",
      "Total params: 70660 (276.02 KB)\n",
      "Trainable params: 70660 (276.02 KB)\n",
      "Non-trainable params: 0 (0.00 Byte)\n",
      "_________________________________________________________________\n",
      "None\n",
      "329.6912455558777\n"
     ]
    }
   ],
   "source": [
    "elman1lv5, hist1lv5 = train_elman(\"elman1_v5_ds1\", x_train1l, y_train1l, x_val1l, y_val1l, 1, 256, neurons2= None, optimizer='Adadelta')\n"
   ]
  },
  {
   "cell_type": "markdown",
   "metadata": {
    "id": "AhuJ3Bkpetdn"
   },
   "source": [
    "### FD002"
   ]
  },
  {
   "cell_type": "code",
   "execution_count": null,
   "metadata": {
    "id": "wEdbwAwmWhBU"
   },
   "outputs": [],
   "source": [
    "x_train2l, y_train2l, x_val2l, y_val2l, x_test2l, y_test2l, X_train_pre2l, X_test_pre2l = process_data_standard2('FD002',\n",
    "                                                                                                 sensors,\n",
    "                                                                                                 dir_path,\n",
    "                                                                                                 condition ='10.0_0.25_100.0',\n",
    "                                                                                                 algo='clf', sequence_length=1,\n",
    "\n",
    "                                                                                                 clust=-1)"
   ]
  },
  {
   "cell_type": "code",
   "execution_count": null,
   "metadata": {
    "colab": {
     "base_uri": "https://localhost:8080/"
    },
    "id": "mvKiezl0zaX1",
    "outputId": "a27784bb-b400-4e97-c0a3-e81b366c029d"
   },
   "outputs": [
    {
     "name": "stdout",
     "output_type": "stream",
     "text": [
      "Model: \"model_17\"\n",
      "_________________________________________________________________\n",
      " Layer (type)                Output Shape              Param #   \n",
      "=================================================================\n",
      " input_18 (InputLayer)       [(None, 1, 15)]           0         \n",
      "                                                                 \n",
      " simple_rnn_17 (SimpleRNN)   (None, 256)               69632     \n",
      "                                                                 \n",
      " dense_17 (Dense)            (None, 4)                 1028      \n",
      "                                                                 \n",
      "=================================================================\n",
      "Total params: 70660 (276.02 KB)\n",
      "Trainable params: 70660 (276.02 KB)\n",
      "Non-trainable params: 0 (0.00 Byte)\n",
      "_________________________________________________________________\n",
      "None\n",
      "420.19116473197937\n"
     ]
    }
   ],
   "source": [
    "\n",
    "\n",
    "elman2l, hist2l = train_elman(\"xfx\", x_train2l, y_train2l, x_val2l, y_val2l, 1, 256, neurons2= None, optimizer='Adadelta')"
   ]
  },
  {
   "cell_type": "code",
   "execution_count": null,
   "metadata": {
    "colab": {
     "base_uri": "https://localhost:8080/"
    },
    "id": "3gylNYd8TU8f",
    "outputId": "933408d4-7de2-4741-cad5-921dbe0c698d"
   },
   "outputs": [
    {
     "name": "stdout",
     "output_type": "stream",
     "text": [
      "Model: \"model_4\"\n",
      "_________________________________________________________________\n",
      " Layer (type)                Output Shape              Param #   \n",
      "=================================================================\n",
      " input_5 (InputLayer)        [(None, 1, 15)]           0         \n",
      "                                                                 \n",
      " simple_rnn_4 (SimpleRNN)    (None, 256)               69632     \n",
      "                                                                 \n",
      " dense_4 (Dense)             (None, 4)                 1028      \n",
      "                                                                 \n",
      "=================================================================\n",
      "Total params: 70660 (276.02 KB)\n",
      "Trainable params: 70660 (276.02 KB)\n",
      "Non-trainable params: 0 (0.00 Byte)\n",
      "_________________________________________________________________\n",
      "None\n",
      "668.0018801689148\n"
     ]
    }
   ],
   "source": [
    "elman2lv2, hist2lv2 = train_elman(\"elman2_v2_ds2\", x_train2l, y_train2l, x_val2l, y_val2l, 1, 256, neurons2= None, optimizer='Adadelta')\n"
   ]
  },
  {
   "cell_type": "code",
   "execution_count": null,
   "metadata": {
    "colab": {
     "base_uri": "https://localhost:8080/"
    },
    "id": "6LbV-sDJTVI7",
    "outputId": "59eeb801-85fc-4107-841c-77ec2d79618f"
   },
   "outputs": [
    {
     "name": "stdout",
     "output_type": "stream",
     "text": [
      "Model: \"model_5\"\n",
      "_________________________________________________________________\n",
      " Layer (type)                Output Shape              Param #   \n",
      "=================================================================\n",
      " input_6 (InputLayer)        [(None, 1, 15)]           0         \n",
      "                                                                 \n",
      " simple_rnn_5 (SimpleRNN)    (None, 256)               69632     \n",
      "                                                                 \n",
      " dense_5 (Dense)             (None, 4)                 1028      \n",
      "                                                                 \n",
      "=================================================================\n",
      "Total params: 70660 (276.02 KB)\n",
      "Trainable params: 70660 (276.02 KB)\n",
      "Non-trainable params: 0 (0.00 Byte)\n",
      "_________________________________________________________________\n",
      "None\n",
      "605.815661907196\n"
     ]
    }
   ],
   "source": [
    "elman2lv3, hist2lv3 = train_elman(\"elman2_v3_ds2\", x_train2l, y_train2l, x_val2l, y_val2l, 1, 256, neurons2= None, optimizer='Adadelta')\n"
   ]
  },
  {
   "cell_type": "code",
   "execution_count": null,
   "metadata": {
    "colab": {
     "base_uri": "https://localhost:8080/"
    },
    "id": "pT6ThJPdTVVl",
    "outputId": "729b0247-4478-42df-8eba-7eae5a913445"
   },
   "outputs": [
    {
     "name": "stdout",
     "output_type": "stream",
     "text": [
      "Model: \"model_6\"\n",
      "_________________________________________________________________\n",
      " Layer (type)                Output Shape              Param #   \n",
      "=================================================================\n",
      " input_7 (InputLayer)        [(None, 1, 15)]           0         \n",
      "                                                                 \n",
      " simple_rnn_6 (SimpleRNN)    (None, 256)               69632     \n",
      "                                                                 \n",
      " dense_6 (Dense)             (None, 4)                 1028      \n",
      "                                                                 \n",
      "=================================================================\n",
      "Total params: 70660 (276.02 KB)\n",
      "Trainable params: 70660 (276.02 KB)\n",
      "Non-trainable params: 0 (0.00 Byte)\n",
      "_________________________________________________________________\n",
      "None\n",
      "379.20612359046936\n"
     ]
    }
   ],
   "source": [
    "elman2lv4, hist2lv4 = train_elman(\"elman2_v4_ds2\", x_train2l, y_train2l, x_val2l, y_val2l, 1, 256, neurons2= None, optimizer='Adadelta')\n"
   ]
  },
  {
   "cell_type": "code",
   "execution_count": null,
   "metadata": {
    "colab": {
     "base_uri": "https://localhost:8080/"
    },
    "id": "Qx--BO9iTVfl",
    "outputId": "dc129fc3-35b9-43f1-8f9a-306804132046"
   },
   "outputs": [
    {
     "name": "stdout",
     "output_type": "stream",
     "text": [
      "Model: \"model_7\"\n",
      "_________________________________________________________________\n",
      " Layer (type)                Output Shape              Param #   \n",
      "=================================================================\n",
      " input_8 (InputLayer)        [(None, 1, 15)]           0         \n",
      "                                                                 \n",
      " simple_rnn_7 (SimpleRNN)    (None, 256)               69632     \n",
      "                                                                 \n",
      " dense_7 (Dense)             (None, 4)                 1028      \n",
      "                                                                 \n",
      "=================================================================\n",
      "Total params: 70660 (276.02 KB)\n",
      "Trainable params: 70660 (276.02 KB)\n",
      "Non-trainable params: 0 (0.00 Byte)\n",
      "_________________________________________________________________\n",
      "None\n",
      "795.0913350582123\n"
     ]
    }
   ],
   "source": [
    "elman2lv5, hist2lv5 = train_elman(\"elman2_v5_ds2\", x_train2l, y_train2l, x_val2l, y_val2l, 1, 256, neurons2= None, optimizer='Adadelta')\n"
   ]
  },
  {
   "cell_type": "markdown",
   "metadata": {
    "id": "O_soDT-7exrE"
   },
   "source": [
    "### FD003"
   ]
  },
  {
   "cell_type": "code",
   "execution_count": null,
   "metadata": {
    "id": "wNR2sTCTWmz9"
   },
   "outputs": [],
   "source": [
    "x_train3l, y_train3l, x_val3l, y_val3l, x_test3l, y_test3l, X_train_pre3l, X_test_pre3l = process_data_standard2('FD003',\n",
    "                                                                                                 sensors,\n",
    "                                                                                                 dir_path,\n",
    "                                                                                                 condition ='10.0_0.25_100.0',\n",
    "                                                                                                 algo='clf', sequence_length=1,\n",
    "\n",
    "                                                                                                 clust=-1)\n"
   ]
  },
  {
   "cell_type": "code",
   "execution_count": null,
   "metadata": {
    "colab": {
     "base_uri": "https://localhost:8080/"
    },
    "id": "9IP-P6Kwzagc",
    "outputId": "84b9eb78-183e-43d9-bd1a-4c82face2321"
   },
   "outputs": [
    {
     "name": "stdout",
     "output_type": "stream",
     "text": [
      "Model: \"model_18\"\n",
      "_________________________________________________________________\n",
      " Layer (type)                Output Shape              Param #   \n",
      "=================================================================\n",
      " input_19 (InputLayer)       [(None, 1, 15)]           0         \n",
      "                                                                 \n",
      " simple_rnn_18 (SimpleRNN)   (None, 256)               69632     \n",
      "                                                                 \n",
      " dense_18 (Dense)            (None, 4)                 1028      \n",
      "                                                                 \n",
      "=================================================================\n",
      "Total params: 70660 (276.02 KB)\n",
      "Trainable params: 70660 (276.02 KB)\n",
      "Non-trainable params: 0 (0.00 Byte)\n",
      "_________________________________________________________________\n",
      "None\n",
      "415.65037274360657\n"
     ]
    }
   ],
   "source": [
    "\n",
    "elman3l, hist3l = train_elman(\"elman1_ds3\", x_train3l, y_train3l, x_val3l, y_val3l, 1, 256, neurons2= None, optimizer='Adadelta')"
   ]
  },
  {
   "cell_type": "code",
   "execution_count": null,
   "metadata": {
    "colab": {
     "base_uri": "https://localhost:8080/"
    },
    "id": "fO-hQfokUQ_4",
    "outputId": "873b01b8-e781-4dac-cdfe-3855284a2996"
   },
   "outputs": [
    {
     "name": "stdout",
     "output_type": "stream",
     "text": [
      "Model: \"model_20\"\n",
      "_________________________________________________________________\n",
      " Layer (type)                Output Shape              Param #   \n",
      "=================================================================\n",
      " input_21 (InputLayer)       [(None, 1, 15)]           0         \n",
      "                                                                 \n",
      " simple_rnn_20 (SimpleRNN)   (None, 256)               69632     \n",
      "                                                                 \n",
      " dense_20 (Dense)            (None, 4)                 1028      \n",
      "                                                                 \n",
      "=================================================================\n",
      "Total params: 70660 (276.02 KB)\n",
      "Trainable params: 70660 (276.02 KB)\n",
      "Non-trainable params: 0 (0.00 Byte)\n",
      "_________________________________________________________________\n",
      "None\n",
      "414.2959749698639\n"
     ]
    }
   ],
   "source": [
    "elman3lv2, hist3lv2 = train_elman(\"elman3_v2_ds3\", x_train3l, y_train3l, x_val3l, y_val3l, 1, 256, neurons2= None, optimizer='Adadelta')\n"
   ]
  },
  {
   "cell_type": "code",
   "execution_count": null,
   "metadata": {
    "colab": {
     "base_uri": "https://localhost:8080/"
    },
    "id": "_IRC252eURG9",
    "outputId": "83006cd6-0335-4e79-f18d-7ec6c79025da"
   },
   "outputs": [
    {
     "name": "stdout",
     "output_type": "stream",
     "text": [
      "Model: \"model_9\"\n",
      "_________________________________________________________________\n",
      " Layer (type)                Output Shape              Param #   \n",
      "=================================================================\n",
      " input_10 (InputLayer)       [(None, 1, 15)]           0         \n",
      "                                                                 \n",
      " simple_rnn_9 (SimpleRNN)    (None, 256)               69632     \n",
      "                                                                 \n",
      " dense_9 (Dense)             (None, 4)                 1028      \n",
      "                                                                 \n",
      "=================================================================\n",
      "Total params: 70660 (276.02 KB)\n",
      "Trainable params: 70660 (276.02 KB)\n",
      "Non-trainable params: 0 (0.00 Byte)\n",
      "_________________________________________________________________\n",
      "None\n",
      "405.25956177711487\n"
     ]
    }
   ],
   "source": [
    "elman3lv3, hist3lv3 = train_elman(\"elman3_v3_ds3\", x_train3l, y_train3l, x_val3l, y_val3l, 1, 256, neurons2= None, optimizer='Adadelta')\n"
   ]
  },
  {
   "cell_type": "code",
   "execution_count": null,
   "metadata": {
    "colab": {
     "base_uri": "https://localhost:8080/"
    },
    "id": "XSSma6JSURNY",
    "outputId": "841bf0a4-1158-44ab-c1c2-6c7cf48461c7"
   },
   "outputs": [
    {
     "name": "stdout",
     "output_type": "stream",
     "text": [
      "Model: \"model_10\"\n",
      "_________________________________________________________________\n",
      " Layer (type)                Output Shape              Param #   \n",
      "=================================================================\n",
      " input_11 (InputLayer)       [(None, 1, 15)]           0         \n",
      "                                                                 \n",
      " simple_rnn_10 (SimpleRNN)   (None, 256)               69632     \n",
      "                                                                 \n",
      " dense_10 (Dense)            (None, 4)                 1028      \n",
      "                                                                 \n",
      "=================================================================\n",
      "Total params: 70660 (276.02 KB)\n",
      "Trainable params: 70660 (276.02 KB)\n",
      "Non-trainable params: 0 (0.00 Byte)\n",
      "_________________________________________________________________\n",
      "None\n",
      "406.68492579460144\n"
     ]
    }
   ],
   "source": [
    "elman3lv4, hist3lv4 = train_elman(\"elman3_v4_ds3\", x_train3l, y_train3l, x_val3l, y_val3l, 1, 256, neurons2= None, optimizer='Adadelta')\n"
   ]
  },
  {
   "cell_type": "code",
   "execution_count": null,
   "metadata": {
    "colab": {
     "base_uri": "https://localhost:8080/"
    },
    "id": "cnUk_GzbURUK",
    "outputId": "99879348-09d5-4693-ef76-482787709391"
   },
   "outputs": [
    {
     "name": "stdout",
     "output_type": "stream",
     "text": [
      "Model: \"model_11\"\n",
      "_________________________________________________________________\n",
      " Layer (type)                Output Shape              Param #   \n",
      "=================================================================\n",
      " input_12 (InputLayer)       [(None, 1, 15)]           0         \n",
      "                                                                 \n",
      " simple_rnn_11 (SimpleRNN)   (None, 256)               69632     \n",
      "                                                                 \n",
      " dense_11 (Dense)            (None, 4)                 1028      \n",
      "                                                                 \n",
      "=================================================================\n",
      "Total params: 70660 (276.02 KB)\n",
      "Trainable params: 70660 (276.02 KB)\n",
      "Non-trainable params: 0 (0.00 Byte)\n",
      "_________________________________________________________________\n",
      "None\n",
      "415.64572286605835\n"
     ]
    }
   ],
   "source": [
    "elman3lv5, hist3lv5 = train_elman(\"elman3_v5_ds3\", x_train3l, y_train3l, x_val3l, y_val3l, 1, 256, neurons2= None, optimizer='Adadelta')\n"
   ]
  },
  {
   "cell_type": "markdown",
   "metadata": {
    "id": "A2mLA0Lte32l"
   },
   "source": [
    "### FD004"
   ]
  },
  {
   "cell_type": "code",
   "execution_count": null,
   "metadata": {
    "id": "E6-xBelMWsF1"
   },
   "outputs": [],
   "source": [
    "x_train4l, y_train4l, x_val4l, y_val4l, x_test4l, y_test4l, X_train_pre4l, X_test_pre4l = process_data_standard2('FD004',\n",
    "                                                                                                 sensors,\n",
    "                                                                                                 dir_path,\n",
    "                                                                                                 condition ='10.0_0.25_100.0',\n",
    "                                                                                                 algo='clf', sequence_length=1,\n",
    "\n",
    "                                                                                                 clust=-1)"
   ]
  },
  {
   "cell_type": "code",
   "execution_count": null,
   "metadata": {
    "colab": {
     "base_uri": "https://localhost:8080/"
    },
    "id": "S0Yy1aYczaoA",
    "outputId": "20fb9c08-96e8-45a0-c693-c6aae921716f"
   },
   "outputs": [
    {
     "name": "stdout",
     "output_type": "stream",
     "text": [
      "Model: \"model_19\"\n",
      "_________________________________________________________________\n",
      " Layer (type)                Output Shape              Param #   \n",
      "=================================================================\n",
      " input_20 (InputLayer)       [(None, 1, 15)]           0         \n",
      "                                                                 \n",
      " simple_rnn_19 (SimpleRNN)   (None, 256)               69632     \n",
      "                                                                 \n",
      " dense_19 (Dense)            (None, 4)                 1028      \n",
      "                                                                 \n",
      "=================================================================\n",
      "Total params: 70660 (276.02 KB)\n",
      "Trainable params: 70660 (276.02 KB)\n",
      "Non-trainable params: 0 (0.00 Byte)\n",
      "_________________________________________________________________\n",
      "None\n",
      "898.2899444103241\n"
     ]
    }
   ],
   "source": [
    "\n",
    "\n",
    "elman4l, hist4l = train_elman(\"elman1_ds4\", x_train4l, y_train4l, x_val4l, y_val4l, 1, 256, neurons2= None, optimizer='Adadelta')"
   ]
  },
  {
   "cell_type": "code",
   "execution_count": null,
   "metadata": {
    "colab": {
     "base_uri": "https://localhost:8080/"
    },
    "id": "lDTDYYA4VqbH",
    "outputId": "4a87dec6-9848-4a3e-9956-3dc5df9c4eb7"
   },
   "outputs": [
    {
     "name": "stdout",
     "output_type": "stream",
     "text": [
      "Model: \"model_12\"\n",
      "_________________________________________________________________\n",
      " Layer (type)                Output Shape              Param #   \n",
      "=================================================================\n",
      " input_13 (InputLayer)       [(None, 1, 15)]           0         \n",
      "                                                                 \n",
      " simple_rnn_12 (SimpleRNN)   (None, 256)               69632     \n",
      "                                                                 \n",
      " dense_12 (Dense)            (None, 4)                 1028      \n",
      "                                                                 \n",
      "=================================================================\n",
      "Total params: 70660 (276.02 KB)\n",
      "Trainable params: 70660 (276.02 KB)\n",
      "Non-trainable params: 0 (0.00 Byte)\n",
      "_________________________________________________________________\n",
      "None\n",
      "627.1570990085602\n"
     ]
    }
   ],
   "source": [
    "elman4lv2, hist4lv2 = train_elman(\"elman4_v2_ds4\", x_train4l, y_train4l, x_val4l, y_val4l, 1, 256, neurons2= None, optimizer='Adadelta')\n"
   ]
  },
  {
   "cell_type": "code",
   "execution_count": null,
   "metadata": {
    "colab": {
     "base_uri": "https://localhost:8080/"
    },
    "id": "Dsh5HQqOVqhL",
    "outputId": "bba9b6bc-91d2-4d54-86e2-55db4e3b3130"
   },
   "outputs": [
    {
     "name": "stdout",
     "output_type": "stream",
     "text": [
      "Model: \"model_13\"\n",
      "_________________________________________________________________\n",
      " Layer (type)                Output Shape              Param #   \n",
      "=================================================================\n",
      " input_14 (InputLayer)       [(None, 1, 15)]           0         \n",
      "                                                                 \n",
      " simple_rnn_13 (SimpleRNN)   (None, 256)               69632     \n",
      "                                                                 \n",
      " dense_13 (Dense)            (None, 4)                 1028      \n",
      "                                                                 \n",
      "=================================================================\n",
      "Total params: 70660 (276.02 KB)\n",
      "Trainable params: 70660 (276.02 KB)\n",
      "Non-trainable params: 0 (0.00 Byte)\n",
      "_________________________________________________________________\n",
      "None\n",
      "975.4867980480194\n"
     ]
    }
   ],
   "source": [
    "elman4lv3, hist4lv3 = train_elman(\"elman4_v3_ds4\", x_train4l, y_train4l, x_val4l, y_val4l, 1, 256, neurons2= None, optimizer='Adadelta')\n"
   ]
  },
  {
   "cell_type": "code",
   "execution_count": null,
   "metadata": {
    "colab": {
     "base_uri": "https://localhost:8080/"
    },
    "id": "H8YucKZPVqoN",
    "outputId": "1977fd86-34e9-4b64-866c-15cc5b04691b"
   },
   "outputs": [
    {
     "name": "stdout",
     "output_type": "stream",
     "text": [
      "Model: \"model_14\"\n",
      "_________________________________________________________________\n",
      " Layer (type)                Output Shape              Param #   \n",
      "=================================================================\n",
      " input_15 (InputLayer)       [(None, 1, 15)]           0         \n",
      "                                                                 \n",
      " simple_rnn_14 (SimpleRNN)   (None, 256)               69632     \n",
      "                                                                 \n",
      " dense_14 (Dense)            (None, 4)                 1028      \n",
      "                                                                 \n",
      "=================================================================\n",
      "Total params: 70660 (276.02 KB)\n",
      "Trainable params: 70660 (276.02 KB)\n",
      "Non-trainable params: 0 (0.00 Byte)\n",
      "_________________________________________________________________\n",
      "None\n",
      "596.7743253707886\n"
     ]
    }
   ],
   "source": [
    "elman4lv4, hist4lv4 = train_elman(\"elman4_v4_ds4\", x_train4l, y_train4l, x_val4l, y_val4l, 1, 256, neurons2= None, optimizer='Adadelta')\n"
   ]
  },
  {
   "cell_type": "code",
   "execution_count": null,
   "metadata": {
    "colab": {
     "base_uri": "https://localhost:8080/"
    },
    "id": "AJBuJ09jVqvq",
    "outputId": "1ee0aa33-6ab2-4afd-b77a-1f15eeb331f6"
   },
   "outputs": [
    {
     "name": "stdout",
     "output_type": "stream",
     "text": [
      "Model: \"model_15\"\n",
      "_________________________________________________________________\n",
      " Layer (type)                Output Shape              Param #   \n",
      "=================================================================\n",
      " input_16 (InputLayer)       [(None, 1, 15)]           0         \n",
      "                                                                 \n",
      " simple_rnn_15 (SimpleRNN)   (None, 256)               69632     \n",
      "                                                                 \n",
      " dense_15 (Dense)            (None, 4)                 1028      \n",
      "                                                                 \n",
      "=================================================================\n",
      "Total params: 70660 (276.02 KB)\n",
      "Trainable params: 70660 (276.02 KB)\n",
      "Non-trainable params: 0 (0.00 Byte)\n",
      "_________________________________________________________________\n",
      "None\n",
      "343.8621401786804\n"
     ]
    }
   ],
   "source": [
    "elman4lv5, hist4lv5 = train_elman(\"elman4_v5_ds4\", x_train4l, y_train4l, x_val4l, y_val4l, 1, 256, neurons2= None, optimizer='Adadelta')\n"
   ]
  },
  {
   "cell_type": "markdown",
   "metadata": {
    "id": "lSsT9Mmze7VX"
   },
   "source": [
    "### Save history"
   ]
  },
  {
   "cell_type": "markdown",
   "metadata": {
    "id": "fw4lD--p-RrJ"
   },
   "source": []
  },
  {
   "cell_type": "code",
   "execution_count": null,
   "metadata": {
    "id": "9Q-wRphRY7Wc"
   },
   "outputs": [],
   "source": [
    "hist1 = [hist1l.history, hist1lv2.history, hist1lv3.history, hist1lv4.history, hist1lv5.history]\n",
    "hist2 = [hist2l.history, hist2lv2.history, hist2lv3.history, hist2lv4.history, hist2lv5.history]\n",
    "hist3 = [hist3l.history, hist3lv2.history, hist3lv3.history, hist3lv4.history, hist3lv5.history]\n",
    "hist4 = [hist4l.history, hist4lv2.history, hist4lv3.history, hist4lv4.history, hist4lv5.history]\n",
    "hists = [hist1, hist2, hist3, hist4]\n",
    "\n",
    "filehandler = open(b\"/content/drive/MyDrive/classiff_results/history1l.pkl\",\"wb\")\n",
    "pickle.dump(hists,filehandler)"
   ]
  },
  {
   "cell_type": "markdown",
   "metadata": {
    "id": "iVyC3L7Ve-CH"
   },
   "source": [
    "### Predictions of Elman one line on the validation dataset"
   ]
  },
  {
   "cell_type": "code",
   "execution_count": null,
   "metadata": {
    "colab": {
     "base_uri": "https://localhost:8080/"
    },
    "id": "Nx0f7qjHza0Y",
    "outputId": "9c762ed6-9156-407b-d9aa-fb833c99fb06"
   },
   "outputs": [
    {
     "name": "stdout",
     "output_type": "stream",
     "text": [
      "128/128 [==============================] - 0s 2ms/step\n",
      "              precision    recall  f1-score   support\n",
      "\n",
      "         0.0       0.85      0.89      0.87      1020\n",
      "         1.0       0.63      0.67      0.65      1500\n",
      "         2.0       0.54      0.65      0.59      1157\n",
      "         3.0       0.00      0.00      0.00       393\n",
      "\n",
      "    accuracy                           0.65      4070\n",
      "   macro avg       0.50      0.55      0.53      4070\n",
      "weighted avg       0.60      0.65      0.62      4070\n",
      "\n"
     ]
    }
   ],
   "source": [
    "y_pred1l = elman1l.predict(x_val1l).argmax(axis=1)\n",
    "print(classification_report(y_val1l.flatten(), y_pred1l,zero_division=0))"
   ]
  },
  {
   "cell_type": "code",
   "execution_count": null,
   "metadata": {
    "colab": {
     "base_uri": "https://localhost:8080/"
    },
    "id": "isYXxX1ZxAxL",
    "outputId": "8c8d9508-fbee-461e-e301-ce2d8f2971d7"
   },
   "outputs": [
    {
     "name": "stdout",
     "output_type": "stream",
     "text": [
      "4/4 [==============================] - 0s 4ms/step\n"
     ]
    }
   ],
   "source": [
    "y_pred1l_t = elman1l.predict(x_test1l).argmax(axis=1)"
   ]
  },
  {
   "cell_type": "code",
   "execution_count": null,
   "metadata": {
    "colab": {
     "base_uri": "https://localhost:8080/"
    },
    "id": "1UmHo7WUza8J",
    "outputId": "1c50ebc3-8100-48d3-c364-cdfadb993dc0"
   },
   "outputs": [
    {
     "name": "stdout",
     "output_type": "stream",
     "text": [
      "322/322 [==============================] - 1s 2ms/step\n",
      "              precision    recall  f1-score   support\n",
      "\n",
      "         0.0       0.89      0.80      0.84      2652\n",
      "         1.0       0.63      0.64      0.64      3900\n",
      "         2.0       0.54      0.73      0.62      2963\n",
      "         3.0       0.00      0.00      0.00       780\n",
      "\n",
      "    accuracy                           0.66     10295\n",
      "   macro avg       0.52      0.54      0.53     10295\n",
      "weighted avg       0.63      0.66      0.64     10295\n",
      "\n"
     ]
    }
   ],
   "source": [
    "y_pred2l = elman2l.predict(x_val2l).argmax(axis=1)\n",
    "print(classification_report(y_val2l.flatten(), y_pred2l,zero_division=0))"
   ]
  },
  {
   "cell_type": "code",
   "execution_count": null,
   "metadata": {
    "colab": {
     "base_uri": "https://localhost:8080/"
    },
    "id": "Um1wIWrsxT6Y",
    "outputId": "50d16a04-dfea-4ecd-b149-3c203596e119"
   },
   "outputs": [
    {
     "name": "stdout",
     "output_type": "stream",
     "text": [
      "9/9 [==============================] - 0s 2ms/step\n"
     ]
    }
   ],
   "source": [
    "y_pred2l_t = elman2l.predict(x_test2l).argmax(axis=1)"
   ]
  },
  {
   "cell_type": "code",
   "execution_count": null,
   "metadata": {
    "colab": {
     "base_uri": "https://localhost:8080/"
    },
    "id": "Z9ZxvlM_zbBx",
    "outputId": "4f5ba52c-e67b-4742-9ed9-fa821c3a7a1f"
   },
   "outputs": [
    {
     "name": "stdout",
     "output_type": "stream",
     "text": [
      "148/148 [==============================] - 0s 2ms/step\n",
      "              precision    recall  f1-score   support\n",
      "\n",
      "         0.0       0.88      0.87      0.87      1020\n",
      "         1.0       0.63      0.68      0.65      1500\n",
      "         2.0       0.61      0.34      0.44      1372\n",
      "         3.0       0.49      0.78      0.60       816\n",
      "\n",
      "    accuracy                           0.64      4708\n",
      "   macro avg       0.65      0.67      0.64      4708\n",
      "weighted avg       0.65      0.64      0.63      4708\n",
      "\n"
     ]
    }
   ],
   "source": [
    "y_pred3l = elman3l.predict(x_val3l).argmax(axis=1)\n",
    "print(classification_report(y_val3l.flatten(), y_pred3l ,zero_division=0))"
   ]
  },
  {
   "cell_type": "code",
   "execution_count": null,
   "metadata": {
    "colab": {
     "base_uri": "https://localhost:8080/"
    },
    "id": "IaJZ2vlzxd51",
    "outputId": "45e24251-565f-4144-a75e-2bc98230e7f2"
   },
   "outputs": [
    {
     "name": "stdout",
     "output_type": "stream",
     "text": [
      "4/4 [==============================] - 0s 3ms/step\n"
     ]
    }
   ],
   "source": [
    "y_pred3l_t = elman3l.predict(x_test3l).argmax(axis=1)"
   ]
  },
  {
   "cell_type": "code",
   "execution_count": null,
   "metadata": {
    "colab": {
     "base_uri": "https://localhost:8080/"
    },
    "id": "YVONnIRAzbV5",
    "outputId": "a923122b-afee-4a89-b84a-372c0ff4235c"
   },
   "outputs": [
    {
     "name": "stdout",
     "output_type": "stream",
     "text": [
      "374/374 [==============================] - 1s 1ms/step\n",
      "              precision    recall  f1-score   support\n",
      "\n",
      "         0.0       0.81      0.82      0.82      2550\n",
      "         1.0       0.51      0.63      0.57      3750\n",
      "         2.0       0.41      0.36      0.38      3104\n",
      "         3.0       0.54      0.44      0.49      2551\n",
      "\n",
      "    accuracy                           0.56     11955\n",
      "   macro avg       0.57      0.56      0.56     11955\n",
      "weighted avg       0.56      0.56      0.56     11955\n",
      "\n"
     ]
    }
   ],
   "source": [
    "y_pred4l = elman4l.predict(x_val4l).argmax(axis=1)\n",
    "print(classification_report(y_val4l.flatten(), y_pred4l))"
   ]
  },
  {
   "cell_type": "code",
   "execution_count": null,
   "metadata": {
    "colab": {
     "base_uri": "https://localhost:8080/"
    },
    "id": "xcfR0H9NxhTt",
    "outputId": "6bfada7c-c73e-4207-aa72-24cea935f020"
   },
   "outputs": [
    {
     "name": "stdout",
     "output_type": "stream",
     "text": [
      "8/8 [==============================] - 0s 2ms/step\n"
     ]
    }
   ],
   "source": [
    "y_pred4l_t = elman4l.predict(x_test4l).argmax(axis=1)\n"
   ]
  },
  {
   "cell_type": "markdown",
   "metadata": {
    "id": "QvVM5E80Lpja"
   },
   "source": [
    "### Elman one line for 2 subdatasets of dataset 3 through fault mode"
   ]
  },
  {
   "cell_type": "code",
   "execution_count": null,
   "metadata": {
    "id": "TwGoAK9ELo1H"
   },
   "outputs": [],
   "source": [
    "elman_f0l, hist_f0l = train_elman(\"elman1_cluster0\", x_train_f0, y_train_f0, x_val_f0, y_val_f0, 1, 256, neurons2= None, optimizer='Adadelta')"
   ]
  },
  {
   "cell_type": "code",
   "execution_count": null,
   "metadata": {
    "id": "pyOSCVOEL0Gc"
   },
   "outputs": [],
   "source": [
    "elman_f1l, hist_f1l = train_elman(\"elman1_cluster1\", x_train_f1, y_train_f1, x_val_f1, y_val_f1, 1, 256, neurons2= None, optimizer='Adadelta')\n"
   ]
  },
  {
   "cell_type": "code",
   "execution_count": null,
   "metadata": {
    "colab": {
     "base_uri": "https://localhost:8080/"
    },
    "id": "JfAIkUAhL0MA",
    "outputId": "048073f8-0ec4-4324-9540-c57db04b79c5"
   },
   "outputs": [
    {
     "name": "stdout",
     "output_type": "stream",
     "text": [
      "73/73 [==============================] - 0s 1ms/step\n",
      "              precision    recall  f1-score   support\n",
      "\n",
      "         0.0       0.76      0.92      0.83       510\n",
      "         1.0       0.50      0.69      0.58       750\n",
      "         2.0       0.57      0.42      0.48       686\n",
      "         3.0       0.72      0.34      0.46       370\n",
      "\n",
      "    accuracy                           0.60      2316\n",
      "   macro avg       0.64      0.59      0.59      2316\n",
      "weighted avg       0.62      0.60      0.59      2316\n",
      "\n"
     ]
    }
   ],
   "source": [
    "y_pred_f0l = elman_f0l.predict(x_val_f0).argmax(axis=1)\n",
    "print(classification_report(y_val_f0.flatten(), y_pred_f0l,zero_division=0))"
   ]
  },
  {
   "cell_type": "code",
   "execution_count": null,
   "metadata": {
    "colab": {
     "base_uri": "https://localhost:8080/"
    },
    "id": "eH5BBJzrxyEB",
    "outputId": "c87021a6-216d-4f01-e74d-31faf1dc7b0f"
   },
   "outputs": [
    {
     "name": "stdout",
     "output_type": "stream",
     "text": [
      "4/4 [==============================] - 0s 2ms/step\n"
     ]
    }
   ],
   "source": [
    "y_pred_f0l_t = elman_f0l.predict(x_test_f0).argmax(axis=1)"
   ]
  },
  {
   "cell_type": "code",
   "execution_count": null,
   "metadata": {
    "colab": {
     "base_uri": "https://localhost:8080/"
    },
    "id": "w7vKM_pCL0RG",
    "outputId": "8f5da1e2-3997-40e8-fac9-a75300eb01d4"
   },
   "outputs": [
    {
     "name": "stdout",
     "output_type": "stream",
     "text": [
      "77/77 [==============================] - 0s 1ms/step\n",
      "              precision    recall  f1-score   support\n",
      "\n",
      "         0.0       0.75      0.92      0.83       612\n",
      "         1.0       0.51      0.71      0.59       896\n",
      "         2.0       0.55      0.35      0.43       695\n",
      "         3.0       0.00      0.00      0.00       234\n",
      "\n",
      "    accuracy                           0.59      2437\n",
      "   macro avg       0.45      0.49      0.46      2437\n",
      "weighted avg       0.53      0.59      0.55      2437\n",
      "\n"
     ]
    }
   ],
   "source": [
    "y_pred_f1l = elman_f1l.predict(x_val_f1).argmax(axis=1)\n",
    "print(classification_report(y_val_f1.flatten(), y_pred_f1l,zero_division=0))\n"
   ]
  },
  {
   "cell_type": "code",
   "execution_count": null,
   "metadata": {
    "colab": {
     "base_uri": "https://localhost:8080/"
    },
    "id": "o5i30rx3zkw0",
    "outputId": "ec777faf-149c-4bf0-89c9-3aa55cef8a78"
   },
   "outputs": [
    {
     "name": "stdout",
     "output_type": "stream",
     "text": [
      "4/4 [==============================] - 0s 2ms/step\n"
     ]
    }
   ],
   "source": [
    "y_pred_f1l_t = elman_f1l.predict(x_test_f1).argmax(axis=1)"
   ]
  },
  {
   "cell_type": "markdown",
   "metadata": {
    "id": "DdNXrTE7zXr1"
   },
   "source": [
    "## Elman 30 lines"
   ]
  },
  {
   "cell_type": "markdown",
   "metadata": {
    "id": "WOGiEcY7hmHc"
   },
   "source": [
    "### FD001"
   ]
  },
  {
   "cell_type": "code",
   "execution_count": null,
   "metadata": {
    "id": "8bIsx53CKSrj"
   },
   "outputs": [],
   "source": [
    "elman1_30, hist1_30 = train_elman(\"elman30_ds1\", x_train1, y_train1, x_val1, y_val1, 30, 256, neurons2= None, optimizer='Adadelta')"
   ]
  },
  {
   "cell_type": "code",
   "execution_count": null,
   "metadata": {
    "id": "CJ17IzvIW41l"
   },
   "outputs": [],
   "source": [
    "elman1_30v2, hist1_30v2 = train_elman(\"elman30_ds1v2\", x_train1, y_train1, x_val1, y_val1, 30, 256, neurons2= None, optimizer='Adadelta')"
   ]
  },
  {
   "cell_type": "code",
   "execution_count": null,
   "metadata": {
    "id": "10Wdemb6W9S8"
   },
   "outputs": [],
   "source": [
    "elman1_30v3, hist1_30v3 = train_elman(\"elman30_ds1v3\", x_train1, y_train1, x_val1, y_val1, 30, 256, neurons2= None, optimizer='Adadelta')"
   ]
  },
  {
   "cell_type": "code",
   "execution_count": null,
   "metadata": {
    "id": "PVqSZhzRXCUc"
   },
   "outputs": [],
   "source": [
    "elman1_30v4, hist1_30v4 = train_elman(\"elman30_ds1v4\", x_train1, y_train1, x_val1, y_val1, 30, 256, neurons2= None, optimizer='Adadelta')"
   ]
  },
  {
   "cell_type": "code",
   "execution_count": null,
   "metadata": {
    "id": "uJb1zhTMXCb0"
   },
   "outputs": [],
   "source": [
    "elman1_30v5, hist1_30v5 = train_elman(\"elman30_ds1v5\", x_train1, y_train1, x_val1, y_val1, 30, 256, neurons2= None, optimizer='Adadelta')"
   ]
  },
  {
   "cell_type": "code",
   "execution_count": null,
   "metadata": {
    "id": "qXekHpaxDc-X"
   },
   "outputs": [],
   "source": [
    "hist130 = [hist1_30v2.history, hist1_30v3.history, hist1_30v4.history, hist1_30v5.history]\n",
    "hists30 = [hist130]\n",
    "\n",
    "filehandler = open(b\"/content/drive/MyDrive/classiff_results/history30l_1.pkl\",\"wb\")\n",
    "pickle.dump(hist130,filehandler)"
   ]
  },
  {
   "cell_type": "markdown",
   "metadata": {
    "id": "rwmc1mrrh7bT"
   },
   "source": [
    "### FD002"
   ]
  },
  {
   "cell_type": "code",
   "execution_count": null,
   "metadata": {
    "id": "qx2-DMDNKSzZ"
   },
   "outputs": [],
   "source": [
    "elman2_30, hist2_30 = train_elman(\"elman30_ds2\", x_train2, y_train2, x_val2, y_val2, 30, 256, neurons2= None, optimizer='Adadelta')"
   ]
  },
  {
   "cell_type": "code",
   "execution_count": null,
   "metadata": {
    "id": "LZ_fe_wXXLzI"
   },
   "outputs": [],
   "source": [
    "elman2_30v2, hist2_30v2 = train_elman(\"elman30_ds2v2\", x_train2, y_train2, x_val2, y_val2, 30, 256, neurons2= None, optimizer='Adadelta')"
   ]
  },
  {
   "cell_type": "code",
   "execution_count": null,
   "metadata": {
    "id": "lqmUOFrtXMV6"
   },
   "outputs": [],
   "source": [
    "elman2_30v3, hist2_30v3 = train_elman(\"elman30_ds2v3\", x_train2, y_train2, x_val2, y_val2, 30, 256, neurons2= None, optimizer='Adadelta')"
   ]
  },
  {
   "cell_type": "code",
   "execution_count": null,
   "metadata": {
    "id": "Cj_6uqS3XMhx"
   },
   "outputs": [],
   "source": [
    "elman2_30v4, hist2_30v4 = train_elman(\"elman30_ds2v4\", x_train2, y_train2, x_val2, y_val2, 30, 256, neurons2= None, optimizer='Adadelta')"
   ]
  },
  {
   "cell_type": "code",
   "execution_count": null,
   "metadata": {
    "id": "THg1CZcpXMsk"
   },
   "outputs": [],
   "source": [
    "elman2_30v5, hist2_30v5 = train_elman(\"elman30_ds2v5\", x_train2, y_train2, x_val2, y_val2, 30, 256, neurons2= None, optimizer='Adadelta')"
   ]
  },
  {
   "cell_type": "code",
   "execution_count": null,
   "metadata": {
    "id": "xUKQruiZLuEF"
   },
   "outputs": [],
   "source": [
    "hist130 = [hist1_30v2.history, hist1_30v3.history, hist1_30v4.history, hist1_30v5.history]\n",
    "hist230 = [hist2_30v2.history, hist2_30v3.history, hist2_30v4.history, hist2_30v5.history]\n",
    "hists30 = [hist130, hist230]\n",
    "\n",
    "filehandler = open(b\"/content/drive/MyDrive/classiff_results/history30l1to2.pkl\",\"wb\")\n",
    "pickle.dump(hists30,filehandler)"
   ]
  },
  {
   "cell_type": "markdown",
   "metadata": {
    "id": "0dZNHmACh_PQ"
   },
   "source": [
    "### FD003"
   ]
  },
  {
   "cell_type": "code",
   "execution_count": null,
   "metadata": {
    "id": "LY5swPNANPb5"
   },
   "outputs": [],
   "source": [
    "elman3_30, hist3_30 = train_elman(\"elman30_ds3\", x_train3, y_train3, x_val3, y_val3, 30, 256, neurons2= None, optimizer='Adadelta')"
   ]
  },
  {
   "cell_type": "code",
   "execution_count": null,
   "metadata": {
    "id": "MAq69DhvXfmb"
   },
   "outputs": [],
   "source": [
    "elman3_30v2, hist3_30v2 = train_elman(\"elman30_ds3v2\", x_train3, y_train3, x_val3, y_val3, 30, 256, neurons2= None, optimizer='Adadelta')"
   ]
  },
  {
   "cell_type": "code",
   "execution_count": null,
   "metadata": {
    "id": "0RwH1Mm6Xftx"
   },
   "outputs": [],
   "source": [
    "elman3_30v3, hist3_30v3 = train_elman(\"elman30_ds3v3\", x_train3, y_train3, x_val3, y_val3, 30, 256, neurons2= None, optimizer='Adadelta')"
   ]
  },
  {
   "cell_type": "code",
   "execution_count": null,
   "metadata": {
    "id": "FpmiYLp7Xf2x"
   },
   "outputs": [],
   "source": [
    "elman3_30v4, hist3_30v4 = train_elman(\"elman30_ds3v4\", x_train3, y_train3, x_val3, y_val3, 30, 256, neurons2= None, optimizer='Adadelta')"
   ]
  },
  {
   "cell_type": "code",
   "execution_count": null,
   "metadata": {
    "id": "M_RWKi4GXgBI"
   },
   "outputs": [],
   "source": [
    "elman3_30v5, hist3_30v5 = train_elman(\"elman30_ds3v5\", x_train3, y_train3, x_val3, y_val3, 30, 256, neurons2= None, optimizer='Adadelta')"
   ]
  },
  {
   "cell_type": "code",
   "execution_count": null,
   "metadata": {
    "id": "8Wv3OIrpp3BT"
   },
   "outputs": [],
   "source": [
    "hist130 = [hist1_30v2.history, hist1_30v3.history, hist1_30v4.history, hist1_30v5.history]\n",
    "hist230 = [hist2_30v2.history, hist2_30v3.history, hist2_30v4.history, hist2_30v5.history]\n",
    "hist330 = [hist3_30v2.history, hist3_30v3.history, hist3_30v4.history, hist3_30v5.history]\n",
    "#hist430 = [hist4_30v2.history, hist4_30v3.history, hist4_30v4.history, hist4_30v5.history]\n",
    "hists30 = [hist130, hist230, hist330]\n",
    "\n",
    "filehandler = open(b\"/content/drive/MyDrive/classiff_results/history30l1to3.pkl\",\"wb\")\n",
    "pickle.dump(hists30,filehandler)"
   ]
  },
  {
   "cell_type": "markdown",
   "metadata": {
    "id": "2CJocR7Wh3Iu"
   },
   "source": [
    "### FD004"
   ]
  },
  {
   "cell_type": "code",
   "execution_count": null,
   "metadata": {
    "id": "lTsmRnGBNPhi"
   },
   "outputs": [],
   "source": [
    "elman4_30, hist4_30 = train_elman(\"elman30_ds4\", x_train4, y_train4, x_val4, y_val4, 30, 256, neurons2= None, optimizer='Adadelta')"
   ]
  },
  {
   "cell_type": "code",
   "execution_count": null,
   "metadata": {
    "id": "21geozWRXta8"
   },
   "outputs": [],
   "source": [
    "elman4_30v2, hist4_30v2 = train_elman(\"elman30_ds4v2\", x_train4, y_train4, x_val4, y_val4, 30, 256, neurons2= None, optimizer='Adadelta')"
   ]
  },
  {
   "cell_type": "code",
   "execution_count": null,
   "metadata": {
    "id": "U_VP2eofXthg"
   },
   "outputs": [],
   "source": [
    "elman4_30v3, hist4_30v3 = train_elman(\"elman30_ds4v3\", x_train4, y_train4, x_val4, y_val4, 30, 256, neurons2= None, optimizer='Adadelta')"
   ]
  },
  {
   "cell_type": "code",
   "execution_count": null,
   "metadata": {
    "id": "s9y6g6fZXtqZ"
   },
   "outputs": [],
   "source": [
    "elman4_30v4, hist4_30v4 = train_elman(\"elman30_ds4v4\", x_train4, y_train4, x_val4, y_val4, 30, 256, neurons2= None, optimizer='Adadelta')"
   ]
  },
  {
   "cell_type": "code",
   "execution_count": null,
   "metadata": {
    "id": "iFjOH9QRXt2B"
   },
   "outputs": [],
   "source": [
    "elman4_30v5, hist4_30v5 = train_elman(\"elman30_ds4v5\", x_train4, y_train4, x_val4, y_val4, 30, 256, neurons2= None, optimizer='Adadelta')"
   ]
  },
  {
   "cell_type": "code",
   "execution_count": null,
   "metadata": {
    "id": "jyMpBjR1cBE5"
   },
   "outputs": [],
   "source": [
    "hist130 = [hist1_30v2.history, hist1_30v3.history, hist1_30v4.history, hist1_30v5.history]\n",
    "hist230 = [hist2_30v2.history, hist2_30v3.history, hist2_30v4.history, hist2_30v5.history]\n",
    "hist330 = [hist3_30v2.history, hist3_30v3.history, hist3_30v4.history, hist3_30v5.history]\n",
    "hist430 = [hist4_30v2.history, hist4_30v3.history, hist4_30v4.history, hist4_30v5.history]\n",
    "hists30 = [hist130, hist230, hist330, hist430]\n",
    "\n",
    "filehandler = open(b\"/content/drive/MyDrive/classiff_results/history30l1-4.pkl\",\"wb\")\n",
    "pickle.dump(hists30,filehandler)"
   ]
  },
  {
   "cell_type": "markdown",
   "metadata": {
    "id": "Pos2Hg-slHf1"
   },
   "source": [
    "### Predictions of Elman 30 lines on validation dataset"
   ]
  },
  {
   "cell_type": "code",
   "execution_count": null,
   "metadata": {
    "colab": {
     "base_uri": "https://localhost:8080/"
    },
    "id": "UU4DZgwbNPnv",
    "outputId": "8f1ef961-0009-49a5-c4db-4ef6077f5e9b"
   },
   "outputs": [
    {
     "name": "stdout",
     "output_type": "stream",
     "text": [
      "110/110 [==============================] - 1s 13ms/step\n",
      "              precision    recall  f1-score   support\n",
      "\n",
      "         0.0       0.91      0.73      0.81      1020\n",
      "         1.0       0.61      0.53      0.57      1479\n",
      "         2.0       0.47      0.48      0.47       837\n",
      "         3.0       0.06      0.19      0.09       154\n",
      "\n",
      "    accuracy                           0.56      3490\n",
      "   macro avg       0.51      0.48      0.48      3490\n",
      "weighted avg       0.64      0.56      0.59      3490\n",
      "\n"
     ]
    }
   ],
   "source": [
    "y_pred = elman1_30.predict(x_val1).argmax(axis=1)\n",
    "print(classification_report(y_val1.flatten(), y_pred))"
   ]
  },
  {
   "cell_type": "code",
   "execution_count": null,
   "metadata": {
    "colab": {
     "base_uri": "https://localhost:8080/"
    },
    "id": "jclnvEcNf4Yp",
    "outputId": "543edbd3-6884-445e-f321-5e8197cc8781"
   },
   "outputs": [
    {
     "name": "stdout",
     "output_type": "stream",
     "text": [
      "110/110 [==============================] - 1s 8ms/step\n",
      "              precision    recall  f1-score   support\n",
      "\n",
      "         0.0       0.91      0.89      0.90      1020\n",
      "         1.0       0.73      0.83      0.78      1479\n",
      "         2.0       0.65      0.64      0.64       837\n",
      "         3.0       0.00      0.00      0.00       154\n",
      "\n",
      "    accuracy                           0.76      3490\n",
      "   macro avg       0.57      0.59      0.58      3490\n",
      "weighted avg       0.73      0.76      0.75      3490\n",
      "\n"
     ]
    }
   ],
   "source": [
    "y_pred = elman1_30.predict(x_val1).argmax(axis=1)\n",
    "print(classification_report(y_val1.flatten(), y_pred))"
   ]
  },
  {
   "cell_type": "code",
   "execution_count": null,
   "metadata": {
    "colab": {
     "base_uri": "https://localhost:8080/"
    },
    "id": "ATj2ms1VOQky",
    "outputId": "d409f805-17ac-4652-9d34-ebc3c8e73eb7"
   },
   "outputs": [
    {
     "name": "stdout",
     "output_type": "stream",
     "text": [
      "275/275 [==============================] - 4s 13ms/step\n",
      "              precision    recall  f1-score   support\n",
      "\n",
      "         0.0       0.85      0.75      0.80      2652\n",
      "         1.0       0.63      0.45      0.53      3820\n",
      "         2.0       0.48      0.54      0.51      1944\n",
      "         3.0       0.07      0.29      0.11       371\n",
      "\n",
      "    accuracy                           0.56      8787\n",
      "   macro avg       0.51      0.51      0.49      8787\n",
      "weighted avg       0.64      0.56      0.59      8787\n",
      "\n"
     ]
    }
   ],
   "source": [
    "y_pred2 = elman2_30.predict(x_val2).argmax(axis=1)\n",
    "print(classification_report(y_val2, y_pred2))"
   ]
  },
  {
   "cell_type": "code",
   "execution_count": null,
   "metadata": {
    "colab": {
     "base_uri": "https://localhost:8080/"
    },
    "id": "vke82uNvOQwk",
    "outputId": "3292a92b-7759-4060-ebf6-40d462c62613"
   },
   "outputs": [
    {
     "name": "stdout",
     "output_type": "stream",
     "text": [
      "129/129 [==============================] - 2s 12ms/step\n",
      "              precision    recall  f1-score   support\n",
      "\n",
      "         0.0       0.91      0.90      0.91      1020\n",
      "         1.0       0.73      0.71      0.72      1500\n",
      "         2.0       0.49      0.54      0.51      1029\n",
      "         3.0       0.50      0.46      0.48       579\n",
      "\n",
      "    accuracy                           0.68      4128\n",
      "   macro avg       0.66      0.65      0.65      4128\n",
      "weighted avg       0.68      0.68      0.68      4128\n",
      "\n"
     ]
    }
   ],
   "source": [
    "y_pred3 = elman3_30.predict(x_val3).argmax(axis=1)\n",
    "print(classification_report(y_val3, y_pred3))"
   ]
  },
  {
   "cell_type": "code",
   "execution_count": null,
   "metadata": {
    "colab": {
     "base_uri": "https://localhost:8080/"
    },
    "id": "AZs6OcG3OQ7i",
    "outputId": "45b121cd-47b4-4808-a793-13b4acd2a39e"
   },
   "outputs": [
    {
     "name": "stdout",
     "output_type": "stream",
     "text": [
      "329/329 [==============================] - 4s 11ms/step\n",
      "              precision    recall  f1-score   support\n",
      "\n",
      "         0.0       0.84      0.87      0.85      2550\n",
      "         1.0       0.60      0.66      0.63      3680\n",
      "         2.0       0.42      0.43      0.43      2509\n",
      "         3.0       0.52      0.38      0.44      1766\n",
      "\n",
      "    accuracy                           0.61     10505\n",
      "   macro avg       0.60      0.58      0.59     10505\n",
      "weighted avg       0.60      0.61      0.60     10505\n",
      "\n"
     ]
    }
   ],
   "source": [
    "y_pred4 = elman4_30.predict(x_val4).argmax(axis=1)\n",
    "print(classification_report(y_val4, y_pred4))"
   ]
  },
  {
   "cell_type": "code",
   "execution_count": null,
   "metadata": {
    "colab": {
     "base_uri": "https://localhost:8080/"
    },
    "id": "69SpVM_o0jYP",
    "outputId": "18224263-cbd7-4ad7-f180-9874eb2610d6"
   },
   "outputs": [
    {
     "name": "stdout",
     "output_type": "stream",
     "text": [
      "4/4 [==============================] - 0s 6ms/step\n",
      "9/9 [==============================] - 0s 7ms/step\n",
      "4/4 [==============================] - 0s 6ms/step\n",
      "8/8 [==============================] - 0s 7ms/step\n"
     ]
    }
   ],
   "source": [
    "y_pred1_t = elman1_30.predict(x_test1).argmax(axis=1)\n",
    "y_pred2_t = model_elman_2.predict(x_test2).argmax(axis=1)\n",
    "y_pred3_t = model_elman_3.predict(x_test3).argmax(axis=1)\n",
    "y_pred4_t = model_elman_4.predict(x_test4).argmax(axis=1)"
   ]
  },
  {
   "cell_type": "code",
   "execution_count": null,
   "metadata": {
    "id": "P_BPKrMnoMTR"
   },
   "outputs": [],
   "source": [
    "\n",
    "# files\n",
    "dir_path = '/content/drive/MyDrive/CMAPSSData/'\n",
    "\n",
    "\n",
    "\n",
    "# data readout\n",
    "sensor_names  = [\"tfan_in_tot\", \"tLPC_out_tot\", \"tHPC_out_tot\",\n",
    "           \"tLPT_out_tot\", \"pfan_in\", \"pbypass_tot\", \"pHPC_out_tot\", \"fan_speed_physical\", \"core_speed_physical\",\n",
    "           \"P50_P2_ratio\", \"pHPC_out_stat\", \"fuel_flow_to_Ps30\", \"fan_speed_corrected\", \"core_speed_corrected\",\n",
    "           \"bypass_ratio\", \"burnerfuel_air_ratio\", \"bleed_enthalpy\", \"fan_speed_demanded\", \"fan_speed_demanded_corrected\" ,\n",
    "           \"HPT_coolant_bleed\", \"LPT_coolant_bleed\"]\n",
    "\n",
    "\n",
    "\n",
    "sensors = ['tLPC_out_tot', 'tHPC_out_tot', 'tLPT_out_tot', 'pbypass_tot',\n",
    "       'pHPC_out_tot', 'fan_speed_physical', 'core_speed_physical',\n",
    "       'pHPC_out_stat', 'fuel_flow_to_Ps30', 'fan_speed_corrected',\n",
    "       'core_speed_corrected', 'bypass_ratio', 'bleed_enthalpy',\n",
    "       'HPT_coolant_bleed', 'LPT_coolant_bleed']\n",
    "\n",
    "\n",
    "\n",
    "x_train1, y_train1, x_val1, y_val1, x_test1, y_test1, X_train_pre1, X_test_pre1 = process_data_standard2('FD001',\n",
    "                                                                                                 sensors,\n",
    "\n",
    "                                                                                                 dir_path,\n",
    "                                                                                                 condition ='10.0_0.25_100.0',\n",
    "                                                                                                 algo='clf',\n",
    "                                                                                                 sequence_length=1,\n",
    "                                                                                                 clust=-1)"
   ]
  },
  {
   "cell_type": "code",
   "execution_count": null,
   "metadata": {
    "id": "Z30EL3Ptzm7w"
   },
   "outputs": [],
   "source": [
    "#filehandler = open(b\"/content/drive/MyDrive/classiff_results/elman_one_line_faluts_pred.pkl\",\"wb\")\n",
    "ds1 = [[rft1, svmt1, lda1t, y_val1l, y_val1],[rfp1, svmp1, lda1p, y_pred1l, y_pred1]]\n",
    "ds2 = [[rft2, svmt2, lda2t, y_val2l, y_val2],[rfp2, svmp2, lda2p, y_pred2l, y_pred2]]\n",
    "ds3 = [[rft3, svmt3, lda3t, y_val3l, y_val3],[rfp3, svmp3, lda3p, y_pred3l, y_pred3]]\n",
    "ds4 = [[rft4, svmt4, lda4t, y_val4l, y_val4],[rfp4, svmp4, lda4p, y_pred4l, y_pred4]]\n",
    "dsopc1 = [[rfopct1, svmopct1, ldaopc1t], [rfopcp1, svmopcp1, ldaopc1p]]\n",
    "dsopc2 = [[rfopct2, svmopct2, ldaopc2t], [rfopcp2, svmopcp2, ldaopc2p]]\n",
    "dsopc3 = [[rfopct3, svmopct3, ldaopc3t], [rfopcp3, svmopcp3, ldaopc3p]]\n",
    "dsopc4 = [[rfopct4, svmopct4, ldaopc4t], [rfopcp4, svmopcp4, ldaopc4p]]\n",
    "dsopc5 = [[rfopct5, svmopct5, ldaopc5t], [rfopcp5, svmopcp5, ldaopc5p]]\n",
    "dsopc6 = [[rfopct6, svmopct6, ldaopc6t], [rfopcp6, svmopcp6, ldaopc6p]]\n",
    "dslc0 = [[rfcl0t, svmc0t, ldacl0t , y_val_f0], [rfcl0p, svmc0p, ldacl0p, y_pred_f0l]]\n",
    "dslc1 = [[rfcl1t, svmc1t, ldacl1t, y_val_f1 ], [rfcl1p, svmc1p, ldacl1p, y_pred_f1l]]\n",
    "\n",
    "\n",
    "datasets = [ds1, ds2, ds3, ds4, dslc0, dslc1]"
   ]
  },
  {
   "cell_type": "code",
   "execution_count": null,
   "metadata": {
    "id": "TII8WiF807Dy"
   },
   "outputs": [],
   "source": [
    "#filehandler = open(b\"/content/drive/MyDrive/classiff_results/elman_one_line_faluts_pred.pkl\",\"wb\")\n",
    "ds1_t = [[y_test1, y_test1, y_test1, y_test1, y_test1],[rfp1_t, svmp1_t, lda1p_t, y_pred1l_t, y_pred1_t]]\n",
    "ds2_t = [[y_test2, y_test2, y_test2, y_test2, y_test2],[rfp2_t, svmp2_t, lda2p_t, y_pred2l_t, y_pred2_t]]\n",
    "ds3_t = [[y_test3, y_test3, y_test3, y_test3, y_test3],[rfp3_t, svmp3_t, lda3p_t, y_pred3l_t, y_pred3_t]]\n",
    "ds4_t = [[y_test4, y_test4, y_test4, y_test4, y_test4],[rfp4_t, svmp4_t, lda4p_t, y_pred4l_t, y_pred4_t]]\n",
    "\n",
    "dsopc1_t = [[rfopct1, svmopct1, ldaopc1t], [rfopcp1_t, svmsopcp1_t, ldaopc1p_t]]\n",
    "dsopc2_t = [[rfopct2, svmopct2, ldaopc2t], [rfopcp2_t, svmsopcp2_t, ldaopc2p_t]]\n",
    "dsopc3_t = [[rfopct3, svmopct3, ldaopc3t], [rfopcp3_t, svmsopcp3_t, ldaopc3p_t]]\n",
    "dsopc4_t = [[rfopct4, svmopct4, ldaopc4t], [rfopcp4_t, svmsopcp4_t, ldaopc4p_t]]\n",
    "dsopc5_t = [[rfopct5, svmopct5, ldaopc5t], [rfopcp5_t, svmsopcp5_t, ldaopc5p_t]]\n",
    "dsopc6_t = [[rfopct6, svmopct6, ldaopc6t], [rfopcp6_t, svmsopcp6_t, ldaopc6p_t]]\n",
    "dslc0_t = [[rfcl0t, svmc0t, ldacl0t , y_val_f0], [rfcl0p_t, svmc0p_t, ldacl0p_t, y_pred_f0l_t]]\n",
    "dslc1_t = [[rfcl1t, svmc1t, ldacl1t, y_val_f1 ], [rfcl1p_t, svmc1p_t, ldacl1p_t, y_pred_f1l_t]]\n",
    "\n",
    "\n",
    "datasets_t = [ds1_t, ds2_t, ds3_t, ds4_t]"
   ]
  },
  {
   "cell_type": "code",
   "execution_count": null,
   "metadata": {
    "colab": {
     "base_uri": "https://localhost:8080/"
    },
    "id": "1BA0nQtmCeze",
    "outputId": "ad7bed0d-7322-4826-9d3c-f71b744e2243"
   },
   "outputs": [
    {
     "data": {
      "text/plain": [
       "0.73"
      ]
     },
     "execution_count": 349,
     "metadata": {},
     "output_type": "execute_result"
    }
   ],
   "source": [
    "accuracy_score(y_test1, rfp1_t)"
   ]
  },
  {
   "cell_type": "code",
   "execution_count": null,
   "metadata": {
    "id": "D7VH5vGT2-zc"
   },
   "outputs": [],
   "source": [
    "filehandler = open(b\"/content/drive/MyDrive/classiff_results/all_classifiers_t.pkl\",\"wb\")\n",
    "pickle.dump(datasets_t,filehandler)"
   ]
  },
  {
   "cell_type": "markdown",
   "metadata": {
    "id": "8zcSdNrTu4wG"
   },
   "source": []
  },
  {
   "cell_type": "markdown",
   "metadata": {
    "id": "L-IpKoIUKarR"
   },
   "source": [
    "# STACKING"
   ]
  },
  {
   "cell_type": "code",
   "execution_count": null,
   "metadata": {
    "id": "lQF-3myQKhZi"
   },
   "outputs": [],
   "source": [
    "from utils import create_stacking_dataset"
   ]
  },
  {
   "cell_type": "code",
   "execution_count": null,
   "metadata": {
    "id": "_uI1-cGHKwCD"
   },
   "outputs": [],
   "source": [
    "from utils import stacking"
   ]
  },
  {
   "cell_type": "code",
   "execution_count": null,
   "metadata": {
    "id": "JEaXnLnTs1w-"
   },
   "outputs": [],
   "source": [
    "from utils import train_lda"
   ]
  },
  {
   "cell_type": "code",
   "execution_count": null,
   "metadata": {
    "id": "ga3aIVRnwJZX"
   },
   "outputs": [],
   "source": [
    "from utils import train_svm"
   ]
  },
  {
   "cell_type": "code",
   "execution_count": null,
   "metadata": {
    "id": "MIANHBy60qHd"
   },
   "outputs": [],
   "source": [
    "from utils import train_rf"
   ]
  },
  {
   "cell_type": "code",
   "execution_count": null,
   "metadata": {
    "id": "sT7je8xUtAFi"
   },
   "outputs": [],
   "source": [
    "# Train lda models for all 4 datasets with the parameters found during parameter\n",
    "# tuning\n",
    "\n",
    "cv = RepeatedStratifiedKFold(n_splits=10, n_repeats=3, random_state=237)\n",
    "\n",
    "best_model_lda1 = train_lda('lsqr', 0.01, x_train1, y_train1, cv)\n",
    "best_model_lda2 = train_lda('lsqr', None, x_train2, y_train2, cv)\n",
    "best_model_lda3 = train_lda('lsqr', None, x_train3, y_train3, cv)\n",
    "best_model_lda4 = train_lda('svd', None, x_train4, y_train4, cv)"
   ]
  },
  {
   "cell_type": "code",
   "execution_count": null,
   "metadata": {
    "id": "7EXdjh4OwU7b"
   },
   "outputs": [],
   "source": [
    "# Train svm models for all 4 datasets with the parameters found during parameter\n",
    "# tuning\n",
    "\n",
    "best_model_svm1 = train_svm(0.1, 'scale', 'rbf', x_train1, y_train1)\n",
    "best_model_svm2 = train_svm(0.1, 'auto', 'rbf', x_train2, y_train2)\n",
    "best_model_svm3 = train_svm(0.1, 'scale', 'rbf', x_train3, y_train3)\n",
    "best_model_svm4 = train_svm(1.0, 'scale', 'rbf', x_train4, y_train4)"
   ]
  },
  {
   "cell_type": "code",
   "execution_count": null,
   "metadata": {
    "id": "R8YVOIts1BU_"
   },
   "outputs": [],
   "source": [
    "# Train random forest models for all 4 datasets with the parameters found during\n",
    "# parameter tuning.\n",
    "\n",
    "best_model_rfa1 = train_rf(20, 'sqrt', 10, 150, x_train1, y_train1)\n",
    "best_model_rfa2 = train_rf(10, 'sqrt', 5, 150, x_train2, y_train2)\n",
    "best_model_rfa3 = train_rf(10, 'sqrt', 5, 100, x_train3, y_train3)\n",
    "best_model_rfa4 = train_rf(20, 'sqrt', 10, 150, x_train4, y_train4)"
   ]
  },
  {
   "cell_type": "code",
   "execution_count": null,
   "metadata": {
    "colab": {
     "base_uri": "https://localhost:8080/"
    },
    "id": "s4weWtieMJy7",
    "outputId": "f4a07365-7f0b-4c16-e492-f6b8159c94ff"
   },
   "outputs": [
    {
     "data": {
      "text/plain": [
       "<tensorflow.python.checkpoint.checkpoint.CheckpointLoadStatus at 0x7c79b61f74c0>"
      ]
     },
     "execution_count": 32,
     "metadata": {},
     "output_type": "execute_result"
    }
   ],
   "source": [
    "# Initiate elman network and gets the weights for the already trained models for\n",
    "# the different datasets.\n",
    "\n",
    "inputs = Input(shape=(30, len(sensors)))\n",
    "x = SimpleRNN(256)(inputs)\n",
    "x = Dense(4, activation='softmax')(x)\n",
    "\n",
    "# dataset 1\n",
    "model_elman_1 = Model(inputs, x)\n",
    "model_elman_1.load_weights(\"/content/drive/MyDrive/classiff_results/elman_models/elman30_ds1v2.ckpt\")\n",
    "\n",
    "# dataset 2.\n",
    "model_elman_2 = Model(inputs, x)\n",
    "model_elman_2.load_weights(\"/content/drive/MyDrive/classiff_results/elman_models/elman30_ds2.ckpt\")\n",
    "\n",
    "# dataset 3.\n",
    "model_elman_3 = Model(inputs, x)\n",
    "model_elman_3.load_weights(\"/content/drive/MyDrive/classiff_results/elman_models/elman30_ds3v5.ckpt\")\n",
    "\n",
    "# dataset 4.\n",
    "model_elman_4 = Model(inputs, x)\n",
    "model_elman_4.load_weights(\"/content/drive/MyDrive/classiff_results/elman_models/elman30_ds4.ckpt\")\n"
   ]
  },
  {
   "cell_type": "markdown",
   "metadata": {
    "id": "0fYWZ_q-CHhC"
   },
   "source": [
    "## Dataset 1"
   ]
  },
  {
   "cell_type": "code",
   "execution_count": null,
   "metadata": {
    "colab": {
     "base_uri": "https://localhost:8080/"
    },
    "id": "jZA59uQlKjmX",
    "outputId": "7cc762b2-8489-49e0-9d7c-f47209cb5e65"
   },
   "outputs": [
    {
     "name": "stdout",
     "output_type": "stream",
     "text": [
      "110/110 [==============================] - 1s 4ms/step\n",
      "4/4 [==============================] - 0s 5ms/step\n"
     ]
    }
   ],
   "source": [
    "# Creating stacked datasets for training and testing of stacking model.\n",
    "stack_train1 = create_stacking_dataset(best_model_lda1, best_model_rfa1, best_model_svm1, model_elman_1, x_val1)\n",
    "stack_test1 = create_stacking_dataset(best_model_lda1, best_model_rfa1, best_model_svm1, model_elman_1, x_test1)"
   ]
  },
  {
   "cell_type": "code",
   "execution_count": null,
   "metadata": {
    "colab": {
     "base_uri": "https://localhost:8080/"
    },
    "id": "AQ4wnBrwY1f5",
    "outputId": "aaa5c3df-7553-451c-af86-d1664752da11"
   },
   "outputs": [
    {
     "name": "stdout",
     "output_type": "stream",
     "text": [
      "Model accuracy score : 0.7600\n",
      "\n",
      "The scores for cross validation of gradient boosting are:\n",
      " [0.7 0.8 0.9 0.8 0.9 0.9 0.9 0.6 0.7 0.7]\n",
      "\n",
      "The mean score of gradient boosting is: 0.79\n",
      "\n",
      "              precision    recall  f1-score   support\n",
      "\n",
      "           0       0.96      0.79      0.87        33\n",
      "           1       0.76      0.84      0.80        56\n",
      "           2       0.27      0.27      0.27        11\n",
      "\n",
      "    accuracy                           0.76       100\n",
      "   macro avg       0.66      0.63      0.65       100\n",
      "weighted avg       0.77      0.76      0.76       100\n",
      "\n"
     ]
    }
   ],
   "source": [
    "# Train the stacking model and calculate accuracy.\n",
    "stack_model1, y_test_stack1, y_pred_stack1 = stacking(stack_train1, y_val1, stack_test1, y_test1, n_estimators=20)"
   ]
  },
  {
   "cell_type": "markdown",
   "metadata": {
    "id": "F98zhklaF2u8"
   },
   "source": [
    "## Dataset 2."
   ]
  },
  {
   "cell_type": "code",
   "execution_count": null,
   "metadata": {
    "colab": {
     "base_uri": "https://localhost:8080/"
    },
    "id": "mB7P_N4LF3Q-",
    "outputId": "f28c9e59-84b5-4647-9455-743a7327a55f"
   },
   "outputs": [
    {
     "name": "stdout",
     "output_type": "stream",
     "text": [
      "275/275 [==============================] - 1s 4ms/step\n",
      "9/9 [==============================] - 0s 4ms/step\n"
     ]
    }
   ],
   "source": [
    "# Creating stacked datasets for training and testing of stacking model.\n",
    "stack_train2 = create_stacking_dataset(best_model_lda2, best_model_rfa2, best_model_svm2, model_elman_2, x_val2)\n",
    "stack_test2 = create_stacking_dataset(best_model_lda2, best_model_rfa2, best_model_svm2, model_elman_2, x_test2)"
   ]
  },
  {
   "cell_type": "code",
   "execution_count": null,
   "metadata": {
    "colab": {
     "base_uri": "https://localhost:8080/"
    },
    "id": "fyJ1eAhCkDJY",
    "outputId": "86c20cff-8900-4c0b-fa3f-957407cf8d63"
   },
   "outputs": [
    {
     "name": "stdout",
     "output_type": "stream",
     "text": [
      "Model accuracy score : 0.7220\n",
      "\n",
      "The scores for cross validation of gradient boosting are:\n",
      " [0.76923077 0.69230769 0.69230769 0.84615385 0.65384615 0.69230769\n",
      " 0.73076923 0.69230769 0.57692308 0.72      ]\n",
      "\n",
      "The mean score of gradient boosting is: 0.7066153846153845\n",
      "\n",
      "              precision    recall  f1-score   support\n",
      "\n",
      "           0       0.90      0.85      0.88        88\n",
      "           1       0.65      0.82      0.72       114\n",
      "           2       0.59      0.33      0.43        57\n",
      "\n",
      "    accuracy                           0.72       259\n",
      "   macro avg       0.71      0.67      0.68       259\n",
      "weighted avg       0.72      0.72      0.71       259\n",
      "\n"
     ]
    }
   ],
   "source": [
    "# Train the stacking model and calculate accuracy.\n",
    "stack_model2, y_test_stack2, y_pred_stack2 = stacking(stack_train2, y_val2, stack_test2, y_test2, n_estimators=20)"
   ]
  },
  {
   "cell_type": "markdown",
   "metadata": {
    "id": "buYUiMklGBhw"
   },
   "source": [
    "## Dataset 3."
   ]
  },
  {
   "cell_type": "code",
   "execution_count": null,
   "metadata": {
    "colab": {
     "base_uri": "https://localhost:8080/"
    },
    "id": "D0Fz7vXDGFOo",
    "outputId": "0284dcf0-9607-4b7e-842e-fa2beedabd27"
   },
   "outputs": [
    {
     "name": "stdout",
     "output_type": "stream",
     "text": [
      "129/129 [==============================] - 1s 4ms/step\n",
      "4/4 [==============================] - 0s 5ms/step\n"
     ]
    }
   ],
   "source": [
    "# Creating stacked datasets for training and testing of stacking model.\n",
    "stack_train3 = create_stacking_dataset(best_model_lda3, best_model_rfa3, best_model_svm3, model_elman_3, x_val3)\n",
    "stack_test3 = create_stacking_dataset(best_model_lda3, best_model_rfa3, best_model_svm3, model_elman_3, x_test3)"
   ]
  },
  {
   "cell_type": "code",
   "execution_count": null,
   "metadata": {
    "colab": {
     "base_uri": "https://localhost:8080/"
    },
    "id": "Xu2ALadAlTVJ",
    "outputId": "63fec6e0-80c4-4038-893e-b9b8032c5b0c"
   },
   "outputs": [
    {
     "name": "stdout",
     "output_type": "stream",
     "text": [
      "Model accuracy score : 0.6500\n",
      "\n",
      "The scores for cross validation of gradient boosting are:\n",
      " [0.7 0.8 0.8 0.8 0.8 0.5 0.7 0.6 0.9 0.8]\n",
      "\n",
      "The mean score of gradient boosting is: 0.74\n",
      "\n",
      "              precision    recall  f1-score   support\n",
      "\n",
      "         0.0       0.81      0.86      0.83        29\n",
      "         1.0       0.79      0.59      0.67        56\n",
      "         2.0       0.29      0.47      0.36        15\n",
      "         3.0       0.00      0.00      0.00         0\n",
      "\n",
      "    accuracy                           0.65       100\n",
      "   macro avg       0.47      0.48      0.47       100\n",
      "weighted avg       0.72      0.65      0.67       100\n",
      "\n"
     ]
    },
    {
     "name": "stderr",
     "output_type": "stream",
     "text": [
      "/usr/local/lib/python3.10/dist-packages/sklearn/metrics/_classification.py:1344: UndefinedMetricWarning: Recall and F-score are ill-defined and being set to 0.0 in labels with no true samples. Use `zero_division` parameter to control this behavior.\n",
      "  _warn_prf(average, modifier, msg_start, len(result))\n",
      "/usr/local/lib/python3.10/dist-packages/sklearn/metrics/_classification.py:1344: UndefinedMetricWarning: Recall and F-score are ill-defined and being set to 0.0 in labels with no true samples. Use `zero_division` parameter to control this behavior.\n",
      "  _warn_prf(average, modifier, msg_start, len(result))\n",
      "/usr/local/lib/python3.10/dist-packages/sklearn/metrics/_classification.py:1344: UndefinedMetricWarning: Recall and F-score are ill-defined and being set to 0.0 in labels with no true samples. Use `zero_division` parameter to control this behavior.\n",
      "  _warn_prf(average, modifier, msg_start, len(result))\n"
     ]
    }
   ],
   "source": [
    "# Train the stacking model and calculate accuracy.\n",
    "stack_model3, y_test_stack3, y_pred_stack3 = stacking(stack_train3, y_val3, stack_test3, y_test3, n_estimators=20)"
   ]
  },
  {
   "cell_type": "markdown",
   "metadata": {
    "id": "LrygYZPqGKt7"
   },
   "source": [
    "## Dataset 4."
   ]
  },
  {
   "cell_type": "code",
   "execution_count": null,
   "metadata": {
    "colab": {
     "base_uri": "https://localhost:8080/"
    },
    "id": "Zgy1bQkOGP-W",
    "outputId": "e48216a3-2fa0-40b2-f356-77137824f4e4"
   },
   "outputs": [
    {
     "name": "stdout",
     "output_type": "stream",
     "text": [
      "329/329 [==============================] - 1s 4ms/step\n",
      "8/8 [==============================] - 0s 4ms/step\n"
     ]
    }
   ],
   "source": [
    "# Creating stacked datasets for training and testing of stacking model.\n",
    "stack_train4 = create_stacking_dataset(best_model_lda4, best_model_rfa4, best_model_svm4, model_elman_4, x_val4)\n",
    "stack_test4 = create_stacking_dataset(best_model_lda4, best_model_rfa4, best_model_svm4, model_elman_4, x_test4)"
   ]
  },
  {
   "cell_type": "code",
   "execution_count": null,
   "metadata": {
    "colab": {
     "base_uri": "https://localhost:8080/"
    },
    "id": "lJQLT4KZl8br",
    "outputId": "638a800c-6976-476b-9618-ca47d73b1e28"
   },
   "outputs": [
    {
     "name": "stdout",
     "output_type": "stream",
     "text": [
      "Model accuracy score : 0.6935\n",
      "\n",
      "The scores for cross validation of gradient boosting are:\n",
      " [0.76  0.68  0.64  0.76  0.88  0.8   0.76  0.76  0.75  0.875]\n",
      "\n",
      "The mean score of gradient boosting is: 0.7665\n",
      "\n",
      "              precision    recall  f1-score   support\n",
      "\n",
      "         0.0       0.94      0.91      0.92        80\n",
      "         1.0       0.73      0.67      0.70       101\n",
      "         2.0       0.57      0.46      0.51        67\n",
      "         3.0       0.00      0.00      0.00         0\n",
      "\n",
      "    accuracy                           0.69       248\n",
      "   macro avg       0.56      0.51      0.53       248\n",
      "weighted avg       0.75      0.69      0.72       248\n",
      "\n"
     ]
    },
    {
     "name": "stderr",
     "output_type": "stream",
     "text": [
      "/usr/local/lib/python3.10/dist-packages/sklearn/metrics/_classification.py:1344: UndefinedMetricWarning: Recall and F-score are ill-defined and being set to 0.0 in labels with no true samples. Use `zero_division` parameter to control this behavior.\n",
      "  _warn_prf(average, modifier, msg_start, len(result))\n",
      "/usr/local/lib/python3.10/dist-packages/sklearn/metrics/_classification.py:1344: UndefinedMetricWarning: Recall and F-score are ill-defined and being set to 0.0 in labels with no true samples. Use `zero_division` parameter to control this behavior.\n",
      "  _warn_prf(average, modifier, msg_start, len(result))\n",
      "/usr/local/lib/python3.10/dist-packages/sklearn/metrics/_classification.py:1344: UndefinedMetricWarning: Recall and F-score are ill-defined and being set to 0.0 in labels with no true samples. Use `zero_division` parameter to control this behavior.\n",
      "  _warn_prf(average, modifier, msg_start, len(result))\n"
     ]
    }
   ],
   "source": [
    "# Train the stacking model and calculate accuracy.\n",
    "stack_model4, y_test_stack4, y_pred_stack4 = stacking(stack_train4, y_val4, stack_test4, y_test4 , n_estimators=100)"
   ]
  },
  {
   "cell_type": "code",
   "execution_count": null,
   "metadata": {
    "id": "RAV1cTcHv3Me"
   },
   "outputs": [],
   "source": [
    "stack_test = [y_test_stack1, y_test_stack2, y_test_stack3, y_test_stack4]\n",
    "stack_pred = [y_pred_stack1, y_pred_stack2, y_pred_stack3, y_pred_stack4]\n",
    "filehandler = open(b\"/content/drive/MyDrive/classiff_results/stacking_preds.pkl\",\"wb\")\n",
    "pickle.dump((stack_test, stack_pred),filehandler)\n"
   ]
  }
 ],
 "metadata": {
  "accelerator": "GPU",
  "colab": {
   "collapsed_sections": [
    "lomAgg3CtRlB"
   ],
   "gpuType": "V100",
   "machine_shape": "hm",
   "provenance": [],
   "toc_visible": true
  },
  "kernelspec": {
   "display_name": "Python 3 (ipykernel)",
   "language": "python",
   "name": "python3"
  },
  "language_info": {
   "codemirror_mode": {
    "name": "ipython",
    "version": 3
   },
   "file_extension": ".py",
   "mimetype": "text/x-python",
   "name": "python",
   "nbconvert_exporter": "python",
   "pygments_lexer": "ipython3",
   "version": "3.11.6"
  }
 },
 "nbformat": 4,
 "nbformat_minor": 4
}
